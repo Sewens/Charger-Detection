{
 "cells": [
  {
   "cell_type": "markdown",
   "id": "3e8f3bff",
   "metadata": {},
   "source": [
    "# 决策边界绘图\n",
    "\n",
    "选取一对特征，绘制当前点在其上的决策边界，并结合测试集数据进行分析"
   ]
  },
  {
   "cell_type": "markdown",
   "id": "f55c5c50",
   "metadata": {
    "jp-MarkdownHeadingCollapsed": true
   },
   "source": [
    "# 240403更新\n",
    "\n",
    "将notebook配置为读取配置文件之后决定特征列表名称以及标签名称，以便于响应变化快速的数据情况"
   ]
  },
  {
   "cell_type": "code",
   "execution_count": 1,
   "id": "53fe09bc",
   "metadata": {},
   "outputs": [],
   "source": [
    "import sklearn\n",
    "import pandas as pd\n",
    "import numpy as np\n",
    "import time\n",
    "import random\n",
    "import pickle"
   ]
  },
  {
   "cell_type": "code",
   "execution_count": 2,
   "id": "8b87e6e5",
   "metadata": {},
   "outputs": [],
   "source": [
    "import json"
   ]
  },
  {
   "cell_type": "markdown",
   "id": "6056dd1c",
   "metadata": {},
   "source": [
    "# 0. 读取数据\n",
    "\n",
    "读取数据并转换为机器学习可用的矩阵（numpy格式）\n",
    "\n",
    "**240403更新，现在机器学习部分会读取`data/settings`文件夹中的`feature.json`和`label.json`文件作为特征以及标签的字段名**\n",
    "\n",
    "二者与读取进来的文件中相关字段应该是匹配的。"
   ]
  },
  {
   "cell_type": "code",
   "execution_count": 3,
   "id": "e149cc52",
   "metadata": {},
   "outputs": [],
   "source": [
    "feature_settings_fpath = '../data/settings/feature.json'\n",
    "label_settings_fpath = '../data/settings/label.json'"
   ]
  },
  {
   "cell_type": "code",
   "execution_count": 4,
   "id": "516605c1",
   "metadata": {
    "scrolled": true
   },
   "outputs": [],
   "source": [
    "with open(feature_settings_fpath, 'r',encoding='utf-8') as file:\n",
    "    feature_dict = json.load(file)"
   ]
  },
  {
   "cell_type": "code",
   "execution_count": 5,
   "id": "382287de",
   "metadata": {},
   "outputs": [],
   "source": [
    "with open(label_settings_fpath, 'r',encoding='utf-8') as file:\n",
    "    label_dict = json.load(file)"
   ]
  },
  {
   "cell_type": "code",
   "execution_count": 6,
   "id": "ca8a32ce",
   "metadata": {},
   "outputs": [
    {
     "data": {
      "text/plain": [
       "{'index': [0, 1]}"
      ]
     },
     "execution_count": 6,
     "metadata": {},
     "output_type": "execute_result"
    }
   ],
   "source": [
    "label_dict"
   ]
  },
  {
   "cell_type": "code",
   "execution_count": 7,
   "id": "660388d2",
   "metadata": {},
   "outputs": [
    {
     "data": {
      "text/plain": [
       "{'q/qm': [0, 200],\n",
       " 'ploss': [-10000, 10000],\n",
       " 'fre': [110000, 150000],\n",
       " 'vpa': [0, 400000],\n",
       " 'papower': [0, 65000],\n",
       " 'ch': [0, 8],\n",
       " 'ce': [-127, 128],\n",
       " 'rppower': [0, 65000],\n",
       " 'ss': [0, 255],\n",
       " 'eff': [0, 1.3]}"
      ]
     },
     "execution_count": 7,
     "metadata": {},
     "output_type": "execute_result"
    }
   ],
   "source": [
    "feature_dict"
   ]
  },
  {
   "cell_type": "code",
   "execution_count": 8,
   "id": "4510a7ef",
   "metadata": {},
   "outputs": [],
   "source": [
    "# 训练集数据路径\n",
    "train_fpath = '../data/test_data/train_240409.xlsx'\n",
    "# 测试集数据路径\n",
    "test_fpath = '../data/test_data/test_240409.xlsx'"
   ]
  },
  {
   "cell_type": "code",
   "execution_count": 9,
   "id": "92db7d69",
   "metadata": {
    "scrolled": true
   },
   "outputs": [],
   "source": [
    "train_df = pd.read_excel(train_fpath)\n",
    "test_df = pd.read_excel(test_fpath)"
   ]
  },
  {
   "cell_type": "code",
   "execution_count": 10,
   "id": "3464cf41",
   "metadata": {},
   "outputs": [
    {
     "data": {
      "text/html": [
       "<div>\n",
       "<style scoped>\n",
       "    .dataframe tbody tr th:only-of-type {\n",
       "        vertical-align: middle;\n",
       "    }\n",
       "\n",
       "    .dataframe tbody tr th {\n",
       "        vertical-align: top;\n",
       "    }\n",
       "\n",
       "    .dataframe thead th {\n",
       "        text-align: right;\n",
       "    }\n",
       "</style>\n",
       "<table border=\"1\" class=\"dataframe\">\n",
       "  <thead>\n",
       "    <tr style=\"text-align: right;\">\n",
       "      <th></th>\n",
       "      <th>index</th>\n",
       "      <th>Q/Qm</th>\n",
       "      <th>ploss</th>\n",
       "      <th>fre</th>\n",
       "      <th>Vpa</th>\n",
       "      <th>Papower</th>\n",
       "      <th>ch</th>\n",
       "      <th>CE</th>\n",
       "      <th>RPpower</th>\n",
       "      <th>SS</th>\n",
       "      <th>eff</th>\n",
       "    </tr>\n",
       "  </thead>\n",
       "  <tbody>\n",
       "    <tr>\n",
       "      <th>0</th>\n",
       "      <td>0</td>\n",
       "      <td>112</td>\n",
       "      <td>-1171</td>\n",
       "      <td>143000</td>\n",
       "      <td>11945</td>\n",
       "      <td>2723</td>\n",
       "      <td>8</td>\n",
       "      <td>-8</td>\n",
       "      <td>2500</td>\n",
       "      <td>145</td>\n",
       "      <td>0.918105</td>\n",
       "    </tr>\n",
       "    <tr>\n",
       "      <th>1</th>\n",
       "      <td>0</td>\n",
       "      <td>112</td>\n",
       "      <td>-1247</td>\n",
       "      <td>145000</td>\n",
       "      <td>18709</td>\n",
       "      <td>7240</td>\n",
       "      <td>7</td>\n",
       "      <td>0</td>\n",
       "      <td>6350</td>\n",
       "      <td>145</td>\n",
       "      <td>0.877072</td>\n",
       "    </tr>\n",
       "    <tr>\n",
       "      <th>2</th>\n",
       "      <td>0</td>\n",
       "      <td>112</td>\n",
       "      <td>-1183</td>\n",
       "      <td>145000</td>\n",
       "      <td>23712</td>\n",
       "      <td>29189</td>\n",
       "      <td>7</td>\n",
       "      <td>1</td>\n",
       "      <td>25677</td>\n",
       "      <td>145</td>\n",
       "      <td>0.879681</td>\n",
       "    </tr>\n",
       "    <tr>\n",
       "      <th>3</th>\n",
       "      <td>0</td>\n",
       "      <td>112</td>\n",
       "      <td>-1635</td>\n",
       "      <td>145000</td>\n",
       "      <td>24495</td>\n",
       "      <td>35811</td>\n",
       "      <td>8</td>\n",
       "      <td>0</td>\n",
       "      <td>32095</td>\n",
       "      <td>145</td>\n",
       "      <td>0.896233</td>\n",
       "    </tr>\n",
       "    <tr>\n",
       "      <th>4</th>\n",
       "      <td>0</td>\n",
       "      <td>112</td>\n",
       "      <td>-1453</td>\n",
       "      <td>145000</td>\n",
       "      <td>25403</td>\n",
       "      <td>44175</td>\n",
       "      <td>8</td>\n",
       "      <td>2</td>\n",
       "      <td>40329</td>\n",
       "      <td>145</td>\n",
       "      <td>0.912937</td>\n",
       "    </tr>\n",
       "    <tr>\n",
       "      <th>...</th>\n",
       "      <td>...</td>\n",
       "      <td>...</td>\n",
       "      <td>...</td>\n",
       "      <td>...</td>\n",
       "      <td>...</td>\n",
       "      <td>...</td>\n",
       "      <td>...</td>\n",
       "      <td>...</td>\n",
       "      <td>...</td>\n",
       "      <td>...</td>\n",
       "      <td>...</td>\n",
       "    </tr>\n",
       "    <tr>\n",
       "      <th>403</th>\n",
       "      <td>0</td>\n",
       "      <td>96</td>\n",
       "      <td>-809</td>\n",
       "      <td>145000</td>\n",
       "      <td>26079</td>\n",
       "      <td>45794</td>\n",
       "      <td>7</td>\n",
       "      <td>1</td>\n",
       "      <td>40852</td>\n",
       "      <td>146</td>\n",
       "      <td>0.892082</td>\n",
       "    </tr>\n",
       "    <tr>\n",
       "      <th>404</th>\n",
       "      <td>0</td>\n",
       "      <td>96</td>\n",
       "      <td>-756</td>\n",
       "      <td>145000</td>\n",
       "      <td>26151</td>\n",
       "      <td>46104</td>\n",
       "      <td>6</td>\n",
       "      <td>2</td>\n",
       "      <td>41059</td>\n",
       "      <td>146</td>\n",
       "      <td>0.890573</td>\n",
       "    </tr>\n",
       "    <tr>\n",
       "      <th>405</th>\n",
       "      <td>0</td>\n",
       "      <td>96</td>\n",
       "      <td>-747</td>\n",
       "      <td>145000</td>\n",
       "      <td>26151</td>\n",
       "      <td>46051</td>\n",
       "      <td>7</td>\n",
       "      <td>2</td>\n",
       "      <td>40997</td>\n",
       "      <td>146</td>\n",
       "      <td>0.890252</td>\n",
       "    </tr>\n",
       "    <tr>\n",
       "      <th>406</th>\n",
       "      <td>0</td>\n",
       "      <td>96</td>\n",
       "      <td>-733</td>\n",
       "      <td>145000</td>\n",
       "      <td>26151</td>\n",
       "      <td>46025</td>\n",
       "      <td>7</td>\n",
       "      <td>3</td>\n",
       "      <td>40957</td>\n",
       "      <td>146</td>\n",
       "      <td>0.889886</td>\n",
       "    </tr>\n",
       "    <tr>\n",
       "      <th>407</th>\n",
       "      <td>0</td>\n",
       "      <td>96</td>\n",
       "      <td>-763</td>\n",
       "      <td>145000</td>\n",
       "      <td>26151</td>\n",
       "      <td>45947</td>\n",
       "      <td>7</td>\n",
       "      <td>2</td>\n",
       "      <td>40899</td>\n",
       "      <td>146</td>\n",
       "      <td>0.890134</td>\n",
       "    </tr>\n",
       "  </tbody>\n",
       "</table>\n",
       "<p>408 rows × 11 columns</p>\n",
       "</div>"
      ],
      "text/plain": [
       "     index  Q/Qm  ploss     fre    Vpa  Papower  ch  CE  RPpower   SS  \\\n",
       "0        0   112  -1171  143000  11945     2723   8  -8     2500  145   \n",
       "1        0   112  -1247  145000  18709     7240   7   0     6350  145   \n",
       "2        0   112  -1183  145000  23712    29189   7   1    25677  145   \n",
       "3        0   112  -1635  145000  24495    35811   8   0    32095  145   \n",
       "4        0   112  -1453  145000  25403    44175   8   2    40329  145   \n",
       "..     ...   ...    ...     ...    ...      ...  ..  ..      ...  ...   \n",
       "403      0    96   -809  145000  26079    45794   7   1    40852  146   \n",
       "404      0    96   -756  145000  26151    46104   6   2    41059  146   \n",
       "405      0    96   -747  145000  26151    46051   7   2    40997  146   \n",
       "406      0    96   -733  145000  26151    46025   7   3    40957  146   \n",
       "407      0    96   -763  145000  26151    45947   7   2    40899  146   \n",
       "\n",
       "          eff  \n",
       "0    0.918105  \n",
       "1    0.877072  \n",
       "2    0.879681  \n",
       "3    0.896233  \n",
       "4    0.912937  \n",
       "..        ...  \n",
       "403  0.892082  \n",
       "404  0.890573  \n",
       "405  0.890252  \n",
       "406  0.889886  \n",
       "407  0.890134  \n",
       "\n",
       "[408 rows x 11 columns]"
      ]
     },
     "execution_count": 10,
     "metadata": {},
     "output_type": "execute_result"
    }
   ],
   "source": [
    "train_df"
   ]
  },
  {
   "cell_type": "markdown",
   "id": "13b6788d",
   "metadata": {},
   "source": [
    "#### 将所有columns名转换为小写"
   ]
  },
  {
   "cell_type": "code",
   "execution_count": 11,
   "id": "797d5d71",
   "metadata": {},
   "outputs": [],
   "source": [
    "train_df.columns = [i.lower() for i in train_df.columns]\n",
    "test_df.columns = [i.lower() for i in test_df.columns]"
   ]
  },
  {
   "cell_type": "markdown",
   "id": "ae96d9f7",
   "metadata": {},
   "source": [
    "#### 兼容之前的代码写法"
   ]
  },
  {
   "cell_type": "code",
   "execution_count": 12,
   "id": "3456423a",
   "metadata": {},
   "outputs": [],
   "source": [
    "feature_columns = [i for i in list(feature_dict.keys())if i in train_df.columns]"
   ]
  },
  {
   "cell_type": "code",
   "execution_count": 13,
   "id": "1ee20d03",
   "metadata": {},
   "outputs": [],
   "source": [
    "feature_key_lst = feature_columns"
   ]
  },
  {
   "cell_type": "code",
   "execution_count": 14,
   "id": "da13b135",
   "metadata": {},
   "outputs": [],
   "source": [
    "feature_range_dict = feature_dict"
   ]
  },
  {
   "cell_type": "code",
   "execution_count": 15,
   "id": "d347e9b5",
   "metadata": {},
   "outputs": [],
   "source": [
    "label_key = list(label_dict.keys())[0]"
   ]
  },
  {
   "cell_type": "markdown",
   "id": "676415de",
   "metadata": {},
   "source": [
    "# 1. 缺失数据补全（todo）\n",
    "\n",
    "如果存在部分列数据缺失，在这一步骤进行数据的补全以便于减少这部分缺失数据的影响。"
   ]
  },
  {
   "cell_type": "markdown",
   "id": "58385d4c",
   "metadata": {},
   "source": [
    "### 1.1 补全为0\n",
    "\n",
    "缺失数据全部用`0`补全"
   ]
  },
  {
   "cell_type": "code",
   "execution_count": 16,
   "id": "9fff2772",
   "metadata": {},
   "outputs": [],
   "source": [
    "for col in train_df.columns:\n",
    "    train_df[col] = train_df[col].fillna(0)\n",
    "    test_df[col] = test_df[col].fillna(0)"
   ]
  },
  {
   "cell_type": "markdown",
   "id": "f946d918",
   "metadata": {},
   "source": [
    "# 2. 特征处理\n",
    "\n",
    "这一步骤针对每列特征进行处理，处理手段有很多种，例如数据分桶，数据扩展，数据统计等等，此处只对数据进行归一化放缩，使得所有特征值范围均在`0,1`之间，以便于机器学习模型学习的稳定性。\n",
    "\n",
    "后续根据问题的深入程度不同，可以将更多的特征处理手段应用在这一步骤，来增强整体机器学习系统的表现。"
   ]
  },
  {
   "cell_type": "markdown",
   "id": "08c57f14",
   "metadata": {},
   "source": [
    "## 2.1 数据归一化\n",
    "\n",
    "根据特征值范围，将现有特征放缩到`(0,1)`之间"
   ]
  },
  {
   "cell_type": "code",
   "execution_count": 17,
   "id": "c9545122",
   "metadata": {},
   "outputs": [],
   "source": [
    "for k in feature_key_lst:\n",
    "    if k not in train_df.columns:\n",
    "        continue\n",
    "    # 数据范围上界\n",
    "    ub = feature_range_dict[k][0]\n",
    "    # 数据范围下界\n",
    "    lb = feature_range_dict[k][1]\n",
    "    \n",
    "    train_df[k] = train_df[k].apply(lambda x:(x-lb)/(ub-lb))\n",
    "    test_df[k] = test_df[k].apply(lambda x:(x-lb)/(ub-lb))"
   ]
  },
  {
   "cell_type": "markdown",
   "id": "87f019f0",
   "metadata": {},
   "source": [
    "## 2.2 输出特征矩阵\n",
    "\n",
    "输出训练特征矩阵分别为：`train_X`和`test_X`，测试标签为`train_y`和`test_y`。"
   ]
  },
  {
   "cell_type": "code",
   "execution_count": 18,
   "id": "214d4ca7",
   "metadata": {
    "scrolled": true
   },
   "outputs": [],
   "source": [
    "train_X = train_df[feature_key_lst].to_numpy()"
   ]
  },
  {
   "cell_type": "code",
   "execution_count": 19,
   "id": "4fb487a0",
   "metadata": {},
   "outputs": [
    {
     "data": {
      "text/plain": [
       "(408, 10)"
      ]
     },
     "execution_count": 19,
     "metadata": {},
     "output_type": "execute_result"
    }
   ],
   "source": [
    "train_X.shape"
   ]
  },
  {
   "cell_type": "code",
   "execution_count": 20,
   "id": "052e89d6",
   "metadata": {},
   "outputs": [],
   "source": [
    "test_X = test_df[feature_key_lst].to_numpy()"
   ]
  },
  {
   "cell_type": "code",
   "execution_count": 21,
   "id": "efac5511",
   "metadata": {},
   "outputs": [
    {
     "data": {
      "text/plain": [
       "(83, 10)"
      ]
     },
     "execution_count": 21,
     "metadata": {},
     "output_type": "execute_result"
    }
   ],
   "source": [
    "test_X.shape"
   ]
  },
  {
   "cell_type": "code",
   "execution_count": 22,
   "id": "fbd35a3a",
   "metadata": {},
   "outputs": [],
   "source": [
    "train_y = train_df[label_key].to_numpy()\n",
    "test_y = test_df[label_key].to_numpy()"
   ]
  },
  {
   "cell_type": "markdown",
   "id": "dbc38536",
   "metadata": {},
   "source": [
    "# 3. 模型学习\n",
    "\n",
    "使用`sklearn`工具库自带的机器学习模型对训练数据进行拟合，并在测试数据上测试，评价指标为`precision`,`recall`,`f1_score`,`accuracy`。\n",
    "\n",
    "不同模型的调参方法不同，可以根据需要进行参数调整。"
   ]
  },
  {
   "cell_type": "markdown",
   "id": "72499dbd",
   "metadata": {},
   "source": [
    "## 3.0 引入评价指标"
   ]
  },
  {
   "cell_type": "code",
   "execution_count": 23,
   "id": "d8933f3b",
   "metadata": {},
   "outputs": [],
   "source": [
    "from sklearn.metrics import precision_score,recall_score,f1_score,accuracy_score"
   ]
  },
  {
   "cell_type": "markdown",
   "id": "dafa58ee",
   "metadata": {},
   "source": [
    "## 3.5 LGB"
   ]
  },
  {
   "cell_type": "code",
   "execution_count": 24,
   "id": "a26e679e",
   "metadata": {},
   "outputs": [],
   "source": [
    "from lightgbm import LGBMClassifier"
   ]
  },
  {
   "cell_type": "code",
   "execution_count": 25,
   "id": "49ffb2ec",
   "metadata": {},
   "outputs": [],
   "source": [
    "# 设置分类阈值 超过该值的分类为1\n",
    "threshold = 0.5"
   ]
  },
  {
   "cell_type": "code",
   "execution_count": 26,
   "id": "1e8c7c5e",
   "metadata": {},
   "outputs": [],
   "source": [
    "model = LGBMClassifier(verbosity=-1\n",
    ")"
   ]
  },
  {
   "cell_type": "code",
   "execution_count": 27,
   "id": "7f198748",
   "metadata": {
    "scrolled": true
   },
   "outputs": [
    {
     "data": {
      "text/html": [
       "<style>#sk-container-id-1 {color: black;background-color: white;}#sk-container-id-1 pre{padding: 0;}#sk-container-id-1 div.sk-toggleable {background-color: white;}#sk-container-id-1 label.sk-toggleable__label {cursor: pointer;display: block;width: 100%;margin-bottom: 0;padding: 0.3em;box-sizing: border-box;text-align: center;}#sk-container-id-1 label.sk-toggleable__label-arrow:before {content: \"▸\";float: left;margin-right: 0.25em;color: #696969;}#sk-container-id-1 label.sk-toggleable__label-arrow:hover:before {color: black;}#sk-container-id-1 div.sk-estimator:hover label.sk-toggleable__label-arrow:before {color: black;}#sk-container-id-1 div.sk-toggleable__content {max-height: 0;max-width: 0;overflow: hidden;text-align: left;background-color: #f0f8ff;}#sk-container-id-1 div.sk-toggleable__content pre {margin: 0.2em;color: black;border-radius: 0.25em;background-color: #f0f8ff;}#sk-container-id-1 input.sk-toggleable__control:checked~div.sk-toggleable__content {max-height: 200px;max-width: 100%;overflow: auto;}#sk-container-id-1 input.sk-toggleable__control:checked~label.sk-toggleable__label-arrow:before {content: \"▾\";}#sk-container-id-1 div.sk-estimator input.sk-toggleable__control:checked~label.sk-toggleable__label {background-color: #d4ebff;}#sk-container-id-1 div.sk-label input.sk-toggleable__control:checked~label.sk-toggleable__label {background-color: #d4ebff;}#sk-container-id-1 input.sk-hidden--visually {border: 0;clip: rect(1px 1px 1px 1px);clip: rect(1px, 1px, 1px, 1px);height: 1px;margin: -1px;overflow: hidden;padding: 0;position: absolute;width: 1px;}#sk-container-id-1 div.sk-estimator {font-family: monospace;background-color: #f0f8ff;border: 1px dotted black;border-radius: 0.25em;box-sizing: border-box;margin-bottom: 0.5em;}#sk-container-id-1 div.sk-estimator:hover {background-color: #d4ebff;}#sk-container-id-1 div.sk-parallel-item::after {content: \"\";width: 100%;border-bottom: 1px solid gray;flex-grow: 1;}#sk-container-id-1 div.sk-label:hover label.sk-toggleable__label {background-color: #d4ebff;}#sk-container-id-1 div.sk-serial::before {content: \"\";position: absolute;border-left: 1px solid gray;box-sizing: border-box;top: 0;bottom: 0;left: 50%;z-index: 0;}#sk-container-id-1 div.sk-serial {display: flex;flex-direction: column;align-items: center;background-color: white;padding-right: 0.2em;padding-left: 0.2em;position: relative;}#sk-container-id-1 div.sk-item {position: relative;z-index: 1;}#sk-container-id-1 div.sk-parallel {display: flex;align-items: stretch;justify-content: center;background-color: white;position: relative;}#sk-container-id-1 div.sk-item::before, #sk-container-id-1 div.sk-parallel-item::before {content: \"\";position: absolute;border-left: 1px solid gray;box-sizing: border-box;top: 0;bottom: 0;left: 50%;z-index: -1;}#sk-container-id-1 div.sk-parallel-item {display: flex;flex-direction: column;z-index: 1;position: relative;background-color: white;}#sk-container-id-1 div.sk-parallel-item:first-child::after {align-self: flex-end;width: 50%;}#sk-container-id-1 div.sk-parallel-item:last-child::after {align-self: flex-start;width: 50%;}#sk-container-id-1 div.sk-parallel-item:only-child::after {width: 0;}#sk-container-id-1 div.sk-dashed-wrapped {border: 1px dashed gray;margin: 0 0.4em 0.5em 0.4em;box-sizing: border-box;padding-bottom: 0.4em;background-color: white;}#sk-container-id-1 div.sk-label label {font-family: monospace;font-weight: bold;display: inline-block;line-height: 1.2em;}#sk-container-id-1 div.sk-label-container {text-align: center;}#sk-container-id-1 div.sk-container {/* jupyter's `normalize.less` sets `[hidden] { display: none; }` but bootstrap.min.css set `[hidden] { display: none !important; }` so we also need the `!important` here to be able to override the default hidden behavior on the sphinx rendered scikit-learn.org. See: https://github.com/scikit-learn/scikit-learn/issues/21755 */display: inline-block !important;position: relative;}#sk-container-id-1 div.sk-text-repr-fallback {display: none;}</style><div id=\"sk-container-id-1\" class=\"sk-top-container\"><div class=\"sk-text-repr-fallback\"><pre>LGBMClassifier(verbosity=-1)</pre><b>In a Jupyter environment, please rerun this cell to show the HTML representation or trust the notebook. <br />On GitHub, the HTML representation is unable to render, please try loading this page with nbviewer.org.</b></div><div class=\"sk-container\" hidden><div class=\"sk-item\"><div class=\"sk-estimator sk-toggleable\"><input class=\"sk-toggleable__control sk-hidden--visually\" id=\"sk-estimator-id-1\" type=\"checkbox\" checked><label for=\"sk-estimator-id-1\" class=\"sk-toggleable__label sk-toggleable__label-arrow\">LGBMClassifier</label><div class=\"sk-toggleable__content\"><pre>LGBMClassifier(verbosity=-1)</pre></div></div></div></div></div>"
      ],
      "text/plain": [
       "LGBMClassifier(verbosity=-1)"
      ]
     },
     "execution_count": 27,
     "metadata": {},
     "output_type": "execute_result"
    }
   ],
   "source": [
    "model.fit(train_X,train_y)"
   ]
  },
  {
   "cell_type": "code",
   "execution_count": 28,
   "id": "f75aa27a",
   "metadata": {},
   "outputs": [],
   "source": [
    "pred_y = model.predict(test_X)"
   ]
  },
  {
   "cell_type": "code",
   "execution_count": 29,
   "id": "520071e2",
   "metadata": {},
   "outputs": [],
   "source": [
    "pred_test_y = np.array([1 if i>threshold else 0 for i in pred_y])"
   ]
  },
  {
   "cell_type": "code",
   "execution_count": 30,
   "id": "9e986553",
   "metadata": {},
   "outputs": [],
   "source": [
    "pred_train = model.predict(train_X)"
   ]
  },
  {
   "cell_type": "code",
   "execution_count": 31,
   "id": "91918edb",
   "metadata": {},
   "outputs": [],
   "source": [
    "pred_train_y = np.array([1 if i>threshold else 0 for i in pred_train])"
   ]
  },
  {
   "cell_type": "markdown",
   "id": "d8a0267d",
   "metadata": {},
   "source": [
    "### 训练集分数"
   ]
  },
  {
   "cell_type": "code",
   "execution_count": 32,
   "id": "61f6b6df",
   "metadata": {},
   "outputs": [],
   "source": [
    "p_score = precision_score(train_y, pred_train_y)\n",
    "r_score = recall_score(train_y, pred_train_y)\n",
    "f_score = f1_score(train_y, pred_train_y)\n",
    "acc_score = accuracy_score(train_y, pred_train_y)"
   ]
  },
  {
   "cell_type": "markdown",
   "id": "d13541fd",
   "metadata": {},
   "source": [
    "### 训练集结果"
   ]
  },
  {
   "cell_type": "code",
   "execution_count": 33,
   "id": "cc1f6515",
   "metadata": {},
   "outputs": [
    {
     "name": "stdout",
     "output_type": "stream",
     "text": [
      "Model:LGBMClassifier(verbosity=-1), Recall:1.0, Precision:1.0 F1:1.0 Accuracy:1.0\n"
     ]
    }
   ],
   "source": [
    "print(f'Model:{model.__str__()}, Recall:{r_score:.4}, Precision:{p_score:.4} F1:{f_score:.4} Accuracy:{acc_score:.4}')"
   ]
  },
  {
   "cell_type": "code",
   "execution_count": 34,
   "id": "cffb0659",
   "metadata": {},
   "outputs": [
    {
     "data": {
      "text/plain": [
       "array([0, 0, 0, 0, 0, 0, 0, 0, 0, 0, 0, 0, 0, 0, 0, 0, 0, 0, 0, 0, 0, 0,\n",
       "       0, 0, 0, 0, 0, 0, 0, 0, 0, 0, 0, 0, 0, 0, 0, 0, 0, 0, 0, 0, 0, 0,\n",
       "       0, 0, 0, 0, 0, 0, 0, 0, 0, 0, 0, 0, 0, 0, 0, 0, 0, 0, 0, 0, 0, 0,\n",
       "       0, 0, 0, 0, 0, 0, 1, 1, 1, 1, 1, 1, 1, 1, 1, 1, 1, 1, 1, 1, 1, 1,\n",
       "       1, 1, 1, 1, 1, 1, 1, 1, 1, 1, 1, 1, 1, 1, 1, 1, 1, 1, 1, 1, 1, 1,\n",
       "       1, 1, 1, 1, 1, 1, 1, 1, 1, 1, 1, 1, 1, 1, 1, 1, 1, 1, 1, 1, 1, 1,\n",
       "       0, 0, 0, 0, 0, 0, 0, 0, 0, 0, 0, 0, 0, 0, 0, 0, 0, 0, 0, 0, 0, 0,\n",
       "       0, 0, 0, 0, 0, 0, 0, 0, 0, 0, 0, 0, 0, 0, 0, 0, 0, 0, 0, 0, 0, 0,\n",
       "       0, 0, 0, 0, 1, 1, 1, 1, 1, 1, 1, 1, 1, 1, 1, 1, 1, 1, 1, 1, 1, 1,\n",
       "       1, 1, 1, 1, 1, 1, 1, 1, 1, 1, 1, 1, 1, 1, 1, 1, 1, 1, 1, 1, 1, 1,\n",
       "       1, 1, 1, 1, 1, 1, 1, 1, 1, 1, 1, 1, 1, 1, 1, 1, 1, 1, 1, 1, 1, 1,\n",
       "       1, 1, 1, 1, 1, 1, 1, 1, 1, 1, 1, 1, 1, 1, 1, 1, 1, 1, 1, 1, 1, 1,\n",
       "       0, 0, 0, 0, 0, 0, 0, 0, 0, 0, 0, 0, 0, 0, 0, 0, 0, 0, 0, 0, 0, 0,\n",
       "       0, 0, 0, 0, 0, 0, 0, 0, 0, 0, 0, 0, 0, 0, 1, 1, 1, 1, 1, 1, 1, 1,\n",
       "       1, 1, 1, 1, 1, 1, 1, 1, 1, 1, 1, 1, 1, 1, 1, 1, 1, 1, 1, 1, 1, 1,\n",
       "       1, 1, 1, 1, 1, 1, 1, 1, 1, 1, 1, 1, 1, 1, 1, 1, 1, 1, 1, 1, 1, 1,\n",
       "       1, 1, 1, 1, 1, 1, 1, 1, 1, 1, 1, 1, 1, 1, 1, 1, 1, 1, 1, 1, 1, 1,\n",
       "       1, 1, 1, 1, 1, 1, 1, 1, 1, 1, 1, 1, 1, 1, 1, 1, 1, 1, 1, 1, 1, 1,\n",
       "       0, 0, 0, 0, 0, 0, 0, 0, 0, 0, 0, 0])"
      ]
     },
     "execution_count": 34,
     "metadata": {},
     "output_type": "execute_result"
    }
   ],
   "source": [
    "pred_train_y"
   ]
  },
  {
   "cell_type": "markdown",
   "id": "3f10930d",
   "metadata": {},
   "source": [
    "### 测试集分数"
   ]
  },
  {
   "cell_type": "code",
   "execution_count": 35,
   "id": "702e6d45",
   "metadata": {},
   "outputs": [],
   "source": [
    "p_score = precision_score(test_y, pred_test_y)\n",
    "r_score = recall_score(test_y, pred_test_y)\n",
    "f_score = f1_score(test_y, pred_test_y)\n",
    "acc_score = accuracy_score(test_y, pred_test_y)"
   ]
  },
  {
   "cell_type": "markdown",
   "id": "7ef9ad58",
   "metadata": {},
   "source": [
    "### 测试集结果"
   ]
  },
  {
   "cell_type": "code",
   "execution_count": 37,
   "id": "2a5a11d2",
   "metadata": {},
   "outputs": [
    {
     "name": "stdout",
     "output_type": "stream",
     "text": [
      "Model:LGBMClassifier(verbosity=-1), Recall:0.9535, Precision:0.9535 F1:0.9535 Accuracy:0.9518\n"
     ]
    }
   ],
   "source": [
    "print(f'Model:{model.__str__()}, Recall:{r_score:.4}, Precision:{p_score:.4} F1:{f_score:.4} Accuracy:{acc_score:.4}')"
   ]
  },
  {
   "cell_type": "code",
   "execution_count": 38,
   "id": "355456ab",
   "metadata": {},
   "outputs": [
    {
     "data": {
      "text/plain": [
       "array([0, 0, 0, 1, 0, 0, 1, 1, 0, 0, 0, 1, 1, 1, 0, 0, 0, 0, 1, 1, 1, 1,\n",
       "       1, 1, 1, 0, 0, 0, 1, 0, 0, 0, 0, 0, 0, 0, 0, 0, 0, 0, 0, 0, 0, 0,\n",
       "       0, 0, 0, 0, 0, 0, 0, 0, 0, 0, 1, 1, 1, 1, 1, 1, 1, 1, 1, 1, 1, 1,\n",
       "       1, 1, 1, 1, 1, 1, 1, 1, 1, 1, 1, 1, 1, 1, 1, 1, 1])"
      ]
     },
     "execution_count": 38,
     "metadata": {},
     "output_type": "execute_result"
    }
   ],
   "source": [
    "pred_test_y"
   ]
  },
  {
   "cell_type": "markdown",
   "id": "133b0a43",
   "metadata": {},
   "source": [
    "# 4. 绘制决策边界图\n",
    "\n",
    "绘制决策边界，图像需要是2D图像并且需要打点，需要几种不同的绘图方案，搭配不同的学习模型来决定。\n",
    "\n",
    "模型部分：`线性回归`、`决策树`、`SVM`、`GBDT`\n",
    "\n",
    "绘图策略部分：\n",
    "\n",
    "1. 每次用模型只学习两组特征，结合两组特征和训练集上的预测情况进行绘图，画出边界，之后测试集数据选取对应两组，预测打点\n",
    "\n",
    "2. 使用全部特征进行训练，绘图时只选择两组特征进行绘图，将训练集数据打点之后用`contourf`函数来绘制边界以及测试集数据打点\n",
    "\n",
    "3. 使用全部特征训练，使用`PCA`降维，将特征空间压缩到2D，绘图，之后测试集使用同样的`PCA`对象进行降维，打点"
   ]
  },
  {
   "cell_type": "code",
   "execution_count": 58,
   "id": "8e5fd8fb",
   "metadata": {},
   "outputs": [],
   "source": [
    "import matplotlib.pyplot as plt"
   ]
  },
  {
   "cell_type": "code",
   "execution_count": 59,
   "id": "f264e98b",
   "metadata": {},
   "outputs": [],
   "source": [
    "%matplotlib inline"
   ]
  },
  {
   "cell_type": "markdown",
   "id": "ed05de47-0bbb-40ba-a4f0-668c64b6cb5f",
   "metadata": {},
   "source": [
    "## 4.1 只用两组特征训练并绘图\n",
    "输入特征名称，选择对应的两列绘图，使用`DecisionBoundaryDisplay`函数直接出图。"
   ]
  },
  {
   "cell_type": "code",
   "execution_count": 39,
   "id": "388c6e13-6c9f-4b91-84fe-2e97bb7a5306",
   "metadata": {},
   "outputs": [],
   "source": [
    "from sklearn.inspection import DecisionBoundaryDisplay"
   ]
  },
  {
   "cell_type": "code",
   "execution_count": 40,
   "id": "03ed36ac-a990-4396-a3f6-c8db6db81e05",
   "metadata": {},
   "outputs": [],
   "source": [
    "colname_1 = 'ss'\n",
    "colname_2 = 'q/qm'\n",
    "labelname = 'index'\n",
    "pred_labelname = 'pred_index'"
   ]
  },
  {
   "cell_type": "markdown",
   "id": "63bc4d13-a4b6-460e-ab06-b48f4b9ca2ee",
   "metadata": {},
   "source": [
    "### 模型训练"
   ]
  },
  {
   "cell_type": "code",
   "execution_count": 41,
   "id": "454c5eec-7853-476d-b792-5cd0211e7c5e",
   "metadata": {},
   "outputs": [],
   "source": [
    "train_feature_X = train_df[[colname_1,colname_2]].to_numpy()"
   ]
  },
  {
   "cell_type": "code",
   "execution_count": 42,
   "id": "8bc1f80b-11a5-4c3e-8b12-249610d061dc",
   "metadata": {},
   "outputs": [],
   "source": [
    "train_feature_y = train_df[labelname].to_numpy()"
   ]
  },
  {
   "cell_type": "code",
   "execution_count": 46,
   "id": "eed31573-57e1-4b4a-9bc9-31506deb1e1c",
   "metadata": {},
   "outputs": [],
   "source": [
    "model = LGBMClassifier(verbosity=-1\n",
    ")"
   ]
  },
  {
   "cell_type": "code",
   "execution_count": 47,
   "id": "9ba19e96-5797-4f88-80e6-b91f4994b668",
   "metadata": {
    "scrolled": true
   },
   "outputs": [
    {
     "data": {
      "text/html": [
       "<style>#sk-container-id-3 {color: black;background-color: white;}#sk-container-id-3 pre{padding: 0;}#sk-container-id-3 div.sk-toggleable {background-color: white;}#sk-container-id-3 label.sk-toggleable__label {cursor: pointer;display: block;width: 100%;margin-bottom: 0;padding: 0.3em;box-sizing: border-box;text-align: center;}#sk-container-id-3 label.sk-toggleable__label-arrow:before {content: \"▸\";float: left;margin-right: 0.25em;color: #696969;}#sk-container-id-3 label.sk-toggleable__label-arrow:hover:before {color: black;}#sk-container-id-3 div.sk-estimator:hover label.sk-toggleable__label-arrow:before {color: black;}#sk-container-id-3 div.sk-toggleable__content {max-height: 0;max-width: 0;overflow: hidden;text-align: left;background-color: #f0f8ff;}#sk-container-id-3 div.sk-toggleable__content pre {margin: 0.2em;color: black;border-radius: 0.25em;background-color: #f0f8ff;}#sk-container-id-3 input.sk-toggleable__control:checked~div.sk-toggleable__content {max-height: 200px;max-width: 100%;overflow: auto;}#sk-container-id-3 input.sk-toggleable__control:checked~label.sk-toggleable__label-arrow:before {content: \"▾\";}#sk-container-id-3 div.sk-estimator input.sk-toggleable__control:checked~label.sk-toggleable__label {background-color: #d4ebff;}#sk-container-id-3 div.sk-label input.sk-toggleable__control:checked~label.sk-toggleable__label {background-color: #d4ebff;}#sk-container-id-3 input.sk-hidden--visually {border: 0;clip: rect(1px 1px 1px 1px);clip: rect(1px, 1px, 1px, 1px);height: 1px;margin: -1px;overflow: hidden;padding: 0;position: absolute;width: 1px;}#sk-container-id-3 div.sk-estimator {font-family: monospace;background-color: #f0f8ff;border: 1px dotted black;border-radius: 0.25em;box-sizing: border-box;margin-bottom: 0.5em;}#sk-container-id-3 div.sk-estimator:hover {background-color: #d4ebff;}#sk-container-id-3 div.sk-parallel-item::after {content: \"\";width: 100%;border-bottom: 1px solid gray;flex-grow: 1;}#sk-container-id-3 div.sk-label:hover label.sk-toggleable__label {background-color: #d4ebff;}#sk-container-id-3 div.sk-serial::before {content: \"\";position: absolute;border-left: 1px solid gray;box-sizing: border-box;top: 0;bottom: 0;left: 50%;z-index: 0;}#sk-container-id-3 div.sk-serial {display: flex;flex-direction: column;align-items: center;background-color: white;padding-right: 0.2em;padding-left: 0.2em;position: relative;}#sk-container-id-3 div.sk-item {position: relative;z-index: 1;}#sk-container-id-3 div.sk-parallel {display: flex;align-items: stretch;justify-content: center;background-color: white;position: relative;}#sk-container-id-3 div.sk-item::before, #sk-container-id-3 div.sk-parallel-item::before {content: \"\";position: absolute;border-left: 1px solid gray;box-sizing: border-box;top: 0;bottom: 0;left: 50%;z-index: -1;}#sk-container-id-3 div.sk-parallel-item {display: flex;flex-direction: column;z-index: 1;position: relative;background-color: white;}#sk-container-id-3 div.sk-parallel-item:first-child::after {align-self: flex-end;width: 50%;}#sk-container-id-3 div.sk-parallel-item:last-child::after {align-self: flex-start;width: 50%;}#sk-container-id-3 div.sk-parallel-item:only-child::after {width: 0;}#sk-container-id-3 div.sk-dashed-wrapped {border: 1px dashed gray;margin: 0 0.4em 0.5em 0.4em;box-sizing: border-box;padding-bottom: 0.4em;background-color: white;}#sk-container-id-3 div.sk-label label {font-family: monospace;font-weight: bold;display: inline-block;line-height: 1.2em;}#sk-container-id-3 div.sk-label-container {text-align: center;}#sk-container-id-3 div.sk-container {/* jupyter's `normalize.less` sets `[hidden] { display: none; }` but bootstrap.min.css set `[hidden] { display: none !important; }` so we also need the `!important` here to be able to override the default hidden behavior on the sphinx rendered scikit-learn.org. See: https://github.com/scikit-learn/scikit-learn/issues/21755 */display: inline-block !important;position: relative;}#sk-container-id-3 div.sk-text-repr-fallback {display: none;}</style><div id=\"sk-container-id-3\" class=\"sk-top-container\"><div class=\"sk-text-repr-fallback\"><pre>LGBMClassifier(verbosity=-1)</pre><b>In a Jupyter environment, please rerun this cell to show the HTML representation or trust the notebook. <br />On GitHub, the HTML representation is unable to render, please try loading this page with nbviewer.org.</b></div><div class=\"sk-container\" hidden><div class=\"sk-item\"><div class=\"sk-estimator sk-toggleable\"><input class=\"sk-toggleable__control sk-hidden--visually\" id=\"sk-estimator-id-3\" type=\"checkbox\" checked><label for=\"sk-estimator-id-3\" class=\"sk-toggleable__label sk-toggleable__label-arrow\">LGBMClassifier</label><div class=\"sk-toggleable__content\"><pre>LGBMClassifier(verbosity=-1)</pre></div></div></div></div></div>"
      ],
      "text/plain": [
       "LGBMClassifier(verbosity=-1)"
      ]
     },
     "execution_count": 47,
     "metadata": {},
     "output_type": "execute_result"
    }
   ],
   "source": [
    "model.fit(train_feature_X, train_feature_y)"
   ]
  },
  {
   "cell_type": "markdown",
   "id": "7706db3b-ceaa-4028-87c3-30de4a9cab20",
   "metadata": {},
   "source": [
    "### 模型预测"
   ]
  },
  {
   "cell_type": "code",
   "execution_count": 48,
   "id": "7df8b258-a5c3-48a4-9795-16006c0bce3d",
   "metadata": {},
   "outputs": [],
   "source": [
    "test_feature_X = test_df[[colname_1, colname_2]].to_numpy()"
   ]
  },
  {
   "cell_type": "code",
   "execution_count": 49,
   "id": "6e60b0fb-fb46-4dfc-9fb4-6500524f7538",
   "metadata": {
    "scrolled": true
   },
   "outputs": [],
   "source": [
    "test_df['pred_index'] = model.predict(test_feature_X)"
   ]
  },
  {
   "cell_type": "markdown",
   "id": "6921a5e0-bede-4af3-b3e9-766235d3a657",
   "metadata": {},
   "source": [
    "### 确定绘图边界"
   ]
  },
  {
   "cell_type": "code",
   "execution_count": 50,
   "id": "5e2a3a1d-5799-4d02-bc16-5bf580ef1f91",
   "metadata": {},
   "outputs": [],
   "source": [
    "frange = json.load(open('../data/settings/feature.json'))"
   ]
  },
  {
   "cell_type": "code",
   "execution_count": 51,
   "id": "f4bbc779-3351-4615-8c1d-0df37f29509d",
   "metadata": {},
   "outputs": [
    {
     "data": {
      "text/plain": [
       "{'q/qm': [0, 200],\n",
       " 'ploss': [-10000, 10000],\n",
       " 'fre': [110000, 150000],\n",
       " 'vpa': [0, 400000],\n",
       " 'papower': [0, 65000],\n",
       " 'ch': [0, 8],\n",
       " 'ce': [-127, 128],\n",
       " 'rppower': [0, 65000],\n",
       " 'ss': [0, 255],\n",
       " 'eff': [0, 1.3]}"
      ]
     },
     "execution_count": 51,
     "metadata": {},
     "output_type": "execute_result"
    }
   ],
   "source": [
    "frange"
   ]
  },
  {
   "cell_type": "code",
   "execution_count": 52,
   "id": "575a5888-ae91-4400-99da-d24a6659387d",
   "metadata": {},
   "outputs": [],
   "source": [
    "feature_1, feature_2 = np.meshgrid(\n",
    "    np.linspace(\n",
    "        min(train_df[colname_1].min(),test_df[colname_1].min()), max(train_df[colname_1].max(),test_df[colname_1].max())\n",
    "    ),\n",
    "    np.linspace(\n",
    "        min(train_df[colname_2].min(),test_df[colname_2].min()), max(train_df[colname_2].max(),test_df[colname_2].max())\n",
    "    )\n",
    ")"
   ]
  },
  {
   "cell_type": "code",
   "execution_count": 53,
   "id": "2fe2c62d-810c-40ff-b04d-5c7583380132",
   "metadata": {},
   "outputs": [],
   "source": [
    "# feature_1, feature_2 = np.meshgrid(\n",
    "#     np.linspace(min(frange[colname_1]), max(frange[colname_1])),\n",
    "#     np.linspace(min(frange[colname_2]), max(frange[colname_2])),\n",
    "# )"
   ]
  },
  {
   "cell_type": "code",
   "execution_count": 54,
   "id": "6207d594-5902-4a28-b9c3-015288b5e1e2",
   "metadata": {
    "scrolled": true
   },
   "outputs": [],
   "source": [
    "range_feature_grid = np.vstack([feature_1.ravel(), feature_2.ravel()]).T\n",
    "range_feature_pred = np.reshape(model.predict(range_feature_grid), feature_1.shape)"
   ]
  },
  {
   "cell_type": "code",
   "execution_count": 55,
   "id": "d0a9f5d1-0fd7-46a3-b241-fef32da7adfd",
   "metadata": {},
   "outputs": [
    {
     "data": {
      "text/plain": [
       "(50, 50)"
      ]
     },
     "execution_count": 55,
     "metadata": {},
     "output_type": "execute_result"
    }
   ],
   "source": [
    "range_feature_pred.shape"
   ]
  },
  {
   "cell_type": "markdown",
   "id": "a0aa0d91-78b2-4f54-822f-e6e13cf337bb",
   "metadata": {},
   "source": [
    "### 测试集预测点位着色\n",
    "\n",
    "正确的为绿色，错误为红色"
   ]
  },
  {
   "cell_type": "code",
   "execution_count": 56,
   "id": "6645e282-8029-4215-8221-7952335366df",
   "metadata": {},
   "outputs": [],
   "source": [
    "dot_color = ['g' if i else 'r' for i in test_df[labelname]==test_df[pred_labelname]]"
   ]
  },
  {
   "cell_type": "code",
   "execution_count": 60,
   "id": "a4f350b3-12de-4400-890b-663f7f3755fb",
   "metadata": {},
   "outputs": [
    {
     "data": {
      "image/png": "[encoded data removed]",
      "text/plain": [
       "<Figure size 640x480 with 1 Axes>"
      ]
     },
     "metadata": {},
     "output_type": "display_data"
    }
   ],
   "source": [
    "display = DecisionBoundaryDisplay(\n",
    "    xx0=feature_1, xx1=feature_2, response=range_feature_pred,\n",
    "    xlabel=colname_1,ylabel=colname_2\n",
    ")\n",
    "\n",
    "display.plot()\n",
    "display.ax_.scatter(\n",
    "    test_df[colname_1], test_df[colname_2], \n",
    "    # c=dot_color,\n",
    "    c=test_df[labelname],\n",
    "    edgecolor=\"black\"\n",
    ")\n",
    "plt.show()"
   ]
  },
  {
   "cell_type": "code",
   "execution_count": 61,
   "id": "27b72160",
   "metadata": {},
   "outputs": [
    {
     "data": {
      "text/plain": [
       "0     1\n",
       "1     1\n",
       "2     1\n",
       "3     1\n",
       "4     0\n",
       "     ..\n",
       "78    1\n",
       "79    1\n",
       "80    1\n",
       "81    1\n",
       "82    1\n",
       "Name: pred_index, Length: 83, dtype: int64"
      ]
     },
     "execution_count": 61,
     "metadata": {},
     "output_type": "execute_result"
    }
   ],
   "source": [
    "test_df[pred_labelname]"
   ]
  },
  {
   "cell_type": "markdown",
   "id": "c815ab18-8820-4d05-b912-fb21f850eb0a",
   "metadata": {},
   "source": [
    "## 4.2 T-SNE降维并绘图\n",
    "\n",
    "1. 对特征降维\n",
    "2. 构建mesh\n",
    "3. 根据分类器对mesh中每个格子着色，即绘制出边界"
   ]
  },
  {
   "cell_type": "code",
   "execution_count": null,
   "id": "5d9fab1a-66c3-4924-b311-a0514ee8a0b6",
   "metadata": {},
   "outputs": [],
   "source": [
    "from sklearn.neighbors._classification import KNeighborsClassifier\n",
    "\n",
    "from sklearn.datasets import load_iris\n",
    "\n",
    "from sklearn.manifold import TSNE\n",
    "\n",
    "from sklearn.linear_model import LogisticRegression\n",
    "\n",
    "import numpy as np, matplotlib.pyplot as plt"
   ]
  },
  {
   "cell_type": "code",
   "execution_count": 127,
   "id": "f6ba3859-d39c-434f-9b7e-63a730bc1fd3",
   "metadata": {},
   "outputs": [],
   "source": [
    "train_len = train_df.shape[0]\n",
    "test_len = test_df.shape[0]"
   ]
  },
  {
   "cell_type": "code",
   "execution_count": 128,
   "id": "7191aec7-f806-4d35-b360-364c47470bfb",
   "metadata": {},
   "outputs": [],
   "source": [
    "train_X = train_df[feature_columns].to_numpy()\n",
    "train_y = train_df['index'].to_numpy()"
   ]
  },
  {
   "cell_type": "code",
   "execution_count": 129,
   "id": "4cbe84c7-3f27-4900-adbd-080fc447ac54",
   "metadata": {},
   "outputs": [],
   "source": [
    "test_X = test_df[feature_columns].to_numpy()\n",
    "test_y = test_df['index'].to_numpy()"
   ]
  },
  {
   "cell_type": "code",
   "execution_count": 131,
   "id": "bcee3380-63f1-4ba2-bb13-bbbf37bf8a5c",
   "metadata": {},
   "outputs": [
    {
     "data": {
      "text/plain": [
       "(408, 10)"
      ]
     },
     "execution_count": 131,
     "metadata": {},
     "output_type": "execute_result"
    }
   ],
   "source": [
    "train_X.shape"
   ]
  },
  {
   "cell_type": "code",
   "execution_count": 130,
   "id": "d0bc0e10-8557-412d-bc39-9d913f253dde",
   "metadata": {},
   "outputs": [
    {
     "data": {
      "text/plain": [
       "(83, 10)"
      ]
     },
     "execution_count": 130,
     "metadata": {},
     "output_type": "execute_result"
    }
   ],
   "source": [
    "test_X.shape"
   ]
  },
  {
   "cell_type": "code",
   "execution_count": 141,
   "id": "35ce8406-b919-4446-84af-081dfafb1b95",
   "metadata": {},
   "outputs": [],
   "source": [
    "X = np.vstack([train_X,test_X])"
   ]
  },
  {
   "cell_type": "code",
   "execution_count": null,
   "id": "88a2bc39-f745-416b-b788-1783d3dfe627",
   "metadata": {},
   "outputs": [],
   "source": []
  },
  {
   "cell_type": "code",
   "execution_count": 142,
   "id": "400546c7-ba99-41a7-b27c-7139e83af68a",
   "metadata": {},
   "outputs": [
    {
     "data": {
      "text/plain": [
       "(491, 10)"
      ]
     },
     "execution_count": 142,
     "metadata": {},
     "output_type": "execute_result"
    }
   ],
   "source": [
    "X.shape"
   ]
  },
  {
   "cell_type": "code",
   "execution_count": 143,
   "id": "97e8a3b5-376c-4da7-b6a3-54d80620263f",
   "metadata": {
    "scrolled": true
   },
   "outputs": [],
   "source": [
    "X_embedded = TSNE(n_components=2).fit_transform(X)\n",
    "X_Train_embedded = TSNE(n_components=2).fit_transform(train_X)\n",
    "X_Test_embedded = TSNE(n_components=2).fit_transform(test_X)\n",
    "\n",
    "# 决策边界通过训练数据来绘制\n",
    "model = LGBMClassifier(verbosity=-1).fit(train_X,train_y)\n",
    "y_predicted = model.predict(X)"
   ]
  },
  {
   "cell_type": "code",
   "execution_count": 154,
   "id": "7dbaf52d-4d83-4b35-919c-816a4a3d2285",
   "metadata": {},
   "outputs": [],
   "source": [
    "# create meshgrid\n",
    "resolution = 100 # 100x100 background pixels\n",
    "X2d_xmin, X2d_xmax = np.min(X_embedded[:,0]), np.max(X_embedded[:,0])\n",
    "X2d_ymin, X2d_ymax = np.min(X_embedded[:,1]), np.max(X_embedded[:,1])\n",
    "xx, yy = np.meshgrid(np.linspace(X2d_xmin, X2d_xmax, resolution), np.linspace(X2d_ymin, X2d_ymax, resolution))"
   ]
  },
  {
   "cell_type": "code",
   "execution_count": 167,
   "id": "b8f3bf6b-2ec3-4e52-8235-3036c3ea7b16",
   "metadata": {},
   "outputs": [
    {
     "data": {
      "text/plain": [
       "(83,)"
      ]
     },
     "execution_count": 167,
     "metadata": {},
     "output_type": "execute_result"
    }
   ],
   "source": [
    "X_embedded[train_len:,0].shape"
   ]
  },
  {
   "cell_type": "code",
   "execution_count": 168,
   "id": "b6e5005b-33d4-41f1-a404-2ca97c771725",
   "metadata": {},
   "outputs": [
    {
     "data": {
      "text/plain": [
       "(83,)"
      ]
     },
     "execution_count": 168,
     "metadata": {},
     "output_type": "execute_result"
    }
   ],
   "source": [
    "test_y.shape"
   ]
  },
  {
   "cell_type": "code",
   "execution_count": 170,
   "id": "540f5df8-2be3-43d6-96f7-d4fde18b8bc7",
   "metadata": {},
   "outputs": [
    {
     "data": {
      "image/png": "[encoded data removed]",
      "text/plain": [
       "<Figure size 640x480 with 1 Axes>"
      ]
     },
     "metadata": {},
     "output_type": "display_data"
    }
   ],
   "source": [
    "# approximate Voronoi tesselation on resolution x resolution grid using 1-NN\n",
    "background_model = LGBMClassifier(verbosity=-1).fit(X_embedded, y_predicted) \n",
    "voronoiBackground = background_model.predict(np.c_[xx.ravel(), yy.ravel()])\n",
    "voronoiBackground = voronoiBackground.reshape((resolution, resolution))\n",
    "\n",
    "#plot\n",
    "fig,ax = plt.subplots()\n",
    "contourf = ax.contourf(xx, yy, voronoiBackground, cmap='Set3')\n",
    "# legend0 = ax.legend(*contourf.legend_elements(),loc=\"upper right\", title=\"Boundary\")\n",
    "\n",
    "scatter = ax.scatter(X_embedded[train_len:,0], \n",
    "            X_embedded[train_len:,1],\n",
    "            s=5,\n",
    "            cmap='cool', \n",
    "            c=test_y)\n",
    "# produce a legend with the unique colors from the scatter\n",
    "legend1 = ax.legend(*scatter.legend_elements(),\n",
    "                    loc=\"upper left\", title=\"Index\")\n",
    "ax.add_artist(legend1)\n",
    "# ax.add_artist(legend0)\n",
    "\n",
    "plt.show()"
   ]
  },
  {
   "cell_type": "code",
   "execution_count": null,
   "id": "71fa6141-ed8d-4120-bf93-7a442b970e41",
   "metadata": {},
   "outputs": [],
   "source": []
  }
 ],
 "metadata": {
  "kernelspec": {
   "display_name": "Python 3 (ipykernel)",
   "language": "python",
   "name": "python3"
  },
  "language_info": {
   "codemirror_mode": {
    "name": "ipython",
    "version": 3
   },
   "file_extension": ".py",
   "mimetype": "text/x-python",
   "name": "python",
   "nbconvert_exporter": "python",
   "pygments_lexer": "ipython3",
   "version": "3.11.5"
  }
 },
 "nbformat": 4,
 "nbformat_minor": 5
}
