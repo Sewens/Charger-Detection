{
 "cells": [
  {
   "cell_type": "markdown",
   "id": "423b06fb",
   "metadata": {},
   "source": [
    "# 输出特征重要性\n",
    "\n",
    "目前基本10个特征，使用lightgbm在训练数据上训练，并输出特征重要性"
   ]
  },
  {
   "cell_type": "code",
   "execution_count": 1,
   "id": "900f4501",
   "metadata": {},
   "outputs": [],
   "source": [
    "import sklearn\n",
    "import pandas as pd\n",
    "import numpy as np\n",
    "import time\n",
    "import random\n",
    "import pickle"
   ]
  },
  {
   "cell_type": "code",
   "execution_count": 2,
   "id": "d4624342",
   "metadata": {},
   "outputs": [],
   "source": [
    "import lightgbm\n",
    "from lightgbm import LGBMClassifier"
   ]
  },
  {
   "cell_type": "code",
   "execution_count": 3,
   "id": "2901340b",
   "metadata": {},
   "outputs": [],
   "source": [
    "from sklearn.linear_model import LinearRegression,LogisticRegression\n",
    "from sklearn.svm import LinearSVC,SVC\n",
    "from sklearn.tree import DecisionTreeClassifier"
   ]
  },
  {
   "cell_type": "code",
   "execution_count": 4,
   "id": "6621479e",
   "metadata": {},
   "outputs": [],
   "source": [
    "from sklearn.metrics import precision_score,recall_score,f1_score,accuracy_score"
   ]
  },
  {
   "cell_type": "code",
   "execution_count": 5,
   "id": "56881dc5",
   "metadata": {},
   "outputs": [],
   "source": [
    "import json"
   ]
  },
  {
   "cell_type": "markdown",
   "id": "09ebb70f",
   "metadata": {},
   "source": [
    "# 0. 读取数据\n",
    "\n",
    "读取数据并转换为机器学习可用的矩阵（numpy格式）\n",
    "\n",
    "**240403更新，现在机器学习部分会读取`data/settings`文件夹中的`feature.json`和`label.json`文件作为特征以及标签的字段名**\n",
    "\n",
    "二者与读取进来的文件中相关字段应该是匹配的。"
   ]
  },
  {
   "cell_type": "code",
   "execution_count": 6,
   "id": "0345308b",
   "metadata": {},
   "outputs": [],
   "source": [
    "feature_settings_fpath = '../data/settings/feature.json'\n",
    "label_settings_fpath = '../data/settings/label.json'"
   ]
  },
  {
   "cell_type": "code",
   "execution_count": 7,
   "id": "b9d8b046",
   "metadata": {},
   "outputs": [],
   "source": [
    "with open(feature_settings_fpath, 'r',encoding='utf-8') as file:\n",
    "    feature_dict = json.load(file)"
   ]
  },
  {
   "cell_type": "code",
   "execution_count": 8,
   "id": "42801a7a",
   "metadata": {},
   "outputs": [],
   "source": [
    "with open(label_settings_fpath, 'r',encoding='utf-8') as file:\n",
    "    label_dict = json.load(file)"
   ]
  },
  {
   "cell_type": "code",
   "execution_count": 9,
   "id": "0c403c09",
   "metadata": {},
   "outputs": [
    {
     "data": {
      "text/plain": [
       "{'index': [0, 1]}"
      ]
     },
     "execution_count": 9,
     "metadata": {},
     "output_type": "execute_result"
    }
   ],
   "source": [
    "label_dict"
   ]
  },
  {
   "cell_type": "code",
   "execution_count": 10,
   "id": "1cd6b1c6",
   "metadata": {},
   "outputs": [
    {
     "data": {
      "text/plain": [
       "{'q/qm': [0, 200],\n",
       " 'ploss': [-10000, 10000],\n",
       " 'fre': [110000, 150000],\n",
       " 'vpa': [0, 400000],\n",
       " 'papower': [0, 65000],\n",
       " 'ch': [0, 8],\n",
       " 'ce': [-127, 128],\n",
       " 'rppower': [0, 65000],\n",
       " 'ss': [0, 255],\n",
       " 'eff': [0, 1.3]}"
      ]
     },
     "execution_count": 10,
     "metadata": {},
     "output_type": "execute_result"
    }
   ],
   "source": [
    "feature_dict"
   ]
  },
  {
   "cell_type": "code",
   "execution_count": 11,
   "id": "733b5e99",
   "metadata": {},
   "outputs": [],
   "source": [
    "feature_columns = list(feature_dict.keys())"
   ]
  },
  {
   "cell_type": "code",
   "execution_count": 12,
   "id": "c51f611d",
   "metadata": {},
   "outputs": [],
   "source": [
    "# 训练集数据路径\n",
    "train_fpath = '../data/test_data/train_240409.xlsx'\n",
    "# 测试集数据路径\n",
    "test_fpath = '../data/test_data/test_240409.xlsx'"
   ]
  },
  {
   "cell_type": "code",
   "execution_count": 13,
   "id": "618091ed",
   "metadata": {},
   "outputs": [],
   "source": [
    "load_train_df = pd.read_excel(train_fpath)\n",
    "load_test_df = pd.read_excel(test_fpath)"
   ]
  },
  {
   "cell_type": "markdown",
   "id": "7b5dc790",
   "metadata": {},
   "source": [
    "#### 将所有columns名转换为小写"
   ]
  },
  {
   "cell_type": "code",
   "execution_count": 14,
   "id": "deb423d9",
   "metadata": {},
   "outputs": [],
   "source": [
    "load_train_df.columns = [i.lower() for i in load_train_df.columns]\n",
    "load_test_df.columns = [i.lower() for i in load_test_df.columns]"
   ]
  },
  {
   "cell_type": "markdown",
   "id": "4569af1a",
   "metadata": {},
   "source": [
    "#### 兼容之前的代码写法"
   ]
  },
  {
   "cell_type": "code",
   "execution_count": 15,
   "id": "23708d89",
   "metadata": {},
   "outputs": [],
   "source": [
    "feature_key_lst = feature_columns\n",
    "\n",
    "feature_range_dict = feature_dict\n",
    "\n",
    "label_key = list(label_dict.keys())[0]"
   ]
  },
  {
   "cell_type": "markdown",
   "id": "c11fe0a2",
   "metadata": {},
   "source": [
    "### 保留原始特征副本"
   ]
  },
  {
   "cell_type": "code",
   "execution_count": 16,
   "id": "b3be314f",
   "metadata": {},
   "outputs": [],
   "source": [
    "cp_train_df = load_train_df.copy()\n",
    "cp_test_df = load_test_df.copy()\n",
    "\n",
    "cp_train_df['slice'] = ['train' for i in range(cp_train_df.shape[0])]\n",
    "cp_test_df['slice'] = ['test' for i in range(cp_test_df.shape[0])]\n",
    "\n",
    "cp_merge_df = pd.concat([cp_train_df,cp_test_df])"
   ]
  },
  {
   "cell_type": "code",
   "execution_count": 17,
   "id": "9fcba199",
   "metadata": {},
   "outputs": [],
   "source": [
    "merge_df = cp_merge_df.copy()"
   ]
  },
  {
   "cell_type": "markdown",
   "id": "32977969",
   "metadata": {},
   "source": [
    "# 1. 缺失数据补全（todo）\n",
    "\n",
    "如果存在部分列数据缺失，在这一步骤进行数据的补全以便于减少这部分缺失数据的影响。"
   ]
  },
  {
   "cell_type": "markdown",
   "id": "d2f33e92",
   "metadata": {},
   "source": [
    "### 1.1 补全为0\n",
    "\n",
    "缺失数据全部用`0`补全"
   ]
  },
  {
   "cell_type": "code",
   "execution_count": 18,
   "id": "559a58a0",
   "metadata": {},
   "outputs": [],
   "source": [
    "for col in merge_df.columns:\n",
    "    merge_df[col] = merge_df[col].fillna(0)"
   ]
  },
  {
   "cell_type": "markdown",
   "id": "edb817f3",
   "metadata": {},
   "source": [
    "# 2. 特征工程\n",
    "\n",
    "这一步骤针对每列特征进行处理，处理手段有很多种，例如数据分桶，数据扩展，数据统计等等，此处只对数据进行归一化放缩，使得所有特征值范围均在`0,1`之间，以便于机器学习模型学习的稳定性。\n",
    "\n",
    "后续根据问题的深入程度不同，可以将更多的特征处理手段应用在这一步骤，来增强整体机器学习系统的表现。"
   ]
  },
  {
   "cell_type": "markdown",
   "id": "72cd083d",
   "metadata": {},
   "source": [
    "## 2.0 互信息分析\n",
    "\n",
    "参考kaggle：https://www.kaggle.com/code/ryanholbrook/mutual-information\n",
    "\n",
    "互信息衡量特征和目标值之间的关系"
   ]
  },
  {
   "cell_type": "code",
   "execution_count": 19,
   "id": "75118efa",
   "metadata": {},
   "outputs": [],
   "source": [
    "# from sklearn.feature_selection import mutual_info_regression\n",
    "\n",
    "# def make_mi_scores(X, y, discrete_features):\n",
    "#     mi_scores = mutual_info_regression(X, y, discrete_features=discrete_features)\n",
    "#     mi_scores = pd.Series(mi_scores, name=\"MI Scores\", index=X.columns)\n",
    "#     mi_scores = mi_scores.sort_values(ascending=False)\n",
    "#     return mi_scores"
   ]
  },
  {
   "cell_type": "code",
   "execution_count": 20,
   "id": "c873df0c",
   "metadata": {},
   "outputs": [],
   "source": [
    "# X = train_df.copy()\n",
    "# y = X.pop(\"index\")\n",
    "\n",
    "# # Label encoding for categoricals\n",
    "# for colname in X.select_dtypes(\"object\"):\n",
    "#     X[colname], _ = X[colname].factorize()\n",
    "\n",
    "# # All discrete features should now have integer dtypes (double-check this before using MI!)\n",
    "# discrete_features = X.dtypes == np.int64"
   ]
  },
  {
   "cell_type": "code",
   "execution_count": 21,
   "id": "2e698dbe",
   "metadata": {},
   "outputs": [],
   "source": [
    "# discrete_features"
   ]
  },
  {
   "cell_type": "code",
   "execution_count": 22,
   "id": "64d68b96",
   "metadata": {},
   "outputs": [],
   "source": [
    "# mi_scores = make_mi_scores(X, y, discrete_features)"
   ]
  },
  {
   "cell_type": "markdown",
   "id": "8b8fc1bb",
   "metadata": {},
   "source": [
    "### 特征互信息相关性"
   ]
  },
  {
   "cell_type": "code",
   "execution_count": 23,
   "id": "4aa4a5b9",
   "metadata": {},
   "outputs": [],
   "source": [
    "# mi_scores"
   ]
  },
  {
   "cell_type": "markdown",
   "id": "3ca8805d",
   "metadata": {},
   "source": [
    "## 2.1 数据归一化\n",
    "\n",
    "根据特征值范围，将现有特征放缩到`(0,1)`之间"
   ]
  },
  {
   "cell_type": "code",
   "execution_count": 24,
   "id": "3525b069",
   "metadata": {},
   "outputs": [],
   "source": [
    "for k in feature_key_lst:\n",
    "    # 数据范围上界\n",
    "    ub = feature_range_dict[k][0]\n",
    "    # 数据范围下界\n",
    "    lb = feature_range_dict[k][1]\n",
    "    \n",
    "    merge_df[k] = merge_df[k].apply(lambda x:(x-lb)/(ub-lb))"
   ]
  },
  {
   "cell_type": "markdown",
   "id": "d66bafec",
   "metadata": {},
   "source": [
    "## 2.2 数据取对数\n",
    "\n",
    "以自然对数`e`为底"
   ]
  },
  {
   "cell_type": "code",
   "execution_count": 25,
   "id": "bc332ad9",
   "metadata": {},
   "outputs": [],
   "source": [
    "# merge_df = cp_merge_df.copy()"
   ]
  },
  {
   "cell_type": "code",
   "execution_count": 26,
   "id": "b20a1236",
   "metadata": {},
   "outputs": [],
   "source": [
    "# for k in feature_key_lst:\n",
    "#     merge_df[k] = merge_df[k].apply(lambda x:np.log(abs(x) if not x==0 else 1e-6))"
   ]
  },
  {
   "cell_type": "markdown",
   "id": "70b2a4bd",
   "metadata": {},
   "source": [
    "## 2.3 特征交互除法\n",
    "\n",
    "1. 在归一化数据基础上做\n",
    "2. 两两交互\n",
    "3. a除以b"
   ]
  },
  {
   "cell_type": "code",
   "execution_count": 27,
   "id": "e32444e5",
   "metadata": {},
   "outputs": [],
   "source": [
    "for k1 in feature_columns:\n",
    "    for k2 in feature_columns:\n",
    "        if k1!=k2:\n",
    "            merge_df[f'{k1}_div_{k2}'] = [a/(b if b!=0 else 1) for a,b in zip(merge_df[k1],merge_df[k2])]"
   ]
  },
  {
   "cell_type": "code",
   "execution_count": 28,
   "id": "89cc1d0c",
   "metadata": {},
   "outputs": [
    {
     "data": {
      "text/html": [
       "<div>\n",
       "<style scoped>\n",
       "    .dataframe tbody tr th:only-of-type {\n",
       "        vertical-align: middle;\n",
       "    }\n",
       "\n",
       "    .dataframe tbody tr th {\n",
       "        vertical-align: top;\n",
       "    }\n",
       "\n",
       "    .dataframe thead th {\n",
       "        text-align: right;\n",
       "    }\n",
       "</style>\n",
       "<table border=\"1\" class=\"dataframe\">\n",
       "  <thead>\n",
       "    <tr style=\"text-align: right;\">\n",
       "      <th></th>\n",
       "      <th>index</th>\n",
       "      <th>q/qm</th>\n",
       "      <th>ploss</th>\n",
       "      <th>fre</th>\n",
       "      <th>vpa</th>\n",
       "      <th>papower</th>\n",
       "      <th>ch</th>\n",
       "      <th>ce</th>\n",
       "      <th>rppower</th>\n",
       "      <th>ss</th>\n",
       "      <th>...</th>\n",
       "      <th>ss_div_eff</th>\n",
       "      <th>eff_div_q/qm</th>\n",
       "      <th>eff_div_ploss</th>\n",
       "      <th>eff_div_fre</th>\n",
       "      <th>eff_div_vpa</th>\n",
       "      <th>eff_div_papower</th>\n",
       "      <th>eff_div_ch</th>\n",
       "      <th>eff_div_ce</th>\n",
       "      <th>eff_div_rppower</th>\n",
       "      <th>eff_div_ss</th>\n",
       "    </tr>\n",
       "  </thead>\n",
       "  <tbody>\n",
       "    <tr>\n",
       "      <th>0</th>\n",
       "      <td>0</td>\n",
       "      <td>0.44</td>\n",
       "      <td>0.55855</td>\n",
       "      <td>0.1750</td>\n",
       "      <td>0.970137</td>\n",
       "      <td>0.958108</td>\n",
       "      <td>-0.000</td>\n",
       "      <td>0.533333</td>\n",
       "      <td>0.961538</td>\n",
       "      <td>0.431373</td>\n",
       "      <td>...</td>\n",
       "      <td>1.468426</td>\n",
       "      <td>0.667649</td>\n",
       "      <td>0.525943</td>\n",
       "      <td>1.678659</td>\n",
       "      <td>0.302808</td>\n",
       "      <td>0.306610</td>\n",
       "      <td>0.293765</td>\n",
       "      <td>0.550810</td>\n",
       "      <td>0.305516</td>\n",
       "      <td>0.681002</td>\n",
       "    </tr>\n",
       "    <tr>\n",
       "      <th>1</th>\n",
       "      <td>0</td>\n",
       "      <td>0.44</td>\n",
       "      <td>0.56235</td>\n",
       "      <td>0.1250</td>\n",
       "      <td>0.953228</td>\n",
       "      <td>0.888615</td>\n",
       "      <td>0.125</td>\n",
       "      <td>0.501961</td>\n",
       "      <td>0.902308</td>\n",
       "      <td>0.431373</td>\n",
       "      <td>...</td>\n",
       "      <td>1.325956</td>\n",
       "      <td>0.739385</td>\n",
       "      <td>0.578518</td>\n",
       "      <td>2.602635</td>\n",
       "      <td>0.341292</td>\n",
       "      <td>0.366108</td>\n",
       "      <td>2.602635</td>\n",
       "      <td>0.648117</td>\n",
       "      <td>0.360553</td>\n",
       "      <td>0.754173</td>\n",
       "    </tr>\n",
       "    <tr>\n",
       "      <th>2</th>\n",
       "      <td>0</td>\n",
       "      <td>0.44</td>\n",
       "      <td>0.55915</td>\n",
       "      <td>0.1250</td>\n",
       "      <td>0.940720</td>\n",
       "      <td>0.550938</td>\n",
       "      <td>0.125</td>\n",
       "      <td>0.498039</td>\n",
       "      <td>0.604969</td>\n",
       "      <td>0.431373</td>\n",
       "      <td>...</td>\n",
       "      <td>1.334186</td>\n",
       "      <td>0.734824</td>\n",
       "      <td>0.578239</td>\n",
       "      <td>2.586580</td>\n",
       "      <td>0.343697</td>\n",
       "      <td>0.586858</td>\n",
       "      <td>2.586580</td>\n",
       "      <td>0.649191</td>\n",
       "      <td>0.534445</td>\n",
       "      <td>0.749520</td>\n",
       "    </tr>\n",
       "    <tr>\n",
       "      <th>3</th>\n",
       "      <td>0</td>\n",
       "      <td>0.44</td>\n",
       "      <td>0.58175</td>\n",
       "      <td>0.1250</td>\n",
       "      <td>0.938763</td>\n",
       "      <td>0.449062</td>\n",
       "      <td>-0.000</td>\n",
       "      <td>0.501961</td>\n",
       "      <td>0.506231</td>\n",
       "      <td>0.431373</td>\n",
       "      <td>...</td>\n",
       "      <td>1.388881</td>\n",
       "      <td>0.705886</td>\n",
       "      <td>0.533889</td>\n",
       "      <td>2.484720</td>\n",
       "      <td>0.330850</td>\n",
       "      <td>0.691642</td>\n",
       "      <td>0.310590</td>\n",
       "      <td>0.618754</td>\n",
       "      <td>0.613534</td>\n",
       "      <td>0.720004</td>\n",
       "    </tr>\n",
       "    <tr>\n",
       "      <th>4</th>\n",
       "      <td>0</td>\n",
       "      <td>0.44</td>\n",
       "      <td>0.57265</td>\n",
       "      <td>0.1250</td>\n",
       "      <td>0.936492</td>\n",
       "      <td>0.320385</td>\n",
       "      <td>-0.000</td>\n",
       "      <td>0.494118</td>\n",
       "      <td>0.379554</td>\n",
       "      <td>0.431373</td>\n",
       "      <td>...</td>\n",
       "      <td>1.448820</td>\n",
       "      <td>0.676683</td>\n",
       "      <td>0.519935</td>\n",
       "      <td>2.381925</td>\n",
       "      <td>0.317932</td>\n",
       "      <td>0.929322</td>\n",
       "      <td>0.297741</td>\n",
       "      <td>0.602570</td>\n",
       "      <td>0.784449</td>\n",
       "      <td>0.690217</td>\n",
       "    </tr>\n",
       "    <tr>\n",
       "      <th>...</th>\n",
       "      <td>...</td>\n",
       "      <td>...</td>\n",
       "      <td>...</td>\n",
       "      <td>...</td>\n",
       "      <td>...</td>\n",
       "      <td>...</td>\n",
       "      <td>...</td>\n",
       "      <td>...</td>\n",
       "      <td>...</td>\n",
       "      <td>...</td>\n",
       "      <td>...</td>\n",
       "      <td>...</td>\n",
       "      <td>...</td>\n",
       "      <td>...</td>\n",
       "      <td>...</td>\n",
       "      <td>...</td>\n",
       "      <td>...</td>\n",
       "      <td>...</td>\n",
       "      <td>...</td>\n",
       "      <td>...</td>\n",
       "      <td>...</td>\n",
       "    </tr>\n",
       "    <tr>\n",
       "      <th>78</th>\n",
       "      <td>1</td>\n",
       "      <td>0.56</td>\n",
       "      <td>0.51850</td>\n",
       "      <td>0.1250</td>\n",
       "      <td>0.922785</td>\n",
       "      <td>0.732969</td>\n",
       "      <td>0.250</td>\n",
       "      <td>0.494118</td>\n",
       "      <td>0.887123</td>\n",
       "      <td>0.403922</td>\n",
       "      <td>...</td>\n",
       "      <td>0.598546</td>\n",
       "      <td>1.205067</td>\n",
       "      <td>1.301519</td>\n",
       "      <td>5.398700</td>\n",
       "      <td>0.731305</td>\n",
       "      <td>0.920690</td>\n",
       "      <td>2.699350</td>\n",
       "      <td>1.365742</td>\n",
       "      <td>0.760703</td>\n",
       "      <td>1.670714</td>\n",
       "    </tr>\n",
       "    <tr>\n",
       "      <th>79</th>\n",
       "      <td>1</td>\n",
       "      <td>0.56</td>\n",
       "      <td>0.43890</td>\n",
       "      <td>0.1250</td>\n",
       "      <td>0.920338</td>\n",
       "      <td>0.418600</td>\n",
       "      <td>0.375</td>\n",
       "      <td>0.494118</td>\n",
       "      <td>0.597585</td>\n",
       "      <td>0.403922</td>\n",
       "      <td>...</td>\n",
       "      <td>0.863860</td>\n",
       "      <td>0.834960</td>\n",
       "      <td>1.065340</td>\n",
       "      <td>3.740622</td>\n",
       "      <td>0.508050</td>\n",
       "      <td>1.117004</td>\n",
       "      <td>1.246874</td>\n",
       "      <td>0.946288</td>\n",
       "      <td>0.782446</td>\n",
       "      <td>1.157595</td>\n",
       "    </tr>\n",
       "    <tr>\n",
       "      <th>80</th>\n",
       "      <td>1</td>\n",
       "      <td>0.56</td>\n",
       "      <td>0.44080</td>\n",
       "      <td>0.1250</td>\n",
       "      <td>0.919403</td>\n",
       "      <td>0.359692</td>\n",
       "      <td>0.250</td>\n",
       "      <td>0.494118</td>\n",
       "      <td>0.545877</td>\n",
       "      <td>0.403922</td>\n",
       "      <td>...</td>\n",
       "      <td>0.888831</td>\n",
       "      <td>0.811502</td>\n",
       "      <td>1.030947</td>\n",
       "      <td>3.635530</td>\n",
       "      <td>0.494279</td>\n",
       "      <td>1.263417</td>\n",
       "      <td>1.817765</td>\n",
       "      <td>0.919703</td>\n",
       "      <td>0.832498</td>\n",
       "      <td>1.125073</td>\n",
       "    </tr>\n",
       "    <tr>\n",
       "      <th>81</th>\n",
       "      <td>1</td>\n",
       "      <td>0.56</td>\n",
       "      <td>0.53630</td>\n",
       "      <td>0.6475</td>\n",
       "      <td>0.970137</td>\n",
       "      <td>0.953877</td>\n",
       "      <td>0.250</td>\n",
       "      <td>0.505882</td>\n",
       "      <td>0.963354</td>\n",
       "      <td>0.403922</td>\n",
       "      <td>...</td>\n",
       "      <td>1.038831</td>\n",
       "      <td>0.694327</td>\n",
       "      <td>0.725011</td>\n",
       "      <td>0.600499</td>\n",
       "      <td>0.400792</td>\n",
       "      <td>0.407624</td>\n",
       "      <td>1.555293</td>\n",
       "      <td>0.768604</td>\n",
       "      <td>0.403614</td>\n",
       "      <td>0.962621</td>\n",
       "    </tr>\n",
       "    <tr>\n",
       "      <th>82</th>\n",
       "      <td>1</td>\n",
       "      <td>0.56</td>\n",
       "      <td>0.53145</td>\n",
       "      <td>0.1250</td>\n",
       "      <td>0.940943</td>\n",
       "      <td>0.844815</td>\n",
       "      <td>-0.000</td>\n",
       "      <td>0.478431</td>\n",
       "      <td>0.905415</td>\n",
       "      <td>0.403922</td>\n",
       "      <td>...</td>\n",
       "      <td>0.760458</td>\n",
       "      <td>0.948493</td>\n",
       "      <td>0.999447</td>\n",
       "      <td>4.249247</td>\n",
       "      <td>0.564493</td>\n",
       "      <td>0.628724</td>\n",
       "      <td>0.531156</td>\n",
       "      <td>1.110203</td>\n",
       "      <td>0.586643</td>\n",
       "      <td>1.314998</td>\n",
       "    </tr>\n",
       "  </tbody>\n",
       "</table>\n",
       "<p>491 rows × 102 columns</p>\n",
       "</div>"
      ],
      "text/plain": [
       "    index  q/qm    ploss     fre       vpa   papower     ch        ce  \\\n",
       "0       0  0.44  0.55855  0.1750  0.970137  0.958108 -0.000  0.533333   \n",
       "1       0  0.44  0.56235  0.1250  0.953228  0.888615  0.125  0.501961   \n",
       "2       0  0.44  0.55915  0.1250  0.940720  0.550938  0.125  0.498039   \n",
       "3       0  0.44  0.58175  0.1250  0.938763  0.449062 -0.000  0.501961   \n",
       "4       0  0.44  0.57265  0.1250  0.936492  0.320385 -0.000  0.494118   \n",
       "..    ...   ...      ...     ...       ...       ...    ...       ...   \n",
       "78      1  0.56  0.51850  0.1250  0.922785  0.732969  0.250  0.494118   \n",
       "79      1  0.56  0.43890  0.1250  0.920338  0.418600  0.375  0.494118   \n",
       "80      1  0.56  0.44080  0.1250  0.919403  0.359692  0.250  0.494118   \n",
       "81      1  0.56  0.53630  0.6475  0.970137  0.953877  0.250  0.505882   \n",
       "82      1  0.56  0.53145  0.1250  0.940943  0.844815 -0.000  0.478431   \n",
       "\n",
       "     rppower        ss  ...  ss_div_eff eff_div_q/qm  eff_div_ploss  \\\n",
       "0   0.961538  0.431373  ...    1.468426     0.667649       0.525943   \n",
       "1   0.902308  0.431373  ...    1.325956     0.739385       0.578518   \n",
       "2   0.604969  0.431373  ...    1.334186     0.734824       0.578239   \n",
       "3   0.506231  0.431373  ...    1.388881     0.705886       0.533889   \n",
       "4   0.379554  0.431373  ...    1.448820     0.676683       0.519935   \n",
       "..       ...       ...  ...         ...          ...            ...   \n",
       "78  0.887123  0.403922  ...    0.598546     1.205067       1.301519   \n",
       "79  0.597585  0.403922  ...    0.863860     0.834960       1.065340   \n",
       "80  0.545877  0.403922  ...    0.888831     0.811502       1.030947   \n",
       "81  0.963354  0.403922  ...    1.038831     0.694327       0.725011   \n",
       "82  0.905415  0.403922  ...    0.760458     0.948493       0.999447   \n",
       "\n",
       "    eff_div_fre  eff_div_vpa  eff_div_papower  eff_div_ch  eff_div_ce  \\\n",
       "0      1.678659     0.302808         0.306610    0.293765    0.550810   \n",
       "1      2.602635     0.341292         0.366108    2.602635    0.648117   \n",
       "2      2.586580     0.343697         0.586858    2.586580    0.649191   \n",
       "3      2.484720     0.330850         0.691642    0.310590    0.618754   \n",
       "4      2.381925     0.317932         0.929322    0.297741    0.602570   \n",
       "..          ...          ...              ...         ...         ...   \n",
       "78     5.398700     0.731305         0.920690    2.699350    1.365742   \n",
       "79     3.740622     0.508050         1.117004    1.246874    0.946288   \n",
       "80     3.635530     0.494279         1.263417    1.817765    0.919703   \n",
       "81     0.600499     0.400792         0.407624    1.555293    0.768604   \n",
       "82     4.249247     0.564493         0.628724    0.531156    1.110203   \n",
       "\n",
       "    eff_div_rppower  eff_div_ss  \n",
       "0          0.305516    0.681002  \n",
       "1          0.360553    0.754173  \n",
       "2          0.534445    0.749520  \n",
       "3          0.613534    0.720004  \n",
       "4          0.784449    0.690217  \n",
       "..              ...         ...  \n",
       "78         0.760703    1.670714  \n",
       "79         0.782446    1.157595  \n",
       "80         0.832498    1.125073  \n",
       "81         0.403614    0.962621  \n",
       "82         0.586643    1.314998  \n",
       "\n",
       "[491 rows x 102 columns]"
      ]
     },
     "execution_count": 28,
     "metadata": {},
     "output_type": "execute_result"
    }
   ],
   "source": [
    "merge_df"
   ]
  },
  {
   "cell_type": "code",
   "execution_count": null,
   "id": "a782bbbf",
   "metadata": {},
   "outputs": [],
   "source": []
  },
  {
   "cell_type": "markdown",
   "id": "dd4ff5ce",
   "metadata": {},
   "source": [
    "# 3. 模型学习\n",
    "\n",
    "使用`sklearn`工具库自带的机器学习模型对训练数据进行拟合，并在测试数据上测试，评价指标为`precision`,`recall`,`f1_score`,`accuracy`。\n",
    "\n",
    "不同模型的调参方法不同，可以根据需要进行参数调整。"
   ]
  },
  {
   "cell_type": "markdown",
   "id": "b8a20cd9",
   "metadata": {},
   "source": [
    "## 3.0 输出特征矩阵\n",
    "\n",
    "输出训练特征矩阵分别为：`train_X`和`test_X`，测试标签为`train_y`和`test_y`。"
   ]
  },
  {
   "cell_type": "code",
   "execution_count": 29,
   "id": "ab5ef65e",
   "metadata": {},
   "outputs": [],
   "source": [
    "real_feature_lst = [k for k in merge_df.columns if not k in ('index','slice')]\n",
    "\n",
    "train_df = merge_df[merge_df.slice == 'train'].copy()\n",
    "test_df = merge_df[merge_df.slice == 'test'].copy()\n",
    "\n",
    "train_X = train_df[real_feature_lst].to_numpy()\n",
    "\n",
    "test_X = test_df[real_feature_lst].to_numpy()\n",
    "\n",
    "train_y = train_df[label_key].to_numpy()\n",
    "test_y = test_df[label_key].to_numpy()"
   ]
  },
  {
   "cell_type": "markdown",
   "id": "2c57efcb",
   "metadata": {},
   "source": [
    "## 3.1 lightgbm模型\n"
   ]
  },
  {
   "cell_type": "code",
   "execution_count": 30,
   "id": "605eae0a",
   "metadata": {},
   "outputs": [],
   "source": [
    "def lgbr_model(train_X,train_y):\n",
    "    # 设置分类阈值 超过该值的分类为1\n",
    "    threshold = 0.5\n",
    "    \n",
    "    model = LGBMClassifier(num_leaves=500,n_estimators=5000,\n",
    "                       verbosity=-1)\n",
    "    \n",
    "    model.fit(train_X,train_y)\n",
    "\n",
    "    pred_test_y = model.predict(test_X)\n",
    "    \n",
    "    pred_train_y = model.predict(train_X)\n",
    "    \n",
    "    ### 训练集分数\n",
    "    p_score = precision_score(train_y, pred_train_y)\n",
    "    r_score = recall_score(train_y, pred_train_y)\n",
    "    f_score = f1_score(train_y, pred_train_y)\n",
    "\n",
    "    ### 训练集结果\n",
    "    \n",
    "    print(f'Train Model:{model.__str__()}, Precision:{p_score:.4}, Recall:{r_score:.4}, F1:{f_score:.4}')\n",
    "\n",
    "    ### 测试集分数\n",
    "\n",
    "    p_score = precision_score(test_y, pred_test_y)\n",
    "    r_score = recall_score(test_y, pred_test_y)\n",
    "    f_score = f1_score(test_y, pred_test_y)\n",
    "\n",
    "    ### 测试集结果\n",
    "\n",
    "    print(f'Test Model:{model.__str__()}, Precision:{p_score:.4}, Recall:{r_score:.4}, F1:{f_score:.4}')\n",
    "    \n",
    "    return model"
   ]
  },
  {
   "cell_type": "code",
   "execution_count": 31,
   "id": "d1b41afb",
   "metadata": {},
   "outputs": [
    {
     "name": "stdout",
     "output_type": "stream",
     "text": [
      "Train Model:LGBMClassifier(n_estimators=5000, num_leaves=500, verbosity=-1), Precision:1.0, Recall:1.0, F1:1.0\n",
      "Test Model:LGBMClassifier(n_estimators=5000, num_leaves=500, verbosity=-1), Precision:0.9535, Recall:0.9535, F1:0.9535\n"
     ]
    }
   ],
   "source": [
    "model = lgbr_model(train_X,train_y)"
   ]
  },
  {
   "cell_type": "code",
   "execution_count": 33,
   "id": "1521a03b",
   "metadata": {},
   "outputs": [
    {
     "data": {
      "text/plain": [
       "<lightgbm.basic.Booster at 0x2997c5a8550>"
      ]
     },
     "execution_count": 33,
     "metadata": {},
     "output_type": "execute_result"
    }
   ],
   "source": [
    "model.booster_.save_model('../data/model_lgbc.txt')"
   ]
  },
  {
   "cell_type": "markdown",
   "id": "4d2d6752",
   "metadata": {},
   "source": [
    "## 3.2 输出特征重要性"
   ]
  },
  {
   "cell_type": "code",
   "execution_count": 32,
   "id": "664e4225",
   "metadata": {},
   "outputs": [],
   "source": [
    "model.feature_importances_\n",
    "\n",
    "sorted(zip([i for i in train_df.columns[1:]], model.feature_importances_), key=lambda x:x[1] ,reverse=True)\n",
    "\n",
    "feature_names = [i[0] for i in sorted(zip([i for i in real_feature_lst], model.feature_importances_), key=lambda x:x[1] ,reverse=False)]\n",
    "\n",
    "# len(model.feature_importances_)\n",
    "\n",
    "# len(feature_names)"
   ]
  },
  {
   "cell_type": "code",
   "execution_count": 33,
   "id": "719f84be",
   "metadata": {},
   "outputs": [],
   "source": [
    "# ax = lightgbm.plot_importance(booster=model,\n",
    "#                     )\n",
    "# ax.set_yticklabels(feature_names)"
   ]
  },
  {
   "cell_type": "markdown",
   "id": "a3bee448",
   "metadata": {},
   "source": [
    "## 3.3 线性回归模型"
   ]
  },
  {
   "cell_type": "code",
   "execution_count": 34,
   "id": "d05e02af",
   "metadata": {},
   "outputs": [],
   "source": [
    "def liner_model(train_X,train_y,test_X,test_y):\n",
    "    # 设置分类阈值 超过该值的分类为1\n",
    "    threshold = 0.5\n",
    "    \n",
    "    model = LinearRegression()\n",
    "    \n",
    "    model.fit(train_X,train_y)\n",
    "\n",
    "    pred_test_y = model.predict(test_X)\n",
    "    pred_test_y = np.array([1 if i>threshold else 0 for i in pred_test_y])\n",
    "    \n",
    "    pred_train_y = model.predict(train_X)\n",
    "    pred_train_y = np.array([1 if i>threshold else 0 for i in pred_train_y])\n",
    "    \n",
    "    ### 训练集分数\n",
    "    p_score = precision_score(train_y, pred_train_y)\n",
    "    r_score = recall_score(train_y, pred_train_y)\n",
    "    f_score = f1_score(train_y, pred_train_y)\n",
    "\n",
    "    ### 训练集结果\n",
    "    \n",
    "    print(f'Train Model:{model.__str__()}, Precision:{p_score:.4}, Recall:{r_score:.4}, F1:{f_score:.4}')\n",
    "\n",
    "    ### 测试集分数\n",
    "\n",
    "    p_score = precision_score(test_y, pred_test_y)\n",
    "    r_score = recall_score(test_y, pred_test_y)\n",
    "    f_score = f1_score(test_y, pred_test_y)\n",
    "\n",
    "    ### 测试集结果\n",
    "\n",
    "    print(f'Test Model:{model.__str__()}, Precision:{p_score:.4}, Recall:{r_score:.4}, F1:{f_score:.4}')\n",
    "    \n",
    "    return model"
   ]
  },
  {
   "cell_type": "code",
   "execution_count": 35,
   "id": "435b6f0b",
   "metadata": {},
   "outputs": [
    {
     "name": "stdout",
     "output_type": "stream",
     "text": [
      "Train Model:LinearRegression(), Precision:0.9835, Recall:0.9958, F1:0.9896\n",
      "Test Model:LinearRegression(), Precision:0.8511, Recall:0.9302, F1:0.8889\n"
     ]
    },
    {
     "data": {
      "text/html": [
       "<style>#sk-container-id-1 {color: black;background-color: white;}#sk-container-id-1 pre{padding: 0;}#sk-container-id-1 div.sk-toggleable {background-color: white;}#sk-container-id-1 label.sk-toggleable__label {cursor: pointer;display: block;width: 100%;margin-bottom: 0;padding: 0.3em;box-sizing: border-box;text-align: center;}#sk-container-id-1 label.sk-toggleable__label-arrow:before {content: \"▸\";float: left;margin-right: 0.25em;color: #696969;}#sk-container-id-1 label.sk-toggleable__label-arrow:hover:before {color: black;}#sk-container-id-1 div.sk-estimator:hover label.sk-toggleable__label-arrow:before {color: black;}#sk-container-id-1 div.sk-toggleable__content {max-height: 0;max-width: 0;overflow: hidden;text-align: left;background-color: #f0f8ff;}#sk-container-id-1 div.sk-toggleable__content pre {margin: 0.2em;color: black;border-radius: 0.25em;background-color: #f0f8ff;}#sk-container-id-1 input.sk-toggleable__control:checked~div.sk-toggleable__content {max-height: 200px;max-width: 100%;overflow: auto;}#sk-container-id-1 input.sk-toggleable__control:checked~label.sk-toggleable__label-arrow:before {content: \"▾\";}#sk-container-id-1 div.sk-estimator input.sk-toggleable__control:checked~label.sk-toggleable__label {background-color: #d4ebff;}#sk-container-id-1 div.sk-label input.sk-toggleable__control:checked~label.sk-toggleable__label {background-color: #d4ebff;}#sk-container-id-1 input.sk-hidden--visually {border: 0;clip: rect(1px 1px 1px 1px);clip: rect(1px, 1px, 1px, 1px);height: 1px;margin: -1px;overflow: hidden;padding: 0;position: absolute;width: 1px;}#sk-container-id-1 div.sk-estimator {font-family: monospace;background-color: #f0f8ff;border: 1px dotted black;border-radius: 0.25em;box-sizing: border-box;margin-bottom: 0.5em;}#sk-container-id-1 div.sk-estimator:hover {background-color: #d4ebff;}#sk-container-id-1 div.sk-parallel-item::after {content: \"\";width: 100%;border-bottom: 1px solid gray;flex-grow: 1;}#sk-container-id-1 div.sk-label:hover label.sk-toggleable__label {background-color: #d4ebff;}#sk-container-id-1 div.sk-serial::before {content: \"\";position: absolute;border-left: 1px solid gray;box-sizing: border-box;top: 0;bottom: 0;left: 50%;z-index: 0;}#sk-container-id-1 div.sk-serial {display: flex;flex-direction: column;align-items: center;background-color: white;padding-right: 0.2em;padding-left: 0.2em;position: relative;}#sk-container-id-1 div.sk-item {position: relative;z-index: 1;}#sk-container-id-1 div.sk-parallel {display: flex;align-items: stretch;justify-content: center;background-color: white;position: relative;}#sk-container-id-1 div.sk-item::before, #sk-container-id-1 div.sk-parallel-item::before {content: \"\";position: absolute;border-left: 1px solid gray;box-sizing: border-box;top: 0;bottom: 0;left: 50%;z-index: -1;}#sk-container-id-1 div.sk-parallel-item {display: flex;flex-direction: column;z-index: 1;position: relative;background-color: white;}#sk-container-id-1 div.sk-parallel-item:first-child::after {align-self: flex-end;width: 50%;}#sk-container-id-1 div.sk-parallel-item:last-child::after {align-self: flex-start;width: 50%;}#sk-container-id-1 div.sk-parallel-item:only-child::after {width: 0;}#sk-container-id-1 div.sk-dashed-wrapped {border: 1px dashed gray;margin: 0 0.4em 0.5em 0.4em;box-sizing: border-box;padding-bottom: 0.4em;background-color: white;}#sk-container-id-1 div.sk-label label {font-family: monospace;font-weight: bold;display: inline-block;line-height: 1.2em;}#sk-container-id-1 div.sk-label-container {text-align: center;}#sk-container-id-1 div.sk-container {/* jupyter's `normalize.less` sets `[hidden] { display: none; }` but bootstrap.min.css set `[hidden] { display: none !important; }` so we also need the `!important` here to be able to override the default hidden behavior on the sphinx rendered scikit-learn.org. See: https://github.com/scikit-learn/scikit-learn/issues/21755 */display: inline-block !important;position: relative;}#sk-container-id-1 div.sk-text-repr-fallback {display: none;}</style><div id=\"sk-container-id-1\" class=\"sk-top-container\"><div class=\"sk-text-repr-fallback\"><pre>LinearRegression()</pre><b>In a Jupyter environment, please rerun this cell to show the HTML representation or trust the notebook. <br />On GitHub, the HTML representation is unable to render, please try loading this page with nbviewer.org.</b></div><div class=\"sk-container\" hidden><div class=\"sk-item\"><div class=\"sk-estimator sk-toggleable\"><input class=\"sk-toggleable__control sk-hidden--visually\" id=\"sk-estimator-id-1\" type=\"checkbox\" checked><label for=\"sk-estimator-id-1\" class=\"sk-toggleable__label sk-toggleable__label-arrow\">LinearRegression</label><div class=\"sk-toggleable__content\"><pre>LinearRegression()</pre></div></div></div></div></div>"
      ],
      "text/plain": [
       "LinearRegression()"
      ]
     },
     "execution_count": 35,
     "metadata": {},
     "output_type": "execute_result"
    }
   ],
   "source": [
    "liner_model(train_X,train_y,test_X,test_y)"
   ]
  },
  {
   "cell_type": "markdown",
   "id": "1298595d",
   "metadata": {},
   "source": [
    "## 3.3 逻辑回归模型"
   ]
  },
  {
   "cell_type": "code",
   "execution_count": 36,
   "id": "74f98244",
   "metadata": {},
   "outputs": [],
   "source": [
    "def logistc_model(train_X,train_y,test_X,test_y):\n",
    "    # 设置分类阈值 超过该值的分类为1\n",
    "    threshold = 0.5\n",
    "    \n",
    "    model = LogisticRegression(max_iter=5000)\n",
    "    \n",
    "    model.fit(train_X,train_y)\n",
    "\n",
    "    pred_test_y = model.predict(test_X)\n",
    "    pred_test_y = np.array([1 if i>threshold else 0 for i in pred_test_y])\n",
    "    \n",
    "    pred_train_y = model.predict(train_X)\n",
    "    pred_train_y = np.array([1 if i>threshold else 0 for i in pred_train_y])\n",
    "    \n",
    "    ### 训练集分数\n",
    "    p_score = precision_score(train_y, pred_train_y)\n",
    "    r_score = recall_score(train_y, pred_train_y)\n",
    "    f_score = f1_score(train_y, pred_train_y)\n",
    "\n",
    "    ### 训练集结果\n",
    "    \n",
    "    print(f'Train Model:{model.__str__()}, Precision:{p_score:.4}, Recall:{r_score:.4}, F1:{f_score:.4}')\n",
    "\n",
    "    ### 测试集分数\n",
    "\n",
    "    p_score = precision_score(test_y, pred_test_y)\n",
    "    r_score = recall_score(test_y, pred_test_y)\n",
    "    f_score = f1_score(test_y, pred_test_y)\n",
    "\n",
    "    ### 测试集结果\n",
    "\n",
    "    print(f'Test Model:{model.__str__()}, Precision:{p_score:.4}, Recall:{r_score:.4}, F1:{f_score:.4}')\n",
    "    \n",
    "    return model"
   ]
  },
  {
   "cell_type": "code",
   "execution_count": 37,
   "id": "158d7cb5",
   "metadata": {},
   "outputs": [
    {
     "name": "stdout",
     "output_type": "stream",
     "text": [
      "Train Model:LogisticRegression(max_iter=5000), Precision:0.9755, Recall:0.9958, F1:0.9856\n",
      "Test Model:LogisticRegression(max_iter=5000), Precision:0.9762, Recall:0.9535, F1:0.9647\n"
     ]
    },
    {
     "data": {
      "text/html": [
       "<style>#sk-container-id-2 {color: black;background-color: white;}#sk-container-id-2 pre{padding: 0;}#sk-container-id-2 div.sk-toggleable {background-color: white;}#sk-container-id-2 label.sk-toggleable__label {cursor: pointer;display: block;width: 100%;margin-bottom: 0;padding: 0.3em;box-sizing: border-box;text-align: center;}#sk-container-id-2 label.sk-toggleable__label-arrow:before {content: \"▸\";float: left;margin-right: 0.25em;color: #696969;}#sk-container-id-2 label.sk-toggleable__label-arrow:hover:before {color: black;}#sk-container-id-2 div.sk-estimator:hover label.sk-toggleable__label-arrow:before {color: black;}#sk-container-id-2 div.sk-toggleable__content {max-height: 0;max-width: 0;overflow: hidden;text-align: left;background-color: #f0f8ff;}#sk-container-id-2 div.sk-toggleable__content pre {margin: 0.2em;color: black;border-radius: 0.25em;background-color: #f0f8ff;}#sk-container-id-2 input.sk-toggleable__control:checked~div.sk-toggleable__content {max-height: 200px;max-width: 100%;overflow: auto;}#sk-container-id-2 input.sk-toggleable__control:checked~label.sk-toggleable__label-arrow:before {content: \"▾\";}#sk-container-id-2 div.sk-estimator input.sk-toggleable__control:checked~label.sk-toggleable__label {background-color: #d4ebff;}#sk-container-id-2 div.sk-label input.sk-toggleable__control:checked~label.sk-toggleable__label {background-color: #d4ebff;}#sk-container-id-2 input.sk-hidden--visually {border: 0;clip: rect(1px 1px 1px 1px);clip: rect(1px, 1px, 1px, 1px);height: 1px;margin: -1px;overflow: hidden;padding: 0;position: absolute;width: 1px;}#sk-container-id-2 div.sk-estimator {font-family: monospace;background-color: #f0f8ff;border: 1px dotted black;border-radius: 0.25em;box-sizing: border-box;margin-bottom: 0.5em;}#sk-container-id-2 div.sk-estimator:hover {background-color: #d4ebff;}#sk-container-id-2 div.sk-parallel-item::after {content: \"\";width: 100%;border-bottom: 1px solid gray;flex-grow: 1;}#sk-container-id-2 div.sk-label:hover label.sk-toggleable__label {background-color: #d4ebff;}#sk-container-id-2 div.sk-serial::before {content: \"\";position: absolute;border-left: 1px solid gray;box-sizing: border-box;top: 0;bottom: 0;left: 50%;z-index: 0;}#sk-container-id-2 div.sk-serial {display: flex;flex-direction: column;align-items: center;background-color: white;padding-right: 0.2em;padding-left: 0.2em;position: relative;}#sk-container-id-2 div.sk-item {position: relative;z-index: 1;}#sk-container-id-2 div.sk-parallel {display: flex;align-items: stretch;justify-content: center;background-color: white;position: relative;}#sk-container-id-2 div.sk-item::before, #sk-container-id-2 div.sk-parallel-item::before {content: \"\";position: absolute;border-left: 1px solid gray;box-sizing: border-box;top: 0;bottom: 0;left: 50%;z-index: -1;}#sk-container-id-2 div.sk-parallel-item {display: flex;flex-direction: column;z-index: 1;position: relative;background-color: white;}#sk-container-id-2 div.sk-parallel-item:first-child::after {align-self: flex-end;width: 50%;}#sk-container-id-2 div.sk-parallel-item:last-child::after {align-self: flex-start;width: 50%;}#sk-container-id-2 div.sk-parallel-item:only-child::after {width: 0;}#sk-container-id-2 div.sk-dashed-wrapped {border: 1px dashed gray;margin: 0 0.4em 0.5em 0.4em;box-sizing: border-box;padding-bottom: 0.4em;background-color: white;}#sk-container-id-2 div.sk-label label {font-family: monospace;font-weight: bold;display: inline-block;line-height: 1.2em;}#sk-container-id-2 div.sk-label-container {text-align: center;}#sk-container-id-2 div.sk-container {/* jupyter's `normalize.less` sets `[hidden] { display: none; }` but bootstrap.min.css set `[hidden] { display: none !important; }` so we also need the `!important` here to be able to override the default hidden behavior on the sphinx rendered scikit-learn.org. See: https://github.com/scikit-learn/scikit-learn/issues/21755 */display: inline-block !important;position: relative;}#sk-container-id-2 div.sk-text-repr-fallback {display: none;}</style><div id=\"sk-container-id-2\" class=\"sk-top-container\"><div class=\"sk-text-repr-fallback\"><pre>LogisticRegression(max_iter=5000)</pre><b>In a Jupyter environment, please rerun this cell to show the HTML representation or trust the notebook. <br />On GitHub, the HTML representation is unable to render, please try loading this page with nbviewer.org.</b></div><div class=\"sk-container\" hidden><div class=\"sk-item\"><div class=\"sk-estimator sk-toggleable\"><input class=\"sk-toggleable__control sk-hidden--visually\" id=\"sk-estimator-id-2\" type=\"checkbox\" checked><label for=\"sk-estimator-id-2\" class=\"sk-toggleable__label sk-toggleable__label-arrow\">LogisticRegression</label><div class=\"sk-toggleable__content\"><pre>LogisticRegression(max_iter=5000)</pre></div></div></div></div></div>"
      ],
      "text/plain": [
       "LogisticRegression(max_iter=5000)"
      ]
     },
     "execution_count": 37,
     "metadata": {},
     "output_type": "execute_result"
    }
   ],
   "source": [
    "logistc_model(train_X,train_y,test_X,test_y)"
   ]
  },
  {
   "cell_type": "markdown",
   "id": "8685d447",
   "metadata": {},
   "source": [
    "## 3.4 支持向量分类"
   ]
  },
  {
   "cell_type": "code",
   "execution_count": 38,
   "id": "4393bd87",
   "metadata": {},
   "outputs": [],
   "source": [
    "def svm_model(train_X,train_y,test_X,test_y):\n",
    "    # 设置分类阈值 超过该值的分类为1\n",
    "    threshold = 0.5\n",
    "    \n",
    "    model = SVC(max_iter=1_000)\n",
    "    \n",
    "    model.fit(train_X,train_y)\n",
    "\n",
    "    pred_test_y = model.predict(test_X)\n",
    "    pred_test_y = np.array([1 if i>threshold else 0 for i in pred_test_y])\n",
    "    \n",
    "    pred_train_y = model.predict(train_X)\n",
    "    pred_train_y = np.array([1 if i>threshold else 0 for i in pred_train_y])\n",
    "    \n",
    "    ### 训练集分数\n",
    "    p_score = precision_score(train_y, pred_train_y)\n",
    "    r_score = recall_score(train_y, pred_train_y)\n",
    "    f_score = f1_score(train_y, pred_train_y)\n",
    "\n",
    "    ### 训练集结果\n",
    "    \n",
    "    print(f'Train Model:{model.__str__()}, Precision:{p_score:.4}, Recall:{r_score:.4}, F1:{f_score:.4}')\n",
    "\n",
    "    ### 测试集分数\n",
    "\n",
    "    p_score = precision_score(test_y, pred_test_y)\n",
    "    r_score = recall_score(test_y, pred_test_y)\n",
    "    f_score = f1_score(test_y, pred_test_y)\n",
    "\n",
    "    ### 测试集结果\n",
    "\n",
    "    print(f'Test Model:{model.__str__()}, Precision:{p_score:.4}, Recall:{r_score:.4}, F1:{f_score:.4}')\n",
    "    \n",
    "    return model"
   ]
  },
  {
   "cell_type": "code",
   "execution_count": 39,
   "id": "b9ae01e6",
   "metadata": {},
   "outputs": [
    {
     "name": "stdout",
     "output_type": "stream",
     "text": [
      "Train Model:SVC(max_iter=1000), Precision:0.9467, Recall:0.9625, F1:0.9545\n",
      "Test Model:SVC(max_iter=1000), Precision:0.8936, Recall:0.9767, F1:0.9333\n"
     ]
    },
    {
     "data": {
      "text/html": [
       "<style>#sk-container-id-3 {color: black;background-color: white;}#sk-container-id-3 pre{padding: 0;}#sk-container-id-3 div.sk-toggleable {background-color: white;}#sk-container-id-3 label.sk-toggleable__label {cursor: pointer;display: block;width: 100%;margin-bottom: 0;padding: 0.3em;box-sizing: border-box;text-align: center;}#sk-container-id-3 label.sk-toggleable__label-arrow:before {content: \"▸\";float: left;margin-right: 0.25em;color: #696969;}#sk-container-id-3 label.sk-toggleable__label-arrow:hover:before {color: black;}#sk-container-id-3 div.sk-estimator:hover label.sk-toggleable__label-arrow:before {color: black;}#sk-container-id-3 div.sk-toggleable__content {max-height: 0;max-width: 0;overflow: hidden;text-align: left;background-color: #f0f8ff;}#sk-container-id-3 div.sk-toggleable__content pre {margin: 0.2em;color: black;border-radius: 0.25em;background-color: #f0f8ff;}#sk-container-id-3 input.sk-toggleable__control:checked~div.sk-toggleable__content {max-height: 200px;max-width: 100%;overflow: auto;}#sk-container-id-3 input.sk-toggleable__control:checked~label.sk-toggleable__label-arrow:before {content: \"▾\";}#sk-container-id-3 div.sk-estimator input.sk-toggleable__control:checked~label.sk-toggleable__label {background-color: #d4ebff;}#sk-container-id-3 div.sk-label input.sk-toggleable__control:checked~label.sk-toggleable__label {background-color: #d4ebff;}#sk-container-id-3 input.sk-hidden--visually {border: 0;clip: rect(1px 1px 1px 1px);clip: rect(1px, 1px, 1px, 1px);height: 1px;margin: -1px;overflow: hidden;padding: 0;position: absolute;width: 1px;}#sk-container-id-3 div.sk-estimator {font-family: monospace;background-color: #f0f8ff;border: 1px dotted black;border-radius: 0.25em;box-sizing: border-box;margin-bottom: 0.5em;}#sk-container-id-3 div.sk-estimator:hover {background-color: #d4ebff;}#sk-container-id-3 div.sk-parallel-item::after {content: \"\";width: 100%;border-bottom: 1px solid gray;flex-grow: 1;}#sk-container-id-3 div.sk-label:hover label.sk-toggleable__label {background-color: #d4ebff;}#sk-container-id-3 div.sk-serial::before {content: \"\";position: absolute;border-left: 1px solid gray;box-sizing: border-box;top: 0;bottom: 0;left: 50%;z-index: 0;}#sk-container-id-3 div.sk-serial {display: flex;flex-direction: column;align-items: center;background-color: white;padding-right: 0.2em;padding-left: 0.2em;position: relative;}#sk-container-id-3 div.sk-item {position: relative;z-index: 1;}#sk-container-id-3 div.sk-parallel {display: flex;align-items: stretch;justify-content: center;background-color: white;position: relative;}#sk-container-id-3 div.sk-item::before, #sk-container-id-3 div.sk-parallel-item::before {content: \"\";position: absolute;border-left: 1px solid gray;box-sizing: border-box;top: 0;bottom: 0;left: 50%;z-index: -1;}#sk-container-id-3 div.sk-parallel-item {display: flex;flex-direction: column;z-index: 1;position: relative;background-color: white;}#sk-container-id-3 div.sk-parallel-item:first-child::after {align-self: flex-end;width: 50%;}#sk-container-id-3 div.sk-parallel-item:last-child::after {align-self: flex-start;width: 50%;}#sk-container-id-3 div.sk-parallel-item:only-child::after {width: 0;}#sk-container-id-3 div.sk-dashed-wrapped {border: 1px dashed gray;margin: 0 0.4em 0.5em 0.4em;box-sizing: border-box;padding-bottom: 0.4em;background-color: white;}#sk-container-id-3 div.sk-label label {font-family: monospace;font-weight: bold;display: inline-block;line-height: 1.2em;}#sk-container-id-3 div.sk-label-container {text-align: center;}#sk-container-id-3 div.sk-container {/* jupyter's `normalize.less` sets `[hidden] { display: none; }` but bootstrap.min.css set `[hidden] { display: none !important; }` so we also need the `!important` here to be able to override the default hidden behavior on the sphinx rendered scikit-learn.org. See: https://github.com/scikit-learn/scikit-learn/issues/21755 */display: inline-block !important;position: relative;}#sk-container-id-3 div.sk-text-repr-fallback {display: none;}</style><div id=\"sk-container-id-3\" class=\"sk-top-container\"><div class=\"sk-text-repr-fallback\"><pre>SVC(max_iter=1000)</pre><b>In a Jupyter environment, please rerun this cell to show the HTML representation or trust the notebook. <br />On GitHub, the HTML representation is unable to render, please try loading this page with nbviewer.org.</b></div><div class=\"sk-container\" hidden><div class=\"sk-item\"><div class=\"sk-estimator sk-toggleable\"><input class=\"sk-toggleable__control sk-hidden--visually\" id=\"sk-estimator-id-3\" type=\"checkbox\" checked><label for=\"sk-estimator-id-3\" class=\"sk-toggleable__label sk-toggleable__label-arrow\">SVC</label><div class=\"sk-toggleable__content\"><pre>SVC(max_iter=1000)</pre></div></div></div></div></div>"
      ],
      "text/plain": [
       "SVC(max_iter=1000)"
      ]
     },
     "execution_count": 39,
     "metadata": {},
     "output_type": "execute_result"
    }
   ],
   "source": [
    "svm_model(train_X,train_y,test_X,test_y)"
   ]
  },
  {
   "cell_type": "code",
   "execution_count": null,
   "id": "add2768a",
   "metadata": {},
   "outputs": [],
   "source": []
  },
  {
   "cell_type": "code",
   "execution_count": null,
   "id": "fb8fb9ae",
   "metadata": {},
   "outputs": [],
   "source": []
  }
 ],
 "metadata": {
  "kernelspec": {
   "display_name": "Python 3",
   "language": "python",
   "name": "python3"
  },
  "language_info": {
   "codemirror_mode": {
    "name": "ipython",
    "version": 3
   },
   "file_extension": ".py",
   "mimetype": "text/x-python",
   "name": "python",
   "nbconvert_exporter": "python",
   "pygments_lexer": "ipython3",
   "version": "3.8.3"
  }
 },
 "nbformat": 4,
 "nbformat_minor": 5
}
