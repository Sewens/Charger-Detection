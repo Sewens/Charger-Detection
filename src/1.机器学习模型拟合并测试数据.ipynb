{
 "cells": [
  {
   "cell_type": "markdown",
   "id": "f4957062",
   "metadata": {},
   "source": [
    "# 机器学习拟合并测试数据\n",
    "\n",
    "1. 读取数据目录：\n",
    "\n",
    "训练集：`../data/train.csv`\n",
    "\n",
    "测试集：`../data/test.csv`\n",
    "\n",
    "2. 数据格式（列名）\n",
    "\n",
    "```\n",
    "index,q,powerloss,f,vout,iout,pa,prx,bty_temp,chnl,ce_pkg,rpp_pkg,ss_pkg,location\n",
    "```\n",
    "\n",
    "其中：`index`为数据id，唯一；`location`为数据标签；其余部分为特征值字段。\n",
    "\n",
    "3. 测试模型\n",
    "\n",
    "- [X] 线性回归（linear regression）\n",
    "- [X] 逻辑回归（logistic regression）"
   ]
  },
  {
   "cell_type": "code",
   "execution_count": 1,
   "id": "816395fc",
   "metadata": {},
   "outputs": [],
   "source": [
    "import sklearn\n",
    "import pandas as pd\n",
    "import numpy as np\n",
    "import time\n",
    "import random\n",
    "import pickle"
   ]
  },
  {
   "cell_type": "markdown",
   "id": "000451d2",
   "metadata": {},
   "source": [
    "# 0. 读取数据\n",
    "\n",
    "读取数据并转换为机器学习可用的矩阵（numpy格式）"
   ]
  },
  {
   "cell_type": "code",
   "execution_count": 5,
   "id": "20e959e9",
   "metadata": {},
   "outputs": [],
   "source": [
    "# 数据范围\n",
    "feature_range_dict = {\n",
    "    'q':(0,2),\n",
    "    'powerloss':(0,10_000),\n",
    "    'f':(130,146),\n",
    "    'vout':(15,19),\n",
    "    'iout':(0,2500),\n",
    "    'pa':(0,65),\n",
    "    'prx':(0,65),\n",
    "    'bty_temp':(0,50),\n",
    "    'chnl':(0,8),\n",
    "    'ce_pkg':(-127,128),\n",
    "    'rpp_pkg':(0,65),\n",
    "    'ss_pkg':(0,255)\n",
    "}"
   ]
  },
  {
   "cell_type": "code",
   "execution_count": 4,
   "id": "5c12a404",
   "metadata": {},
   "outputs": [],
   "source": [
    "# 特征字段名 顺序任意\n",
    "feature_key_lst = ['q',\n",
    "                   'powerloss',\n",
    "                   'f',\n",
    "                   'vout',\n",
    "                   'iout',\n",
    "                   'pa',\n",
    "                   'prx',\n",
    "                   'bty_temp',\n",
    "                   'chnl',\n",
    "                   'ce_pkg',\n",
    "                   'rpp_pkg',\n",
    "                   'ss_pkg']\n",
    "# 标签字段名\n",
    "label_key = 'location'"
   ]
  },
  {
   "cell_type": "code",
   "execution_count": 2,
   "id": "2cfd911d",
   "metadata": {},
   "outputs": [],
   "source": [
    "# 训练集数据路径\n",
    "train_csv_path = '../data/train.csv'\n",
    "# 测试集数据路径\n",
    "test_csv_path = '../data/test.csv'"
   ]
  },
  {
   "cell_type": "code",
   "execution_count": 3,
   "id": "6e2694f7",
   "metadata": {},
   "outputs": [],
   "source": [
    "train_df = pd.read_csv(train_csv_path)\n",
    "test_df = pd.read_csv(test_csv_path)"
   ]
  },
  {
   "cell_type": "markdown",
   "id": "53503092",
   "metadata": {},
   "source": [
    "# 1. 缺失数据补全（todo）\n",
    "\n",
    "如果存在部分列数据缺失，在这一步骤进行数据的补全以便于减少这部分缺失数据的影响。"
   ]
  },
  {
   "cell_type": "code",
   "execution_count": null,
   "id": "32cdfa75",
   "metadata": {},
   "outputs": [],
   "source": []
  },
  {
   "cell_type": "markdown",
   "id": "a9804a31",
   "metadata": {},
   "source": [
    "# 2. 特征处理\n",
    "\n",
    "这一步骤针对每列特征进行处理，处理手段有很多种，例如数据分桶，数据扩展，数据统计等等，此处只对数据进行归一化放缩，使得所有特征值范围均在`0,1`之间，以便于机器学习模型学习的稳定性。\n",
    "\n",
    "后续根据问题的深入程度不同，可以将更多的特征处理手段应用在这一步骤，来增强整体机器学习系统的表现。"
   ]
  },
  {
   "cell_type": "markdown",
   "id": "023abefa",
   "metadata": {},
   "source": [
    "## 2.1 数据归一化\n",
    "\n",
    "根据特征值范围，将现有特征放缩到`(0,1)`之间"
   ]
  },
  {
   "cell_type": "code",
   "execution_count": 6,
   "id": "223618b3",
   "metadata": {},
   "outputs": [],
   "source": [
    "for k in feature_key_lst:\n",
    "    # 数据范围上界\n",
    "    ub = feature_range_dict[k][0]\n",
    "    # 数据范围下界\n",
    "    lb = feature_range_dict[k][1]\n",
    "    \n",
    "    train_df[k] = train_df[k].apply(lambda x:(x-lb)/(ub-lb))\n",
    "    test_df[k] = test_df[k].apply(lambda x:(x-lb)/(ub-lb))"
   ]
  },
  {
   "cell_type": "code",
   "execution_count": 7,
   "id": "587b8351",
   "metadata": {},
   "outputs": [
    {
     "data": {
      "text/html": [
       "<div>\n",
       "<style scoped>\n",
       "    .dataframe tbody tr th:only-of-type {\n",
       "        vertical-align: middle;\n",
       "    }\n",
       "\n",
       "    .dataframe tbody tr th {\n",
       "        vertical-align: top;\n",
       "    }\n",
       "\n",
       "    .dataframe thead th {\n",
       "        text-align: right;\n",
       "    }\n",
       "</style>\n",
       "<table border=\"1\" class=\"dataframe\">\n",
       "  <thead>\n",
       "    <tr style=\"text-align: right;\">\n",
       "      <th></th>\n",
       "      <th>index</th>\n",
       "      <th>q</th>\n",
       "      <th>powerloss</th>\n",
       "      <th>f</th>\n",
       "      <th>vout</th>\n",
       "      <th>iout</th>\n",
       "      <th>pa</th>\n",
       "      <th>prx</th>\n",
       "      <th>bty_temp</th>\n",
       "      <th>chnl</th>\n",
       "      <th>ce_pkg</th>\n",
       "      <th>rpp_pkg</th>\n",
       "      <th>ss_pkg</th>\n",
       "      <th>location</th>\n",
       "    </tr>\n",
       "  </thead>\n",
       "  <tbody>\n",
       "    <tr>\n",
       "      <th>0</th>\n",
       "      <td>0</td>\n",
       "      <td>0.655</td>\n",
       "      <td>0.230471</td>\n",
       "      <td>0.815000</td>\n",
       "      <td>0.4375</td>\n",
       "      <td>0.428064</td>\n",
       "      <td>0.325077</td>\n",
       "      <td>0.555846</td>\n",
       "      <td>0.5664</td>\n",
       "      <td>0.33625</td>\n",
       "      <td>0.488196</td>\n",
       "      <td>0.771692</td>\n",
       "      <td>0.800235</td>\n",
       "      <td>0</td>\n",
       "    </tr>\n",
       "    <tr>\n",
       "      <th>1</th>\n",
       "      <td>2</td>\n",
       "      <td>0.475</td>\n",
       "      <td>0.449208</td>\n",
       "      <td>0.294375</td>\n",
       "      <td>0.5050</td>\n",
       "      <td>0.502956</td>\n",
       "      <td>0.089385</td>\n",
       "      <td>0.341538</td>\n",
       "      <td>0.7860</td>\n",
       "      <td>0.49875</td>\n",
       "      <td>0.610157</td>\n",
       "      <td>0.677385</td>\n",
       "      <td>0.031922</td>\n",
       "      <td>0</td>\n",
       "    </tr>\n",
       "    <tr>\n",
       "      <th>2</th>\n",
       "      <td>3</td>\n",
       "      <td>0.205</td>\n",
       "      <td>0.952435</td>\n",
       "      <td>0.506875</td>\n",
       "      <td>0.6550</td>\n",
       "      <td>0.578700</td>\n",
       "      <td>0.830308</td>\n",
       "      <td>0.555846</td>\n",
       "      <td>0.3628</td>\n",
       "      <td>0.85125</td>\n",
       "      <td>0.752588</td>\n",
       "      <td>0.545385</td>\n",
       "      <td>0.610078</td>\n",
       "      <td>1</td>\n",
       "    </tr>\n",
       "    <tr>\n",
       "      <th>3</th>\n",
       "      <td>4</td>\n",
       "      <td>0.560</td>\n",
       "      <td>0.065574</td>\n",
       "      <td>0.243125</td>\n",
       "      <td>0.7025</td>\n",
       "      <td>0.652048</td>\n",
       "      <td>0.751385</td>\n",
       "      <td>0.404769</td>\n",
       "      <td>0.0940</td>\n",
       "      <td>0.50250</td>\n",
       "      <td>0.879333</td>\n",
       "      <td>0.341538</td>\n",
       "      <td>0.299333</td>\n",
       "      <td>1</td>\n",
       "    </tr>\n",
       "    <tr>\n",
       "      <th>4</th>\n",
       "      <td>5</td>\n",
       "      <td>0.620</td>\n",
       "      <td>0.127662</td>\n",
       "      <td>0.681250</td>\n",
       "      <td>0.6800</td>\n",
       "      <td>0.987036</td>\n",
       "      <td>0.118769</td>\n",
       "      <td>0.949231</td>\n",
       "      <td>0.5948</td>\n",
       "      <td>0.20125</td>\n",
       "      <td>0.724549</td>\n",
       "      <td>0.620462</td>\n",
       "      <td>0.146510</td>\n",
       "      <td>1</td>\n",
       "    </tr>\n",
       "    <tr>\n",
       "      <th>...</th>\n",
       "      <td>...</td>\n",
       "      <td>...</td>\n",
       "      <td>...</td>\n",
       "      <td>...</td>\n",
       "      <td>...</td>\n",
       "      <td>...</td>\n",
       "      <td>...</td>\n",
       "      <td>...</td>\n",
       "      <td>...</td>\n",
       "      <td>...</td>\n",
       "      <td>...</td>\n",
       "      <td>...</td>\n",
       "      <td>...</td>\n",
       "      <td>...</td>\n",
       "    </tr>\n",
       "    <tr>\n",
       "      <th>1595</th>\n",
       "      <td>1994</td>\n",
       "      <td>0.405</td>\n",
       "      <td>0.978006</td>\n",
       "      <td>0.770000</td>\n",
       "      <td>0.0100</td>\n",
       "      <td>0.244508</td>\n",
       "      <td>0.703846</td>\n",
       "      <td>0.040154</td>\n",
       "      <td>0.2202</td>\n",
       "      <td>0.60875</td>\n",
       "      <td>0.016353</td>\n",
       "      <td>0.303538</td>\n",
       "      <td>0.228196</td>\n",
       "      <td>0</td>\n",
       "    </tr>\n",
       "    <tr>\n",
       "      <th>1596</th>\n",
       "      <td>1995</td>\n",
       "      <td>0.970</td>\n",
       "      <td>0.011367</td>\n",
       "      <td>0.008750</td>\n",
       "      <td>0.3075</td>\n",
       "      <td>0.013540</td>\n",
       "      <td>0.962615</td>\n",
       "      <td>0.341692</td>\n",
       "      <td>0.6446</td>\n",
       "      <td>0.91750</td>\n",
       "      <td>0.754941</td>\n",
       "      <td>0.846923</td>\n",
       "      <td>0.749961</td>\n",
       "      <td>1</td>\n",
       "    </tr>\n",
       "    <tr>\n",
       "      <th>1597</th>\n",
       "      <td>1996</td>\n",
       "      <td>0.650</td>\n",
       "      <td>0.811528</td>\n",
       "      <td>0.893750</td>\n",
       "      <td>0.0725</td>\n",
       "      <td>0.160432</td>\n",
       "      <td>0.630615</td>\n",
       "      <td>0.493231</td>\n",
       "      <td>0.1374</td>\n",
       "      <td>0.26875</td>\n",
       "      <td>0.330196</td>\n",
       "      <td>0.103692</td>\n",
       "      <td>0.776667</td>\n",
       "      <td>1</td>\n",
       "    </tr>\n",
       "    <tr>\n",
       "      <th>1598</th>\n",
       "      <td>1998</td>\n",
       "      <td>0.030</td>\n",
       "      <td>0.780665</td>\n",
       "      <td>0.053750</td>\n",
       "      <td>0.1925</td>\n",
       "      <td>0.432216</td>\n",
       "      <td>0.292769</td>\n",
       "      <td>0.190462</td>\n",
       "      <td>0.0680</td>\n",
       "      <td>0.05375</td>\n",
       "      <td>0.527647</td>\n",
       "      <td>0.141077</td>\n",
       "      <td>0.065098</td>\n",
       "      <td>1</td>\n",
       "    </tr>\n",
       "    <tr>\n",
       "      <th>1599</th>\n",
       "      <td>1999</td>\n",
       "      <td>0.315</td>\n",
       "      <td>0.604005</td>\n",
       "      <td>0.393750</td>\n",
       "      <td>0.4650</td>\n",
       "      <td>0.200284</td>\n",
       "      <td>0.464615</td>\n",
       "      <td>0.786000</td>\n",
       "      <td>0.5682</td>\n",
       "      <td>0.37000</td>\n",
       "      <td>0.960392</td>\n",
       "      <td>0.908000</td>\n",
       "      <td>0.310039</td>\n",
       "      <td>1</td>\n",
       "    </tr>\n",
       "  </tbody>\n",
       "</table>\n",
       "<p>1600 rows × 14 columns</p>\n",
       "</div>"
      ],
      "text/plain": [
       "      index      q  powerloss         f    vout      iout        pa       prx  \\\n",
       "0         0  0.655   0.230471  0.815000  0.4375  0.428064  0.325077  0.555846   \n",
       "1         2  0.475   0.449208  0.294375  0.5050  0.502956  0.089385  0.341538   \n",
       "2         3  0.205   0.952435  0.506875  0.6550  0.578700  0.830308  0.555846   \n",
       "3         4  0.560   0.065574  0.243125  0.7025  0.652048  0.751385  0.404769   \n",
       "4         5  0.620   0.127662  0.681250  0.6800  0.987036  0.118769  0.949231   \n",
       "...     ...    ...        ...       ...     ...       ...       ...       ...   \n",
       "1595   1994  0.405   0.978006  0.770000  0.0100  0.244508  0.703846  0.040154   \n",
       "1596   1995  0.970   0.011367  0.008750  0.3075  0.013540  0.962615  0.341692   \n",
       "1597   1996  0.650   0.811528  0.893750  0.0725  0.160432  0.630615  0.493231   \n",
       "1598   1998  0.030   0.780665  0.053750  0.1925  0.432216  0.292769  0.190462   \n",
       "1599   1999  0.315   0.604005  0.393750  0.4650  0.200284  0.464615  0.786000   \n",
       "\n",
       "      bty_temp     chnl    ce_pkg   rpp_pkg    ss_pkg  location  \n",
       "0       0.5664  0.33625  0.488196  0.771692  0.800235         0  \n",
       "1       0.7860  0.49875  0.610157  0.677385  0.031922         0  \n",
       "2       0.3628  0.85125  0.752588  0.545385  0.610078         1  \n",
       "3       0.0940  0.50250  0.879333  0.341538  0.299333         1  \n",
       "4       0.5948  0.20125  0.724549  0.620462  0.146510         1  \n",
       "...        ...      ...       ...       ...       ...       ...  \n",
       "1595    0.2202  0.60875  0.016353  0.303538  0.228196         0  \n",
       "1596    0.6446  0.91750  0.754941  0.846923  0.749961         1  \n",
       "1597    0.1374  0.26875  0.330196  0.103692  0.776667         1  \n",
       "1598    0.0680  0.05375  0.527647  0.141077  0.065098         1  \n",
       "1599    0.5682  0.37000  0.960392  0.908000  0.310039         1  \n",
       "\n",
       "[1600 rows x 14 columns]"
      ]
     },
     "execution_count": 7,
     "metadata": {},
     "output_type": "execute_result"
    }
   ],
   "source": [
    "train_df"
   ]
  },
  {
   "cell_type": "markdown",
   "id": "449b919b",
   "metadata": {},
   "source": [
    "## 2.2 输出特征矩阵\n",
    "\n",
    "输出训练特征矩阵分别为：`train_X`和`test_X`，测试标签为`train_y`和`test_y`。"
   ]
  },
  {
   "cell_type": "code",
   "execution_count": 8,
   "id": "e6c9aea8",
   "metadata": {},
   "outputs": [],
   "source": [
    "train_X = train_df[feature_key_lst].to_numpy()"
   ]
  },
  {
   "cell_type": "code",
   "execution_count": 10,
   "id": "0b932369",
   "metadata": {
    "scrolled": false
   },
   "outputs": [
    {
     "data": {
      "text/plain": [
       "(1600, 12)"
      ]
     },
     "execution_count": 10,
     "metadata": {},
     "output_type": "execute_result"
    }
   ],
   "source": [
    "train_X.shape"
   ]
  },
  {
   "cell_type": "code",
   "execution_count": 11,
   "id": "6cce1918",
   "metadata": {},
   "outputs": [],
   "source": [
    "test_X = test_df[feature_key_lst].to_numpy()"
   ]
  },
  {
   "cell_type": "code",
   "execution_count": 12,
   "id": "a1ab95e9",
   "metadata": {},
   "outputs": [
    {
     "data": {
      "text/plain": [
       "(400, 12)"
      ]
     },
     "execution_count": 12,
     "metadata": {},
     "output_type": "execute_result"
    }
   ],
   "source": [
    "test_X.shape"
   ]
  },
  {
   "cell_type": "code",
   "execution_count": 13,
   "id": "f5ee2c26",
   "metadata": {},
   "outputs": [],
   "source": [
    "train_y = train_df[label_key].to_numpy()\n",
    "test_y = test_df[label_key].to_numpy()"
   ]
  },
  {
   "cell_type": "markdown",
   "id": "7d3f6195",
   "metadata": {},
   "source": [
    "# 3. 模型学习\n",
    "\n",
    "使用`sklearn`工具库自带的机器学习模型对训练数据进行拟合，并在测试数据上测试，评价指标为`precision`,`recall`,`f1_score`,`accuracy`。\n",
    "\n",
    "不同模型的调参方法不同，可以根据需要进行参数调整。"
   ]
  },
  {
   "cell_type": "markdown",
   "id": "da2c629d",
   "metadata": {},
   "source": [
    "## 3.0 引入评价指标"
   ]
  },
  {
   "cell_type": "code",
   "execution_count": 59,
   "id": "18032a01",
   "metadata": {},
   "outputs": [],
   "source": [
    "from sklearn.metrics import precision_score,recall_score,f1_score,accuracy_score"
   ]
  },
  {
   "cell_type": "markdown",
   "id": "3f330dba",
   "metadata": {},
   "source": [
    "## 3.1 线性回归模型"
   ]
  },
  {
   "cell_type": "code",
   "execution_count": 46,
   "id": "9487a3a1",
   "metadata": {},
   "outputs": [],
   "source": [
    "from sklearn.linear_model import LinearRegression"
   ]
  },
  {
   "cell_type": "code",
   "execution_count": 47,
   "id": "73737a00",
   "metadata": {},
   "outputs": [],
   "source": [
    "# 设置分类阈值 超过该值的分类为1\n",
    "threshold = 0.5"
   ]
  },
  {
   "cell_type": "code",
   "execution_count": 48,
   "id": "5994c7f9",
   "metadata": {},
   "outputs": [],
   "source": [
    "model = LinearRegression()"
   ]
  },
  {
   "cell_type": "code",
   "execution_count": 49,
   "id": "bf8fa15c",
   "metadata": {
    "scrolled": true
   },
   "outputs": [
    {
     "data": {
      "text/html": [
       "<style>#sk-container-id-4 {color: black;background-color: white;}#sk-container-id-4 pre{padding: 0;}#sk-container-id-4 div.sk-toggleable {background-color: white;}#sk-container-id-4 label.sk-toggleable__label {cursor: pointer;display: block;width: 100%;margin-bottom: 0;padding: 0.3em;box-sizing: border-box;text-align: center;}#sk-container-id-4 label.sk-toggleable__label-arrow:before {content: \"▸\";float: left;margin-right: 0.25em;color: #696969;}#sk-container-id-4 label.sk-toggleable__label-arrow:hover:before {color: black;}#sk-container-id-4 div.sk-estimator:hover label.sk-toggleable__label-arrow:before {color: black;}#sk-container-id-4 div.sk-toggleable__content {max-height: 0;max-width: 0;overflow: hidden;text-align: left;background-color: #f0f8ff;}#sk-container-id-4 div.sk-toggleable__content pre {margin: 0.2em;color: black;border-radius: 0.25em;background-color: #f0f8ff;}#sk-container-id-4 input.sk-toggleable__control:checked~div.sk-toggleable__content {max-height: 200px;max-width: 100%;overflow: auto;}#sk-container-id-4 input.sk-toggleable__control:checked~label.sk-toggleable__label-arrow:before {content: \"▾\";}#sk-container-id-4 div.sk-estimator input.sk-toggleable__control:checked~label.sk-toggleable__label {background-color: #d4ebff;}#sk-container-id-4 div.sk-label input.sk-toggleable__control:checked~label.sk-toggleable__label {background-color: #d4ebff;}#sk-container-id-4 input.sk-hidden--visually {border: 0;clip: rect(1px 1px 1px 1px);clip: rect(1px, 1px, 1px, 1px);height: 1px;margin: -1px;overflow: hidden;padding: 0;position: absolute;width: 1px;}#sk-container-id-4 div.sk-estimator {font-family: monospace;background-color: #f0f8ff;border: 1px dotted black;border-radius: 0.25em;box-sizing: border-box;margin-bottom: 0.5em;}#sk-container-id-4 div.sk-estimator:hover {background-color: #d4ebff;}#sk-container-id-4 div.sk-parallel-item::after {content: \"\";width: 100%;border-bottom: 1px solid gray;flex-grow: 1;}#sk-container-id-4 div.sk-label:hover label.sk-toggleable__label {background-color: #d4ebff;}#sk-container-id-4 div.sk-serial::before {content: \"\";position: absolute;border-left: 1px solid gray;box-sizing: border-box;top: 0;bottom: 0;left: 50%;z-index: 0;}#sk-container-id-4 div.sk-serial {display: flex;flex-direction: column;align-items: center;background-color: white;padding-right: 0.2em;padding-left: 0.2em;position: relative;}#sk-container-id-4 div.sk-item {position: relative;z-index: 1;}#sk-container-id-4 div.sk-parallel {display: flex;align-items: stretch;justify-content: center;background-color: white;position: relative;}#sk-container-id-4 div.sk-item::before, #sk-container-id-4 div.sk-parallel-item::before {content: \"\";position: absolute;border-left: 1px solid gray;box-sizing: border-box;top: 0;bottom: 0;left: 50%;z-index: -1;}#sk-container-id-4 div.sk-parallel-item {display: flex;flex-direction: column;z-index: 1;position: relative;background-color: white;}#sk-container-id-4 div.sk-parallel-item:first-child::after {align-self: flex-end;width: 50%;}#sk-container-id-4 div.sk-parallel-item:last-child::after {align-self: flex-start;width: 50%;}#sk-container-id-4 div.sk-parallel-item:only-child::after {width: 0;}#sk-container-id-4 div.sk-dashed-wrapped {border: 1px dashed gray;margin: 0 0.4em 0.5em 0.4em;box-sizing: border-box;padding-bottom: 0.4em;background-color: white;}#sk-container-id-4 div.sk-label label {font-family: monospace;font-weight: bold;display: inline-block;line-height: 1.2em;}#sk-container-id-4 div.sk-label-container {text-align: center;}#sk-container-id-4 div.sk-container {/* jupyter's `normalize.less` sets `[hidden] { display: none; }` but bootstrap.min.css set `[hidden] { display: none !important; }` so we also need the `!important` here to be able to override the default hidden behavior on the sphinx rendered scikit-learn.org. See: https://github.com/scikit-learn/scikit-learn/issues/21755 */display: inline-block !important;position: relative;}#sk-container-id-4 div.sk-text-repr-fallback {display: none;}</style><div id=\"sk-container-id-4\" class=\"sk-top-container\"><div class=\"sk-text-repr-fallback\"><pre>LinearRegression()</pre><b>In a Jupyter environment, please rerun this cell to show the HTML representation or trust the notebook. <br />On GitHub, the HTML representation is unable to render, please try loading this page with nbviewer.org.</b></div><div class=\"sk-container\" hidden><div class=\"sk-item\"><div class=\"sk-estimator sk-toggleable\"><input class=\"sk-toggleable__control sk-hidden--visually\" id=\"sk-estimator-id-4\" type=\"checkbox\" checked><label for=\"sk-estimator-id-4\" class=\"sk-toggleable__label sk-toggleable__label-arrow\">LinearRegression</label><div class=\"sk-toggleable__content\"><pre>LinearRegression()</pre></div></div></div></div></div>"
      ],
      "text/plain": [
       "LinearRegression()"
      ]
     },
     "execution_count": 49,
     "metadata": {},
     "output_type": "execute_result"
    }
   ],
   "source": [
    "model.fit(train_X,train_y)"
   ]
  },
  {
   "cell_type": "code",
   "execution_count": 50,
   "id": "e6006cfb",
   "metadata": {},
   "outputs": [],
   "source": [
    "pred_y = model.predict(test_X)"
   ]
  },
  {
   "cell_type": "code",
   "execution_count": 51,
   "id": "5421565b",
   "metadata": {},
   "outputs": [],
   "source": [
    "pred_test_y = np.array([1 if i>threshold else 0 for i in pred_y])"
   ]
  },
  {
   "cell_type": "code",
   "execution_count": 60,
   "id": "3a06e0a2",
   "metadata": {},
   "outputs": [],
   "source": [
    "p_score = precision_score(test_y, pred_test_y)\n",
    "r_score = recall_score(test_y, pred_test_y)\n",
    "f_score = f1_score(test_y, pred_test_y)\n",
    "acc_score = accuracy_score(test_y, pred_test_y)"
   ]
  },
  {
   "cell_type": "markdown",
   "id": "5feb35be",
   "metadata": {},
   "source": [
    "### 测试集结果"
   ]
  },
  {
   "cell_type": "code",
   "execution_count": 70,
   "id": "c8861be4",
   "metadata": {
    "scrolled": false
   },
   "outputs": [
    {
     "name": "stdout",
     "output_type": "stream",
     "text": [
      "Model:LogisticRegression(), Recall:0.6133, Precision:0.4302 F1:0.5057 Accuracy:0.4575\n"
     ]
    }
   ],
   "source": [
    "print(f'Model:{model.__str__()}, Recall:{r_score:.4}, Precision:{p_score:.4} F1:{f_score:.4} Accuracy:{acc_score:.4}')"
   ]
  },
  {
   "cell_type": "markdown",
   "id": "0afe46f4",
   "metadata": {},
   "source": [
    "## 3.1 逻辑回归模型"
   ]
  },
  {
   "cell_type": "code",
   "execution_count": 62,
   "id": "2c4b4c18",
   "metadata": {},
   "outputs": [],
   "source": [
    "from sklearn.linear_model import LogisticRegression"
   ]
  },
  {
   "cell_type": "code",
   "execution_count": 63,
   "id": "71f111f9",
   "metadata": {},
   "outputs": [],
   "source": [
    "# 设置分类阈值 超过该值的分类为1\n",
    "threshold = 0.5"
   ]
  },
  {
   "cell_type": "code",
   "execution_count": 64,
   "id": "0d844839",
   "metadata": {},
   "outputs": [],
   "source": [
    "model = LogisticRegression()"
   ]
  },
  {
   "cell_type": "code",
   "execution_count": 65,
   "id": "4f861cc9",
   "metadata": {
    "scrolled": false
   },
   "outputs": [
    {
     "data": {
      "text/html": [
       "<style>#sk-container-id-5 {color: black;background-color: white;}#sk-container-id-5 pre{padding: 0;}#sk-container-id-5 div.sk-toggleable {background-color: white;}#sk-container-id-5 label.sk-toggleable__label {cursor: pointer;display: block;width: 100%;margin-bottom: 0;padding: 0.3em;box-sizing: border-box;text-align: center;}#sk-container-id-5 label.sk-toggleable__label-arrow:before {content: \"▸\";float: left;margin-right: 0.25em;color: #696969;}#sk-container-id-5 label.sk-toggleable__label-arrow:hover:before {color: black;}#sk-container-id-5 div.sk-estimator:hover label.sk-toggleable__label-arrow:before {color: black;}#sk-container-id-5 div.sk-toggleable__content {max-height: 0;max-width: 0;overflow: hidden;text-align: left;background-color: #f0f8ff;}#sk-container-id-5 div.sk-toggleable__content pre {margin: 0.2em;color: black;border-radius: 0.25em;background-color: #f0f8ff;}#sk-container-id-5 input.sk-toggleable__control:checked~div.sk-toggleable__content {max-height: 200px;max-width: 100%;overflow: auto;}#sk-container-id-5 input.sk-toggleable__control:checked~label.sk-toggleable__label-arrow:before {content: \"▾\";}#sk-container-id-5 div.sk-estimator input.sk-toggleable__control:checked~label.sk-toggleable__label {background-color: #d4ebff;}#sk-container-id-5 div.sk-label input.sk-toggleable__control:checked~label.sk-toggleable__label {background-color: #d4ebff;}#sk-container-id-5 input.sk-hidden--visually {border: 0;clip: rect(1px 1px 1px 1px);clip: rect(1px, 1px, 1px, 1px);height: 1px;margin: -1px;overflow: hidden;padding: 0;position: absolute;width: 1px;}#sk-container-id-5 div.sk-estimator {font-family: monospace;background-color: #f0f8ff;border: 1px dotted black;border-radius: 0.25em;box-sizing: border-box;margin-bottom: 0.5em;}#sk-container-id-5 div.sk-estimator:hover {background-color: #d4ebff;}#sk-container-id-5 div.sk-parallel-item::after {content: \"\";width: 100%;border-bottom: 1px solid gray;flex-grow: 1;}#sk-container-id-5 div.sk-label:hover label.sk-toggleable__label {background-color: #d4ebff;}#sk-container-id-5 div.sk-serial::before {content: \"\";position: absolute;border-left: 1px solid gray;box-sizing: border-box;top: 0;bottom: 0;left: 50%;z-index: 0;}#sk-container-id-5 div.sk-serial {display: flex;flex-direction: column;align-items: center;background-color: white;padding-right: 0.2em;padding-left: 0.2em;position: relative;}#sk-container-id-5 div.sk-item {position: relative;z-index: 1;}#sk-container-id-5 div.sk-parallel {display: flex;align-items: stretch;justify-content: center;background-color: white;position: relative;}#sk-container-id-5 div.sk-item::before, #sk-container-id-5 div.sk-parallel-item::before {content: \"\";position: absolute;border-left: 1px solid gray;box-sizing: border-box;top: 0;bottom: 0;left: 50%;z-index: -1;}#sk-container-id-5 div.sk-parallel-item {display: flex;flex-direction: column;z-index: 1;position: relative;background-color: white;}#sk-container-id-5 div.sk-parallel-item:first-child::after {align-self: flex-end;width: 50%;}#sk-container-id-5 div.sk-parallel-item:last-child::after {align-self: flex-start;width: 50%;}#sk-container-id-5 div.sk-parallel-item:only-child::after {width: 0;}#sk-container-id-5 div.sk-dashed-wrapped {border: 1px dashed gray;margin: 0 0.4em 0.5em 0.4em;box-sizing: border-box;padding-bottom: 0.4em;background-color: white;}#sk-container-id-5 div.sk-label label {font-family: monospace;font-weight: bold;display: inline-block;line-height: 1.2em;}#sk-container-id-5 div.sk-label-container {text-align: center;}#sk-container-id-5 div.sk-container {/* jupyter's `normalize.less` sets `[hidden] { display: none; }` but bootstrap.min.css set `[hidden] { display: none !important; }` so we also need the `!important` here to be able to override the default hidden behavior on the sphinx rendered scikit-learn.org. See: https://github.com/scikit-learn/scikit-learn/issues/21755 */display: inline-block !important;position: relative;}#sk-container-id-5 div.sk-text-repr-fallback {display: none;}</style><div id=\"sk-container-id-5\" class=\"sk-top-container\"><div class=\"sk-text-repr-fallback\"><pre>LogisticRegression()</pre><b>In a Jupyter environment, please rerun this cell to show the HTML representation or trust the notebook. <br />On GitHub, the HTML representation is unable to render, please try loading this page with nbviewer.org.</b></div><div class=\"sk-container\" hidden><div class=\"sk-item\"><div class=\"sk-estimator sk-toggleable\"><input class=\"sk-toggleable__control sk-hidden--visually\" id=\"sk-estimator-id-5\" type=\"checkbox\" checked><label for=\"sk-estimator-id-5\" class=\"sk-toggleable__label sk-toggleable__label-arrow\">LogisticRegression</label><div class=\"sk-toggleable__content\"><pre>LogisticRegression()</pre></div></div></div></div></div>"
      ],
      "text/plain": [
       "LogisticRegression()"
      ]
     },
     "execution_count": 65,
     "metadata": {},
     "output_type": "execute_result"
    }
   ],
   "source": [
    "model.fit(train_X,train_y)"
   ]
  },
  {
   "cell_type": "code",
   "execution_count": 66,
   "id": "972d9fb9",
   "metadata": {},
   "outputs": [],
   "source": [
    "pred_y = model.predict(test_X)"
   ]
  },
  {
   "cell_type": "code",
   "execution_count": 67,
   "id": "83a2bbfb",
   "metadata": {},
   "outputs": [],
   "source": [
    "pred_test_y = np.array([1 if i>threshold else 0 for i in pred_y])"
   ]
  },
  {
   "cell_type": "code",
   "execution_count": 68,
   "id": "04e8b86a",
   "metadata": {},
   "outputs": [],
   "source": [
    "p_score = precision_score(test_y, pred_test_y)\n",
    "r_score = recall_score(test_y, pred_test_y)\n",
    "f_score = f1_score(test_y, pred_test_y)\n",
    "acc_score = accuracy_score(test_y, pred_test_y)"
   ]
  },
  {
   "cell_type": "markdown",
   "id": "9eba3e3f",
   "metadata": {},
   "source": [
    "### 测试集结果"
   ]
  },
  {
   "cell_type": "code",
   "execution_count": 71,
   "id": "3cb42ee1",
   "metadata": {
    "scrolled": true
   },
   "outputs": [
    {
     "name": "stdout",
     "output_type": "stream",
     "text": [
      "Model:LogisticRegression(), Recall:0.6133, Precision:0.4302 F1:0.5057 Accuracy:0.4575\n"
     ]
    }
   ],
   "source": [
    "print(f'Model:{model.__str__()}, Recall:{r_score:.4}, Precision:{p_score:.4} F1:{f_score:.4} Accuracy:{acc_score:.4}')"
   ]
  },
  {
   "cell_type": "code",
   "execution_count": null,
   "id": "2a8e34bf",
   "metadata": {},
   "outputs": [],
   "source": []
  }
 ],
 "metadata": {
  "kernelspec": {
   "display_name": "Python 3 (ipykernel)",
   "language": "python",
   "name": "python3"
  },
  "language_info": {
   "codemirror_mode": {
    "name": "ipython",
    "version": 3
   },
   "file_extension": ".py",
   "mimetype": "text/x-python",
   "name": "python",
   "nbconvert_exporter": "python",
   "pygments_lexer": "ipython3",
   "version": "3.11.5"
  }
 },
 "nbformat": 4,
 "nbformat_minor": 5
}
