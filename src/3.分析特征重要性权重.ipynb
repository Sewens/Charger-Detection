{
 "cells": [
  {
   "cell_type": "markdown",
   "id": "8408c46c-9ad0-4b77-af8d-e1aa0d935537",
   "metadata": {},
   "source": [
    "# 输出特征重要性\n",
    "\n",
    "目前基本10个特征，使用lightgbm在训练数据上训练，并输出特征重要性"
   ]
  },
  {
   "cell_type": "code",
   "execution_count": 1,
   "id": "fd257a21",
   "metadata": {},
   "outputs": [],
   "source": [
    "import sklearn\n",
    "import pandas as pd\n",
    "import numpy as np\n",
    "import time\n",
    "import random\n",
    "import pickle"
   ]
  },
  {
   "cell_type": "code",
   "execution_count": 2,
   "id": "0ff23cb2",
   "metadata": {},
   "outputs": [],
   "source": [
    "import json"
   ]
  },
  {
   "cell_type": "markdown",
   "id": "cb93491a",
   "metadata": {},
   "source": [
    "# 0. 读取数据\n",
    "\n",
    "读取数据并转换为机器学习可用的矩阵（numpy格式）\n",
    "\n",
    "**240403更新，现在机器学习部分会读取`data/settings`文件夹中的`feature.json`和`label.json`文件作为特征以及标签的字段名**\n",
    "\n",
    "二者与读取进来的文件中相关字段应该是匹配的。"
   ]
  },
  {
   "cell_type": "code",
   "execution_count": 3,
   "id": "047c3536",
   "metadata": {},
   "outputs": [],
   "source": [
    "feature_settings_fpath = '../data/settings/feature.json'\n",
    "label_settings_fpath = '../data/settings/label.json'"
   ]
  },
  {
   "cell_type": "code",
   "execution_count": 4,
   "id": "43d0a87d",
   "metadata": {},
   "outputs": [],
   "source": [
    "with open(feature_settings_fpath, 'r',encoding='utf-8') as file:\n",
    "    feature_dict = json.load(file)"
   ]
  },
  {
   "cell_type": "code",
   "execution_count": 5,
   "id": "c9bd212a",
   "metadata": {},
   "outputs": [],
   "source": [
    "with open(label_settings_fpath, 'r',encoding='utf-8') as file:\n",
    "    label_dict = json.load(file)"
   ]
  },
  {
   "cell_type": "code",
   "execution_count": 6,
   "id": "72a18a0b",
   "metadata": {},
   "outputs": [
    {
     "data": {
      "text/plain": [
       "{'index': [0, 1]}"
      ]
     },
     "execution_count": 6,
     "metadata": {},
     "output_type": "execute_result"
    }
   ],
   "source": [
    "label_dict"
   ]
  },
  {
   "cell_type": "code",
   "execution_count": 7,
   "id": "bfe79f0a",
   "metadata": {},
   "outputs": [
    {
     "data": {
      "text/plain": [
       "{'q/qm': [0, 200],\n",
       " 'ploss': [-10000, 10000],\n",
       " 'fre': [110000, 150000],\n",
       " 'vpa': [0, 400000],\n",
       " 'papower': [0, 65000],\n",
       " 'ch': [0, 8],\n",
       " 'ce': [-127, 128],\n",
       " 'rppower': [0, 65000],\n",
       " 'ss': [0, 255],\n",
       " 'eff': [0, 1.3]}"
      ]
     },
     "execution_count": 7,
     "metadata": {},
     "output_type": "execute_result"
    }
   ],
   "source": [
    "feature_dict"
   ]
  },
  {
   "cell_type": "code",
   "execution_count": 8,
   "id": "a5d2ca09",
   "metadata": {},
   "outputs": [],
   "source": [
    "feature_columns = list(feature_dict.keys())"
   ]
  },
  {
   "cell_type": "code",
   "execution_count": 9,
   "id": "2c72b5b1",
   "metadata": {},
   "outputs": [],
   "source": [
    "# 训练集数据路径\n",
    "train_fpath = '../data/test_data/train_240409.xlsx'\n",
    "# 测试集数据路径\n",
    "test_fpath = '../data/test_data/test_240409.xlsx'"
   ]
  },
  {
   "cell_type": "code",
   "execution_count": 10,
   "id": "7bd33df2",
   "metadata": {},
   "outputs": [],
   "source": [
    "train_df = pd.read_excel(train_fpath)\n",
    "test_df = pd.read_excel(test_fpath)"
   ]
  },
  {
   "cell_type": "code",
   "execution_count": 11,
   "id": "fc0f309c-ed57-49d5-b2f5-ef69149476a0",
   "metadata": {},
   "outputs": [
    {
     "data": {
      "text/html": [
       "<div>\n",
       "<style scoped>\n",
       "    .dataframe tbody tr th:only-of-type {\n",
       "        vertical-align: middle;\n",
       "    }\n",
       "\n",
       "    .dataframe tbody tr th {\n",
       "        vertical-align: top;\n",
       "    }\n",
       "\n",
       "    .dataframe thead th {\n",
       "        text-align: right;\n",
       "    }\n",
       "</style>\n",
       "<table border=\"1\" class=\"dataframe\">\n",
       "  <thead>\n",
       "    <tr style=\"text-align: right;\">\n",
       "      <th></th>\n",
       "      <th>index</th>\n",
       "      <th>Q/Qm</th>\n",
       "      <th>ploss</th>\n",
       "      <th>fre</th>\n",
       "      <th>Vpa</th>\n",
       "      <th>Papower</th>\n",
       "      <th>ch</th>\n",
       "      <th>CE</th>\n",
       "      <th>RPpower</th>\n",
       "      <th>SS</th>\n",
       "      <th>eff</th>\n",
       "    </tr>\n",
       "  </thead>\n",
       "  <tbody>\n",
       "    <tr>\n",
       "      <th>0</th>\n",
       "      <td>0</td>\n",
       "      <td>112</td>\n",
       "      <td>-1171</td>\n",
       "      <td>143000</td>\n",
       "      <td>11945</td>\n",
       "      <td>2723</td>\n",
       "      <td>8</td>\n",
       "      <td>-8</td>\n",
       "      <td>2500</td>\n",
       "      <td>145</td>\n",
       "      <td>0.918105</td>\n",
       "    </tr>\n",
       "    <tr>\n",
       "      <th>1</th>\n",
       "      <td>0</td>\n",
       "      <td>112</td>\n",
       "      <td>-1247</td>\n",
       "      <td>145000</td>\n",
       "      <td>18709</td>\n",
       "      <td>7240</td>\n",
       "      <td>7</td>\n",
       "      <td>0</td>\n",
       "      <td>6350</td>\n",
       "      <td>145</td>\n",
       "      <td>0.877072</td>\n",
       "    </tr>\n",
       "    <tr>\n",
       "      <th>2</th>\n",
       "      <td>0</td>\n",
       "      <td>112</td>\n",
       "      <td>-1183</td>\n",
       "      <td>145000</td>\n",
       "      <td>23712</td>\n",
       "      <td>29189</td>\n",
       "      <td>7</td>\n",
       "      <td>1</td>\n",
       "      <td>25677</td>\n",
       "      <td>145</td>\n",
       "      <td>0.879681</td>\n",
       "    </tr>\n",
       "    <tr>\n",
       "      <th>3</th>\n",
       "      <td>0</td>\n",
       "      <td>112</td>\n",
       "      <td>-1635</td>\n",
       "      <td>145000</td>\n",
       "      <td>24495</td>\n",
       "      <td>35811</td>\n",
       "      <td>8</td>\n",
       "      <td>0</td>\n",
       "      <td>32095</td>\n",
       "      <td>145</td>\n",
       "      <td>0.896233</td>\n",
       "    </tr>\n",
       "    <tr>\n",
       "      <th>4</th>\n",
       "      <td>0</td>\n",
       "      <td>112</td>\n",
       "      <td>-1453</td>\n",
       "      <td>145000</td>\n",
       "      <td>25403</td>\n",
       "      <td>44175</td>\n",
       "      <td>8</td>\n",
       "      <td>2</td>\n",
       "      <td>40329</td>\n",
       "      <td>145</td>\n",
       "      <td>0.912937</td>\n",
       "    </tr>\n",
       "    <tr>\n",
       "      <th>...</th>\n",
       "      <td>...</td>\n",
       "      <td>...</td>\n",
       "      <td>...</td>\n",
       "      <td>...</td>\n",
       "      <td>...</td>\n",
       "      <td>...</td>\n",
       "      <td>...</td>\n",
       "      <td>...</td>\n",
       "      <td>...</td>\n",
       "      <td>...</td>\n",
       "      <td>...</td>\n",
       "    </tr>\n",
       "    <tr>\n",
       "      <th>403</th>\n",
       "      <td>0</td>\n",
       "      <td>96</td>\n",
       "      <td>-809</td>\n",
       "      <td>145000</td>\n",
       "      <td>26079</td>\n",
       "      <td>45794</td>\n",
       "      <td>7</td>\n",
       "      <td>1</td>\n",
       "      <td>40852</td>\n",
       "      <td>146</td>\n",
       "      <td>0.892082</td>\n",
       "    </tr>\n",
       "    <tr>\n",
       "      <th>404</th>\n",
       "      <td>0</td>\n",
       "      <td>96</td>\n",
       "      <td>-756</td>\n",
       "      <td>145000</td>\n",
       "      <td>26151</td>\n",
       "      <td>46104</td>\n",
       "      <td>6</td>\n",
       "      <td>2</td>\n",
       "      <td>41059</td>\n",
       "      <td>146</td>\n",
       "      <td>0.890573</td>\n",
       "    </tr>\n",
       "    <tr>\n",
       "      <th>405</th>\n",
       "      <td>0</td>\n",
       "      <td>96</td>\n",
       "      <td>-747</td>\n",
       "      <td>145000</td>\n",
       "      <td>26151</td>\n",
       "      <td>46051</td>\n",
       "      <td>7</td>\n",
       "      <td>2</td>\n",
       "      <td>40997</td>\n",
       "      <td>146</td>\n",
       "      <td>0.890252</td>\n",
       "    </tr>\n",
       "    <tr>\n",
       "      <th>406</th>\n",
       "      <td>0</td>\n",
       "      <td>96</td>\n",
       "      <td>-733</td>\n",
       "      <td>145000</td>\n",
       "      <td>26151</td>\n",
       "      <td>46025</td>\n",
       "      <td>7</td>\n",
       "      <td>3</td>\n",
       "      <td>40957</td>\n",
       "      <td>146</td>\n",
       "      <td>0.889886</td>\n",
       "    </tr>\n",
       "    <tr>\n",
       "      <th>407</th>\n",
       "      <td>0</td>\n",
       "      <td>96</td>\n",
       "      <td>-763</td>\n",
       "      <td>145000</td>\n",
       "      <td>26151</td>\n",
       "      <td>45947</td>\n",
       "      <td>7</td>\n",
       "      <td>2</td>\n",
       "      <td>40899</td>\n",
       "      <td>146</td>\n",
       "      <td>0.890134</td>\n",
       "    </tr>\n",
       "  </tbody>\n",
       "</table>\n",
       "<p>408 rows × 11 columns</p>\n",
       "</div>"
      ],
      "text/plain": [
       "     index  Q/Qm  ploss     fre    Vpa  Papower  ch  CE  RPpower   SS  \\\n",
       "0        0   112  -1171  143000  11945     2723   8  -8     2500  145   \n",
       "1        0   112  -1247  145000  18709     7240   7   0     6350  145   \n",
       "2        0   112  -1183  145000  23712    29189   7   1    25677  145   \n",
       "3        0   112  -1635  145000  24495    35811   8   0    32095  145   \n",
       "4        0   112  -1453  145000  25403    44175   8   2    40329  145   \n",
       "..     ...   ...    ...     ...    ...      ...  ..  ..      ...  ...   \n",
       "403      0    96   -809  145000  26079    45794   7   1    40852  146   \n",
       "404      0    96   -756  145000  26151    46104   6   2    41059  146   \n",
       "405      0    96   -747  145000  26151    46051   7   2    40997  146   \n",
       "406      0    96   -733  145000  26151    46025   7   3    40957  146   \n",
       "407      0    96   -763  145000  26151    45947   7   2    40899  146   \n",
       "\n",
       "          eff  \n",
       "0    0.918105  \n",
       "1    0.877072  \n",
       "2    0.879681  \n",
       "3    0.896233  \n",
       "4    0.912937  \n",
       "..        ...  \n",
       "403  0.892082  \n",
       "404  0.890573  \n",
       "405  0.890252  \n",
       "406  0.889886  \n",
       "407  0.890134  \n",
       "\n",
       "[408 rows x 11 columns]"
      ]
     },
     "execution_count": 11,
     "metadata": {},
     "output_type": "execute_result"
    }
   ],
   "source": [
    "train_df"
   ]
  },
  {
   "cell_type": "markdown",
   "id": "30ccb95e",
   "metadata": {},
   "source": [
    "#### 将所有columns名转换为小写"
   ]
  },
  {
   "cell_type": "code",
   "execution_count": 12,
   "id": "5e8188f1",
   "metadata": {},
   "outputs": [],
   "source": [
    "train_df.columns = [i.lower() for i in train_df.columns]\n",
    "test_df.columns = [i.lower() for i in test_df.columns]"
   ]
  },
  {
   "cell_type": "markdown",
   "id": "a31240ad",
   "metadata": {},
   "source": [
    "#### 兼容之前的代码写法"
   ]
  },
  {
   "cell_type": "code",
   "execution_count": 13,
   "id": "6ca42c45",
   "metadata": {},
   "outputs": [],
   "source": [
    "feature_key_lst = feature_columns"
   ]
  },
  {
   "cell_type": "code",
   "execution_count": 14,
   "id": "47205195",
   "metadata": {},
   "outputs": [],
   "source": [
    "feature_range_dict = feature_dict"
   ]
  },
  {
   "cell_type": "code",
   "execution_count": 15,
   "id": "5db7db2f",
   "metadata": {},
   "outputs": [],
   "source": [
    "label_key = list(label_dict.keys())[0]"
   ]
  },
  {
   "cell_type": "markdown",
   "id": "f7a92092",
   "metadata": {},
   "source": [
    "# 1. 缺失数据补全（todo）\n",
    "\n",
    "如果存在部分列数据缺失，在这一步骤进行数据的补全以便于减少这部分缺失数据的影响。"
   ]
  },
  {
   "cell_type": "markdown",
   "id": "7494cac4-785a-4d6b-bf08-04b70206745b",
   "metadata": {},
   "source": [
    "### 1.1 补全为0\n",
    "\n",
    "缺失数据全部用`0`补全"
   ]
  },
  {
   "cell_type": "code",
   "execution_count": 16,
   "id": "0fb72050-5bb6-43ad-9580-f1148250f2d8",
   "metadata": {},
   "outputs": [],
   "source": [
    "for col in train_df.columns:\n",
    "    train_df[col] = train_df[col].fillna(0)\n",
    "    test_df[col] = test_df[col].fillna(0)"
   ]
  },
  {
   "cell_type": "markdown",
   "id": "3e3723ac",
   "metadata": {},
   "source": [
    "# 2. 特征处理\n",
    "\n",
    "这一步骤针对每列特征进行处理，处理手段有很多种，例如数据分桶，数据扩展，数据统计等等，此处只对数据进行归一化放缩，使得所有特征值范围均在`0,1`之间，以便于机器学习模型学习的稳定性。\n",
    "\n",
    "后续根据问题的深入程度不同，可以将更多的特征处理手段应用在这一步骤，来增强整体机器学习系统的表现。"
   ]
  },
  {
   "cell_type": "markdown",
   "id": "306117fb",
   "metadata": {},
   "source": [
    "## 2.1 数据归一化\n",
    "\n",
    "根据特征值范围，将现有特征放缩到`(0,1)`之间"
   ]
  },
  {
   "cell_type": "code",
   "execution_count": 17,
   "id": "5aced4ba",
   "metadata": {},
   "outputs": [],
   "source": [
    "for k in feature_key_lst:\n",
    "    # 数据范围上界\n",
    "    ub = feature_range_dict[k][0]\n",
    "    # 数据范围下界\n",
    "    lb = feature_range_dict[k][1]\n",
    "    \n",
    "    train_df[k] = train_df[k].apply(lambda x:(x-lb)/(ub-lb))\n",
    "    test_df[k] = test_df[k].apply(lambda x:(x-lb)/(ub-lb))"
   ]
  },
  {
   "cell_type": "code",
   "execution_count": 18,
   "id": "3837fb7b",
   "metadata": {},
   "outputs": [
    {
     "data": {
      "text/html": [
       "<div>\n",
       "<style scoped>\n",
       "    .dataframe tbody tr th:only-of-type {\n",
       "        vertical-align: middle;\n",
       "    }\n",
       "\n",
       "    .dataframe tbody tr th {\n",
       "        vertical-align: top;\n",
       "    }\n",
       "\n",
       "    .dataframe thead th {\n",
       "        text-align: right;\n",
       "    }\n",
       "</style>\n",
       "<table border=\"1\" class=\"dataframe\">\n",
       "  <thead>\n",
       "    <tr style=\"text-align: right;\">\n",
       "      <th></th>\n",
       "      <th>index</th>\n",
       "      <th>q/qm</th>\n",
       "      <th>ploss</th>\n",
       "      <th>fre</th>\n",
       "      <th>vpa</th>\n",
       "      <th>papower</th>\n",
       "      <th>ch</th>\n",
       "      <th>ce</th>\n",
       "      <th>rppower</th>\n",
       "      <th>ss</th>\n",
       "      <th>eff</th>\n",
       "    </tr>\n",
       "  </thead>\n",
       "  <tbody>\n",
       "    <tr>\n",
       "      <th>0</th>\n",
       "      <td>0</td>\n",
       "      <td>0.44</td>\n",
       "      <td>0.55855</td>\n",
       "      <td>0.175</td>\n",
       "      <td>0.970137</td>\n",
       "      <td>0.958108</td>\n",
       "      <td>-0.000</td>\n",
       "      <td>0.533333</td>\n",
       "      <td>0.961538</td>\n",
       "      <td>0.431373</td>\n",
       "      <td>0.293765</td>\n",
       "    </tr>\n",
       "    <tr>\n",
       "      <th>1</th>\n",
       "      <td>0</td>\n",
       "      <td>0.44</td>\n",
       "      <td>0.56235</td>\n",
       "      <td>0.125</td>\n",
       "      <td>0.953228</td>\n",
       "      <td>0.888615</td>\n",
       "      <td>0.125</td>\n",
       "      <td>0.501961</td>\n",
       "      <td>0.902308</td>\n",
       "      <td>0.431373</td>\n",
       "      <td>0.325329</td>\n",
       "    </tr>\n",
       "    <tr>\n",
       "      <th>2</th>\n",
       "      <td>0</td>\n",
       "      <td>0.44</td>\n",
       "      <td>0.55915</td>\n",
       "      <td>0.125</td>\n",
       "      <td>0.940720</td>\n",
       "      <td>0.550938</td>\n",
       "      <td>0.125</td>\n",
       "      <td>0.498039</td>\n",
       "      <td>0.604969</td>\n",
       "      <td>0.431373</td>\n",
       "      <td>0.323323</td>\n",
       "    </tr>\n",
       "    <tr>\n",
       "      <th>3</th>\n",
       "      <td>0</td>\n",
       "      <td>0.44</td>\n",
       "      <td>0.58175</td>\n",
       "      <td>0.125</td>\n",
       "      <td>0.938763</td>\n",
       "      <td>0.449062</td>\n",
       "      <td>-0.000</td>\n",
       "      <td>0.501961</td>\n",
       "      <td>0.506231</td>\n",
       "      <td>0.431373</td>\n",
       "      <td>0.310590</td>\n",
       "    </tr>\n",
       "    <tr>\n",
       "      <th>4</th>\n",
       "      <td>0</td>\n",
       "      <td>0.44</td>\n",
       "      <td>0.57265</td>\n",
       "      <td>0.125</td>\n",
       "      <td>0.936492</td>\n",
       "      <td>0.320385</td>\n",
       "      <td>-0.000</td>\n",
       "      <td>0.494118</td>\n",
       "      <td>0.379554</td>\n",
       "      <td>0.431373</td>\n",
       "      <td>0.297741</td>\n",
       "    </tr>\n",
       "    <tr>\n",
       "      <th>...</th>\n",
       "      <td>...</td>\n",
       "      <td>...</td>\n",
       "      <td>...</td>\n",
       "      <td>...</td>\n",
       "      <td>...</td>\n",
       "      <td>...</td>\n",
       "      <td>...</td>\n",
       "      <td>...</td>\n",
       "      <td>...</td>\n",
       "      <td>...</td>\n",
       "      <td>...</td>\n",
       "    </tr>\n",
       "    <tr>\n",
       "      <th>403</th>\n",
       "      <td>0</td>\n",
       "      <td>0.52</td>\n",
       "      <td>0.54045</td>\n",
       "      <td>0.125</td>\n",
       "      <td>0.934802</td>\n",
       "      <td>0.295477</td>\n",
       "      <td>0.125</td>\n",
       "      <td>0.498039</td>\n",
       "      <td>0.371508</td>\n",
       "      <td>0.427451</td>\n",
       "      <td>0.313783</td>\n",
       "    </tr>\n",
       "    <tr>\n",
       "      <th>404</th>\n",
       "      <td>0</td>\n",
       "      <td>0.52</td>\n",
       "      <td>0.53780</td>\n",
       "      <td>0.125</td>\n",
       "      <td>0.934623</td>\n",
       "      <td>0.290708</td>\n",
       "      <td>0.250</td>\n",
       "      <td>0.494118</td>\n",
       "      <td>0.368323</td>\n",
       "      <td>0.427451</td>\n",
       "      <td>0.314943</td>\n",
       "    </tr>\n",
       "    <tr>\n",
       "      <th>405</th>\n",
       "      <td>0</td>\n",
       "      <td>0.52</td>\n",
       "      <td>0.53735</td>\n",
       "      <td>0.125</td>\n",
       "      <td>0.934623</td>\n",
       "      <td>0.291523</td>\n",
       "      <td>0.125</td>\n",
       "      <td>0.494118</td>\n",
       "      <td>0.369277</td>\n",
       "      <td>0.427451</td>\n",
       "      <td>0.315191</td>\n",
       "    </tr>\n",
       "    <tr>\n",
       "      <th>406</th>\n",
       "      <td>0</td>\n",
       "      <td>0.52</td>\n",
       "      <td>0.53665</td>\n",
       "      <td>0.125</td>\n",
       "      <td>0.934623</td>\n",
       "      <td>0.291923</td>\n",
       "      <td>0.125</td>\n",
       "      <td>0.490196</td>\n",
       "      <td>0.369892</td>\n",
       "      <td>0.427451</td>\n",
       "      <td>0.315472</td>\n",
       "    </tr>\n",
       "    <tr>\n",
       "      <th>407</th>\n",
       "      <td>0</td>\n",
       "      <td>0.52</td>\n",
       "      <td>0.53815</td>\n",
       "      <td>0.125</td>\n",
       "      <td>0.934623</td>\n",
       "      <td>0.293123</td>\n",
       "      <td>0.125</td>\n",
       "      <td>0.494118</td>\n",
       "      <td>0.370785</td>\n",
       "      <td>0.427451</td>\n",
       "      <td>0.315281</td>\n",
       "    </tr>\n",
       "  </tbody>\n",
       "</table>\n",
       "<p>408 rows × 11 columns</p>\n",
       "</div>"
      ],
      "text/plain": [
       "     index  q/qm    ploss    fre       vpa   papower     ch        ce  \\\n",
       "0        0  0.44  0.55855  0.175  0.970137  0.958108 -0.000  0.533333   \n",
       "1        0  0.44  0.56235  0.125  0.953228  0.888615  0.125  0.501961   \n",
       "2        0  0.44  0.55915  0.125  0.940720  0.550938  0.125  0.498039   \n",
       "3        0  0.44  0.58175  0.125  0.938763  0.449062 -0.000  0.501961   \n",
       "4        0  0.44  0.57265  0.125  0.936492  0.320385 -0.000  0.494118   \n",
       "..     ...   ...      ...    ...       ...       ...    ...       ...   \n",
       "403      0  0.52  0.54045  0.125  0.934802  0.295477  0.125  0.498039   \n",
       "404      0  0.52  0.53780  0.125  0.934623  0.290708  0.250  0.494118   \n",
       "405      0  0.52  0.53735  0.125  0.934623  0.291523  0.125  0.494118   \n",
       "406      0  0.52  0.53665  0.125  0.934623  0.291923  0.125  0.490196   \n",
       "407      0  0.52  0.53815  0.125  0.934623  0.293123  0.125  0.494118   \n",
       "\n",
       "      rppower        ss       eff  \n",
       "0    0.961538  0.431373  0.293765  \n",
       "1    0.902308  0.431373  0.325329  \n",
       "2    0.604969  0.431373  0.323323  \n",
       "3    0.506231  0.431373  0.310590  \n",
       "4    0.379554  0.431373  0.297741  \n",
       "..        ...       ...       ...  \n",
       "403  0.371508  0.427451  0.313783  \n",
       "404  0.368323  0.427451  0.314943  \n",
       "405  0.369277  0.427451  0.315191  \n",
       "406  0.369892  0.427451  0.315472  \n",
       "407  0.370785  0.427451  0.315281  \n",
       "\n",
       "[408 rows x 11 columns]"
      ]
     },
     "execution_count": 18,
     "metadata": {},
     "output_type": "execute_result"
    }
   ],
   "source": [
    "train_df"
   ]
  },
  {
   "cell_type": "markdown",
   "id": "1d298b78",
   "metadata": {},
   "source": [
    "## 2.2 输出特征矩阵\n",
    "\n",
    "输出训练特征矩阵分别为：`train_X`和`test_X`，测试标签为`train_y`和`test_y`。"
   ]
  },
  {
   "cell_type": "code",
   "execution_count": 19,
   "id": "4ba96c94",
   "metadata": {},
   "outputs": [],
   "source": [
    "train_X = train_df[feature_key_lst].to_numpy()"
   ]
  },
  {
   "cell_type": "code",
   "execution_count": 20,
   "id": "cb893254",
   "metadata": {},
   "outputs": [
    {
     "data": {
      "text/plain": [
       "(408, 10)"
      ]
     },
     "execution_count": 20,
     "metadata": {},
     "output_type": "execute_result"
    }
   ],
   "source": [
    "train_X.shape"
   ]
  },
  {
   "cell_type": "code",
   "execution_count": 21,
   "id": "ccc5534e",
   "metadata": {},
   "outputs": [],
   "source": [
    "test_X = test_df[feature_key_lst].to_numpy()"
   ]
  },
  {
   "cell_type": "code",
   "execution_count": 22,
   "id": "97f12eb8",
   "metadata": {},
   "outputs": [
    {
     "data": {
      "text/plain": [
       "(83, 10)"
      ]
     },
     "execution_count": 22,
     "metadata": {},
     "output_type": "execute_result"
    }
   ],
   "source": [
    "test_X.shape"
   ]
  },
  {
   "cell_type": "code",
   "execution_count": 23,
   "id": "537f9d13",
   "metadata": {},
   "outputs": [],
   "source": [
    "train_y = train_df[label_key].to_numpy()\n",
    "test_y = test_df[label_key].to_numpy()"
   ]
  },
  {
   "cell_type": "markdown",
   "id": "69402af3",
   "metadata": {},
   "source": [
    "# 3. 模型学习\n",
    "\n",
    "使用`sklearn`工具库自带的机器学习模型对训练数据进行拟合，并在测试数据上测试，评价指标为`precision`,`recall`,`f1_score`,`accuracy`。\n",
    "\n",
    "不同模型的调参方法不同，可以根据需要进行参数调整。"
   ]
  },
  {
   "cell_type": "markdown",
   "id": "1c86fdc8",
   "metadata": {},
   "source": [
    "## 3.0 引入评价指标"
   ]
  },
  {
   "cell_type": "code",
   "execution_count": 24,
   "id": "855817e3",
   "metadata": {},
   "outputs": [],
   "source": [
    "from sklearn.metrics import precision_score,recall_score,f1_score,accuracy_score"
   ]
  },
  {
   "cell_type": "markdown",
   "id": "6f53dc46-1335-481b-9aa0-543ae600c5e6",
   "metadata": {},
   "source": [
    "## 3.1 lightgbm模型训练\n"
   ]
  },
  {
   "cell_type": "code",
   "execution_count": 25,
   "id": "41920744-7b88-4a72-879b-bc6da4ff2561",
   "metadata": {},
   "outputs": [],
   "source": [
    "import lightgbm\n",
    "from lightgbm import LGBMClassifier"
   ]
  },
  {
   "cell_type": "code",
   "execution_count": 26,
   "id": "d5b0766d-6ca9-482c-bb8f-adcc11b6a2ba",
   "metadata": {},
   "outputs": [],
   "source": [
    "# 设置分类阈值 超过该值的分类为1\n",
    "threshold = 0.3"
   ]
  },
  {
   "cell_type": "code",
   "execution_count": 27,
   "id": "cf7148fd-f4e5-4dc3-92c5-d9f48d09f2eb",
   "metadata": {},
   "outputs": [],
   "source": [
    "model = LGBMClassifier()"
   ]
  },
  {
   "cell_type": "code",
   "execution_count": 28,
   "id": "e5bbfd2b-f6e3-4cb2-9bcf-fa3841d8fc11",
   "metadata": {
    "scrolled": true
   },
   "outputs": [
    {
     "name": "stdout",
     "output_type": "stream",
     "text": [
      "[LightGBM] [Info] Number of positive: 240, number of negative: 168\n",
      "[LightGBM] [Info] Auto-choosing col-wise multi-threading, the overhead of testing was 0.000121 seconds.\n",
      "You can set `force_col_wise=true` to remove the overhead.\n",
      "[LightGBM] [Info] Total Bins 747\n",
      "[LightGBM] [Info] Number of data points in the train set: 408, number of used features: 10\n",
      "[LightGBM] [Info] [binary:BoostFromScore]: pavg=0.588235 -> initscore=0.356675\n",
      "[LightGBM] [Info] Start training from score 0.356675\n",
      "[LightGBM] [Warning] No further splits with positive gain, best gain: -inf\n",
      "[LightGBM] [Warning] No further splits with positive gain, best gain: -inf\n",
      "[LightGBM] [Warning] No further splits with positive gain, best gain: -inf\n",
      "[LightGBM] [Warning] No further splits with positive gain, best gain: -inf\n",
      "[LightGBM] [Warning] No further splits with positive gain, best gain: -inf\n",
      "[LightGBM] [Warning] No further splits with positive gain, best gain: -inf\n",
      "[LightGBM] [Warning] No further splits with positive gain, best gain: -inf\n",
      "[LightGBM] [Warning] No further splits with positive gain, best gain: -inf\n",
      "[LightGBM] [Warning] No further splits with positive gain, best gain: -inf\n",
      "[LightGBM] [Warning] No further splits with positive gain, best gain: -inf\n",
      "[LightGBM] [Warning] No further splits with positive gain, best gain: -inf\n",
      "[LightGBM] [Warning] No further splits with positive gain, best gain: -inf\n",
      "[LightGBM] [Warning] No further splits with positive gain, best gain: -inf\n",
      "[LightGBM] [Warning] No further splits with positive gain, best gain: -inf\n",
      "[LightGBM] [Warning] No further splits with positive gain, best gain: -inf\n",
      "[LightGBM] [Warning] No further splits with positive gain, best gain: -inf\n",
      "[LightGBM] [Warning] No further splits with positive gain, best gain: -inf\n",
      "[LightGBM] [Warning] No further splits with positive gain, best gain: -inf\n",
      "[LightGBM] [Warning] No further splits with positive gain, best gain: -inf\n",
      "[LightGBM] [Warning] No further splits with positive gain, best gain: -inf\n",
      "[LightGBM] [Warning] No further splits with positive gain, best gain: -inf\n",
      "[LightGBM] [Warning] No further splits with positive gain, best gain: -inf\n",
      "[LightGBM] [Warning] No further splits with positive gain, best gain: -inf\n",
      "[LightGBM] [Warning] No further splits with positive gain, best gain: -inf\n",
      "[LightGBM] [Warning] No further splits with positive gain, best gain: -inf\n",
      "[LightGBM] [Warning] No further splits with positive gain, best gain: -inf\n",
      "[LightGBM] [Warning] No further splits with positive gain, best gain: -inf\n",
      "[LightGBM] [Warning] No further splits with positive gain, best gain: -inf\n",
      "[LightGBM] [Warning] No further splits with positive gain, best gain: -inf\n",
      "[LightGBM] [Warning] No further splits with positive gain, best gain: -inf\n",
      "[LightGBM] [Warning] No further splits with positive gain, best gain: -inf\n",
      "[LightGBM] [Warning] No further splits with positive gain, best gain: -inf\n",
      "[LightGBM] [Warning] No further splits with positive gain, best gain: -inf\n",
      "[LightGBM] [Warning] No further splits with positive gain, best gain: -inf\n",
      "[LightGBM] [Warning] No further splits with positive gain, best gain: -inf\n",
      "[LightGBM] [Warning] No further splits with positive gain, best gain: -inf\n",
      "[LightGBM] [Warning] No further splits with positive gain, best gain: -inf\n",
      "[LightGBM] [Warning] No further splits with positive gain, best gain: -inf\n",
      "[LightGBM] [Warning] No further splits with positive gain, best gain: -inf\n",
      "[LightGBM] [Warning] No further splits with positive gain, best gain: -inf\n",
      "[LightGBM] [Warning] No further splits with positive gain, best gain: -inf\n",
      "[LightGBM] [Warning] No further splits with positive gain, best gain: -inf\n",
      "[LightGBM] [Warning] No further splits with positive gain, best gain: -inf\n",
      "[LightGBM] [Warning] No further splits with positive gain, best gain: -inf\n",
      "[LightGBM] [Warning] No further splits with positive gain, best gain: -inf\n",
      "[LightGBM] [Warning] No further splits with positive gain, best gain: -inf\n",
      "[LightGBM] [Warning] No further splits with positive gain, best gain: -inf\n",
      "[LightGBM] [Warning] No further splits with positive gain, best gain: -inf\n",
      "[LightGBM] [Warning] No further splits with positive gain, best gain: -inf\n",
      "[LightGBM] [Warning] No further splits with positive gain, best gain: -inf\n",
      "[LightGBM] [Warning] No further splits with positive gain, best gain: -inf\n",
      "[LightGBM] [Warning] No further splits with positive gain, best gain: -inf\n",
      "[LightGBM] [Warning] No further splits with positive gain, best gain: -inf\n",
      "[LightGBM] [Warning] No further splits with positive gain, best gain: -inf\n",
      "[LightGBM] [Warning] No further splits with positive gain, best gain: -inf\n",
      "[LightGBM] [Warning] No further splits with positive gain, best gain: -inf\n",
      "[LightGBM] [Warning] No further splits with positive gain, best gain: -inf\n",
      "[LightGBM] [Warning] No further splits with positive gain, best gain: -inf\n",
      "[LightGBM] [Warning] No further splits with positive gain, best gain: -inf\n",
      "[LightGBM] [Warning] No further splits with positive gain, best gain: -inf\n",
      "[LightGBM] [Warning] No further splits with positive gain, best gain: -inf\n",
      "[LightGBM] [Warning] No further splits with positive gain, best gain: -inf\n",
      "[LightGBM] [Warning] No further splits with positive gain, best gain: -inf\n",
      "[LightGBM] [Warning] No further splits with positive gain, best gain: -inf\n",
      "[LightGBM] [Warning] No further splits with positive gain, best gain: -inf\n",
      "[LightGBM] [Warning] No further splits with positive gain, best gain: -inf\n",
      "[LightGBM] [Warning] No further splits with positive gain, best gain: -inf\n",
      "[LightGBM] [Warning] No further splits with positive gain, best gain: -inf\n",
      "[LightGBM] [Warning] No further splits with positive gain, best gain: -inf\n",
      "[LightGBM] [Warning] No further splits with positive gain, best gain: -inf\n",
      "[LightGBM] [Warning] No further splits with positive gain, best gain: -inf\n",
      "[LightGBM] [Warning] No further splits with positive gain, best gain: -inf\n",
      "[LightGBM] [Warning] No further splits with positive gain, best gain: -inf\n",
      "[LightGBM] [Warning] No further splits with positive gain, best gain: -inf\n",
      "[LightGBM] [Warning] No further splits with positive gain, best gain: -inf\n",
      "[LightGBM] [Warning] No further splits with positive gain, best gain: -inf\n",
      "[LightGBM] [Warning] No further splits with positive gain, best gain: -inf\n",
      "[LightGBM] [Warning] No further splits with positive gain, best gain: -inf\n",
      "[LightGBM] [Warning] No further splits with positive gain, best gain: -inf\n",
      "[LightGBM] [Warning] No further splits with positive gain, best gain: -inf\n",
      "[LightGBM] [Warning] No further splits with positive gain, best gain: -inf\n",
      "[LightGBM] [Warning] No further splits with positive gain, best gain: -inf\n",
      "[LightGBM] [Warning] No further splits with positive gain, best gain: -inf\n",
      "[LightGBM] [Warning] No further splits with positive gain, best gain: -inf\n",
      "[LightGBM] [Warning] No further splits with positive gain, best gain: -inf\n",
      "[LightGBM] [Warning] No further splits with positive gain, best gain: -inf\n",
      "[LightGBM] [Warning] No further splits with positive gain, best gain: -inf\n",
      "[LightGBM] [Warning] No further splits with positive gain, best gain: -inf\n",
      "[LightGBM] [Warning] No further splits with positive gain, best gain: -inf\n",
      "[LightGBM] [Warning] No further splits with positive gain, best gain: -inf\n",
      "[LightGBM] [Warning] No further splits with positive gain, best gain: -inf\n",
      "[LightGBM] [Warning] No further splits with positive gain, best gain: -inf\n",
      "[LightGBM] [Warning] No further splits with positive gain, best gain: -inf\n",
      "[LightGBM] [Warning] No further splits with positive gain, best gain: -inf\n",
      "[LightGBM] [Warning] No further splits with positive gain, best gain: -inf\n",
      "[LightGBM] [Warning] No further splits with positive gain, best gain: -inf\n",
      "[LightGBM] [Warning] No further splits with positive gain, best gain: -inf\n",
      "[LightGBM] [Warning] No further splits with positive gain, best gain: -inf\n",
      "[LightGBM] [Warning] No further splits with positive gain, best gain: -inf\n",
      "[LightGBM] [Warning] No further splits with positive gain, best gain: -inf\n"
     ]
    },
    {
     "data": {
      "text/html": [
       "<style>#sk-container-id-1 {color: black;background-color: white;}#sk-container-id-1 pre{padding: 0;}#sk-container-id-1 div.sk-toggleable {background-color: white;}#sk-container-id-1 label.sk-toggleable__label {cursor: pointer;display: block;width: 100%;margin-bottom: 0;padding: 0.3em;box-sizing: border-box;text-align: center;}#sk-container-id-1 label.sk-toggleable__label-arrow:before {content: \"▸\";float: left;margin-right: 0.25em;color: #696969;}#sk-container-id-1 label.sk-toggleable__label-arrow:hover:before {color: black;}#sk-container-id-1 div.sk-estimator:hover label.sk-toggleable__label-arrow:before {color: black;}#sk-container-id-1 div.sk-toggleable__content {max-height: 0;max-width: 0;overflow: hidden;text-align: left;background-color: #f0f8ff;}#sk-container-id-1 div.sk-toggleable__content pre {margin: 0.2em;color: black;border-radius: 0.25em;background-color: #f0f8ff;}#sk-container-id-1 input.sk-toggleable__control:checked~div.sk-toggleable__content {max-height: 200px;max-width: 100%;overflow: auto;}#sk-container-id-1 input.sk-toggleable__control:checked~label.sk-toggleable__label-arrow:before {content: \"▾\";}#sk-container-id-1 div.sk-estimator input.sk-toggleable__control:checked~label.sk-toggleable__label {background-color: #d4ebff;}#sk-container-id-1 div.sk-label input.sk-toggleable__control:checked~label.sk-toggleable__label {background-color: #d4ebff;}#sk-container-id-1 input.sk-hidden--visually {border: 0;clip: rect(1px 1px 1px 1px);clip: rect(1px, 1px, 1px, 1px);height: 1px;margin: -1px;overflow: hidden;padding: 0;position: absolute;width: 1px;}#sk-container-id-1 div.sk-estimator {font-family: monospace;background-color: #f0f8ff;border: 1px dotted black;border-radius: 0.25em;box-sizing: border-box;margin-bottom: 0.5em;}#sk-container-id-1 div.sk-estimator:hover {background-color: #d4ebff;}#sk-container-id-1 div.sk-parallel-item::after {content: \"\";width: 100%;border-bottom: 1px solid gray;flex-grow: 1;}#sk-container-id-1 div.sk-label:hover label.sk-toggleable__label {background-color: #d4ebff;}#sk-container-id-1 div.sk-serial::before {content: \"\";position: absolute;border-left: 1px solid gray;box-sizing: border-box;top: 0;bottom: 0;left: 50%;z-index: 0;}#sk-container-id-1 div.sk-serial {display: flex;flex-direction: column;align-items: center;background-color: white;padding-right: 0.2em;padding-left: 0.2em;position: relative;}#sk-container-id-1 div.sk-item {position: relative;z-index: 1;}#sk-container-id-1 div.sk-parallel {display: flex;align-items: stretch;justify-content: center;background-color: white;position: relative;}#sk-container-id-1 div.sk-item::before, #sk-container-id-1 div.sk-parallel-item::before {content: \"\";position: absolute;border-left: 1px solid gray;box-sizing: border-box;top: 0;bottom: 0;left: 50%;z-index: -1;}#sk-container-id-1 div.sk-parallel-item {display: flex;flex-direction: column;z-index: 1;position: relative;background-color: white;}#sk-container-id-1 div.sk-parallel-item:first-child::after {align-self: flex-end;width: 50%;}#sk-container-id-1 div.sk-parallel-item:last-child::after {align-self: flex-start;width: 50%;}#sk-container-id-1 div.sk-parallel-item:only-child::after {width: 0;}#sk-container-id-1 div.sk-dashed-wrapped {border: 1px dashed gray;margin: 0 0.4em 0.5em 0.4em;box-sizing: border-box;padding-bottom: 0.4em;background-color: white;}#sk-container-id-1 div.sk-label label {font-family: monospace;font-weight: bold;display: inline-block;line-height: 1.2em;}#sk-container-id-1 div.sk-label-container {text-align: center;}#sk-container-id-1 div.sk-container {/* jupyter's `normalize.less` sets `[hidden] { display: none; }` but bootstrap.min.css set `[hidden] { display: none !important; }` so we also need the `!important` here to be able to override the default hidden behavior on the sphinx rendered scikit-learn.org. See: https://github.com/scikit-learn/scikit-learn/issues/21755 */display: inline-block !important;position: relative;}#sk-container-id-1 div.sk-text-repr-fallback {display: none;}</style><div id=\"sk-container-id-1\" class=\"sk-top-container\"><div class=\"sk-text-repr-fallback\"><pre>LGBMClassifier()</pre><b>In a Jupyter environment, please rerun this cell to show the HTML representation or trust the notebook. <br />On GitHub, the HTML representation is unable to render, please try loading this page with nbviewer.org.</b></div><div class=\"sk-container\" hidden><div class=\"sk-item\"><div class=\"sk-estimator sk-toggleable\"><input class=\"sk-toggleable__control sk-hidden--visually\" id=\"sk-estimator-id-1\" type=\"checkbox\" checked><label for=\"sk-estimator-id-1\" class=\"sk-toggleable__label sk-toggleable__label-arrow\">LGBMClassifier</label><div class=\"sk-toggleable__content\"><pre>LGBMClassifier()</pre></div></div></div></div></div>"
      ],
      "text/plain": [
       "LGBMClassifier()"
      ]
     },
     "execution_count": 28,
     "metadata": {},
     "output_type": "execute_result"
    }
   ],
   "source": [
    "model.fit(train_X,train_y)"
   ]
  },
  {
   "cell_type": "code",
   "execution_count": 29,
   "id": "cf97d61e-d8b5-4329-9450-66d121200663",
   "metadata": {},
   "outputs": [],
   "source": [
    "pred_test_y = model.predict(test_X)"
   ]
  },
  {
   "cell_type": "code",
   "execution_count": 30,
   "id": "90c0dfd6-1690-4232-8686-a876c2dfbcf8",
   "metadata": {},
   "outputs": [
    {
     "data": {
      "text/plain": [
       "array([0, 0, 0, 1, 0, 0, 1, 1, 0, 0, 0, 1, 1, 1, 0, 0, 0, 0, 1, 1, 1, 1,\n",
       "       1, 1, 1, 0, 0, 0, 1, 0, 0, 0, 0, 0, 0, 0, 0, 0, 0, 0, 0, 0, 0, 0,\n",
       "       0, 0, 0, 0, 0, 0, 0, 0, 0, 0, 1, 1, 1, 1, 1, 1, 1, 1, 1, 1, 1, 1,\n",
       "       1, 1, 1, 1, 1, 1, 1, 1, 1, 1, 1, 1, 1, 1, 1, 1, 1], dtype=int64)"
      ]
     },
     "execution_count": 30,
     "metadata": {},
     "output_type": "execute_result"
    }
   ],
   "source": [
    "pred_test_y"
   ]
  },
  {
   "cell_type": "code",
   "execution_count": 31,
   "id": "9c1f68d5-43e5-4ee2-b997-505985e0d34e",
   "metadata": {},
   "outputs": [],
   "source": [
    "pred_train_y = model.predict(train_X)"
   ]
  },
  {
   "cell_type": "markdown",
   "id": "b4d7bc0e-e30c-4003-9a0d-9d3b1e7011b9",
   "metadata": {},
   "source": [
    "### 训练集分数"
   ]
  },
  {
   "cell_type": "code",
   "execution_count": 32,
   "id": "dc5372f5-90d2-4c27-a110-776cca947cf8",
   "metadata": {},
   "outputs": [],
   "source": [
    "p_score = precision_score(train_y, pred_train_y)\n",
    "r_score = recall_score(train_y, pred_train_y)\n",
    "f_score = f1_score(train_y, pred_train_y)\n",
    "acc_score = accuracy_score(train_y, pred_train_y)"
   ]
  },
  {
   "cell_type": "markdown",
   "id": "477d28b8-6900-4f00-a135-92f265c65424",
   "metadata": {},
   "source": [
    "### 训练集结果"
   ]
  },
  {
   "cell_type": "code",
   "execution_count": 33,
   "id": "21288ec4-fb05-463e-9b02-d4c190bab182",
   "metadata": {},
   "outputs": [
    {
     "name": "stdout",
     "output_type": "stream",
     "text": [
      "Model:LGBMClassifier(), Recall:1.0, Precision:1.0 F1:1.0 Accuracy:1.0\n"
     ]
    }
   ],
   "source": [
    "print(f'Model:{model.__str__()}, Recall:{r_score:.4}, Precision:{p_score:.4} F1:{f_score:.4} Accuracy:{acc_score:.4}')"
   ]
  },
  {
   "cell_type": "markdown",
   "id": "d8eb2afa-d3f4-4c1b-a493-e93898fd5b0f",
   "metadata": {},
   "source": [
    "### 测试集分数"
   ]
  },
  {
   "cell_type": "code",
   "execution_count": 34,
   "id": "50d9525b-722f-447a-961c-480e04d2d872",
   "metadata": {},
   "outputs": [],
   "source": [
    "p_score = precision_score(test_y, pred_test_y)\n",
    "r_score = recall_score(test_y, pred_test_y)\n",
    "f_score = f1_score(test_y, pred_test_y)\n",
    "acc_score = accuracy_score(test_y, pred_test_y)"
   ]
  },
  {
   "cell_type": "markdown",
   "id": "14aece15-1151-4a63-b881-1ab31390b3ae",
   "metadata": {},
   "source": [
    "### 测试集结果"
   ]
  },
  {
   "cell_type": "code",
   "execution_count": 35,
   "id": "b1baf45d-36f7-48c9-b27b-0fe2064784c7",
   "metadata": {},
   "outputs": [
    {
     "name": "stdout",
     "output_type": "stream",
     "text": [
      "Model:LGBMClassifier(), Recall:0.9535, Precision:0.9535 F1:0.9535 Accuracy:0.9518\n"
     ]
    }
   ],
   "source": [
    "print(f'Model:{model.__str__()}, Recall:{r_score:.4}, Precision:{p_score:.4} F1:{f_score:.4} Accuracy:{acc_score:.4}')"
   ]
  },
  {
   "cell_type": "markdown",
   "id": "e1f301b4-79ff-4237-be26-a57ade1f85ed",
   "metadata": {},
   "source": [
    "## 3.2 输出特征重要性"
   ]
  },
  {
   "cell_type": "code",
   "execution_count": 36,
   "id": "f4c8754c-c14f-40fb-82b1-8014a5feba43",
   "metadata": {},
   "outputs": [
    {
     "data": {
      "text/plain": [
       "array([242, 188,  72, 162,  73,   2,  39, 252, 337, 316])"
      ]
     },
     "execution_count": 36,
     "metadata": {},
     "output_type": "execute_result"
    }
   ],
   "source": [
    "model.feature_importances_"
   ]
  },
  {
   "cell_type": "code",
   "execution_count": 49,
   "id": "65ca9f12-83b8-4623-877f-41b7c1cebed2",
   "metadata": {},
   "outputs": [
    {
     "data": {
      "text/plain": [
       "[('ss', 337),\n",
       " ('eff', 316),\n",
       " ('rppower', 252),\n",
       " ('q/qm', 242),\n",
       " ('ploss', 188),\n",
       " ('vpa', 162),\n",
       " ('papower', 73),\n",
       " ('fre', 72),\n",
       " ('ce', 39),\n",
       " ('ch', 2)]"
      ]
     },
     "execution_count": 49,
     "metadata": {},
     "output_type": "execute_result"
    }
   ],
   "source": [
    "sorted(zip([i for i in train_df.columns[1:]], model.feature_importances_), key=lambda x:x[1] ,reverse=True)"
   ]
  },
  {
   "cell_type": "code",
   "execution_count": 50,
   "id": "74376157-e38e-467b-81d4-05b8d5af0d18",
   "metadata": {},
   "outputs": [],
   "source": [
    "feature_names = [i[0] for i in sorted(zip([i for i in train_df.columns[1:]], model.feature_importances_), key=lambda x:x[1] ,reverse=False)]"
   ]
  },
  {
   "cell_type": "code",
   "execution_count": 51,
   "id": "667596cf-eb75-4668-9927-837f80bfb7a6",
   "metadata": {},
   "outputs": [
    {
     "data": {
      "text/plain": [
       "['ch', 'ce', 'fre', 'papower', 'vpa', 'ploss', 'q/qm', 'rppower', 'eff', 'ss']"
      ]
     },
     "execution_count": 51,
     "metadata": {},
     "output_type": "execute_result"
    }
   ],
   "source": [
    "feature_names"
   ]
  },
  {
   "cell_type": "code",
   "execution_count": 52,
   "id": "1bcc04fb-c41a-4112-8ea2-d4a474198088",
   "metadata": {},
   "outputs": [
    {
     "data": {
      "text/plain": [
       "[Text(0, 0, 'ch'),\n",
       " Text(0, 1, 'ce'),\n",
       " Text(0, 2, 'fre'),\n",
       " Text(0, 3, 'papower'),\n",
       " Text(0, 4, 'vpa'),\n",
       " Text(0, 5, 'ploss'),\n",
       " Text(0, 6, 'q/qm'),\n",
       " Text(0, 7, 'rppower'),\n",
       " Text(0, 8, 'eff'),\n",
       " Text(0, 9, 'ss')]"
      ]
     },
     "execution_count": 52,
     "metadata": {},
     "output_type": "execute_result"
    },
    {
     "data": {
      "image/png": "[encoded data removed]",
      "text/plain": [
       "<Figure size 640x480 with 1 Axes>"
      ]
     },
     "metadata": {},
     "output_type": "display_data"
    }
   ],
   "source": [
    "ax = lightgbm.plot_importance(booster=model,\n",
    "                    )\n",
    "ax.set_yticklabels(feature_names)"
   ]
  },
  {
   "cell_type": "code",
   "execution_count": null,
   "id": "75e8c277-df83-4a0b-8df9-c52dc0e97943",
   "metadata": {},
   "outputs": [],
   "source": []
  }
 ],
 "metadata": {
  "kernelspec": {
   "display_name": "Python 3 (ipykernel)",
   "language": "python",
   "name": "python3"
  },
  "language_info": {
   "codemirror_mode": {
    "name": "ipython",
    "version": 3
   },
   "file_extension": ".py",
   "mimetype": "text/x-python",
   "name": "python",
   "nbconvert_exporter": "python",
   "pygments_lexer": "ipython3",
   "version": "3.11.5"
  }
 },
 "nbformat": 4,
 "nbformat_minor": 5
}
